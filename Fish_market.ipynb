{
  "nbformat": 4,
  "nbformat_minor": 0,
  "metadata": {
    "colab": {
      "provenance": [],
      "authorship_tag": "ABX9TyNgffNhhJTJ21sg5VlOc/hX",
      "include_colab_link": true
    },
    "kernelspec": {
      "name": "python3",
      "display_name": "Python 3"
    },
    "language_info": {
      "name": "python"
    }
  },
  "cells": [
    {
      "cell_type": "markdown",
      "metadata": {
        "id": "view-in-github",
        "colab_type": "text"
      },
      "source": [
        "<a href=\"https://colab.research.google.com/github/Siddharth131020/Machine-learning/blob/main/Fish_market.ipynb\" target=\"_parent\"><img src=\"https://colab.research.google.com/assets/colab-badge.svg\" alt=\"Open In Colab\"/></a>"
      ]
    },
    {
      "cell_type": "code",
      "execution_count": 1,
      "metadata": {
        "id": "zYCjaCIa3uxM"
      },
      "outputs": [],
      "source": [
        "import numpy as np\n",
        "import matplotlib.pyplot as plt\n",
        "import pandas as pd"
      ]
    },
    {
      "cell_type": "code",
      "source": [
        "from google.colab import drive\n",
        "drive.mount('/content/drive')"
      ],
      "metadata": {
        "colab": {
          "base_uri": "https://localhost:8080/"
        },
        "id": "LpBrJjdu4N9y",
        "outputId": "38cf4a35-2a90-40a3-a752-c43ffe9ffbdd"
      },
      "execution_count": 2,
      "outputs": [
        {
          "output_type": "stream",
          "name": "stdout",
          "text": [
            "Mounted at /content/drive\n"
          ]
        }
      ]
    },
    {
      "cell_type": "code",
      "source": [
        "dataset = pd.read_csv('/content/Fish.csv')\n",
        "dataset.info()"
      ],
      "metadata": {
        "colab": {
          "base_uri": "https://localhost:8080/"
        },
        "id": "s93RUC-Y4PwD",
        "outputId": "e73245d9-1715-4943-f337-e2c4c3002eb4"
      },
      "execution_count": 5,
      "outputs": [
        {
          "output_type": "stream",
          "name": "stdout",
          "text": [
            "<class 'pandas.core.frame.DataFrame'>\n",
            "RangeIndex: 159 entries, 0 to 158\n",
            "Data columns (total 7 columns):\n",
            " #   Column   Non-Null Count  Dtype  \n",
            "---  ------   --------------  -----  \n",
            " 0   Species  159 non-null    object \n",
            " 1   Weight   159 non-null    float64\n",
            " 2   Length1  159 non-null    float64\n",
            " 3   Length2  159 non-null    float64\n",
            " 4   Length3  159 non-null    float64\n",
            " 5   Height   159 non-null    float64\n",
            " 6   Width    159 non-null    float64\n",
            "dtypes: float64(6), object(1)\n",
            "memory usage: 8.8+ KB\n"
          ]
        }
      ]
    },
    {
      "cell_type": "code",
      "source": [
        "x=dataset.iloc[:,[2,3,4,5,6]].values\n",
        "y=dataset.iloc[:,1].values"
      ],
      "metadata": {
        "id": "1HcxQ-f54dAX"
      },
      "execution_count": 6,
      "outputs": []
    },
    {
      "cell_type": "code",
      "source": [
        "print(f\"{x.shape} {y.shape}\")\n"
      ],
      "metadata": {
        "colab": {
          "base_uri": "https://localhost:8080/"
        },
        "id": "Jtso1Z-d4nCy",
        "outputId": "1b9b9555-cae9-4104-f9b8-3ad09310d21f"
      },
      "execution_count": 7,
      "outputs": [
        {
          "output_type": "stream",
          "name": "stdout",
          "text": [
            "(159, 5) (159,)\n"
          ]
        }
      ]
    },
    {
      "cell_type": "code",
      "source": [
        "from sklearn.model_selection import train_test_split\n",
        "x_train, x_test, y_train, y_test = train_test_split(x, y, test_size = 0.25, random_state = 98)\n",
        "x_train.shape, x_test.shape, y_train.shape, y_test.shape"
      ],
      "metadata": {
        "colab": {
          "base_uri": "https://localhost:8080/"
        },
        "id": "z5GhhPrl4pU8",
        "outputId": "5abca678-8b1c-42d4-ee9a-a6d7c40cc049"
      },
      "execution_count": 8,
      "outputs": [
        {
          "output_type": "execute_result",
          "data": {
            "text/plain": [
              "((119, 5), (40, 5), (119,), (40,))"
            ]
          },
          "metadata": {},
          "execution_count": 8
        }
      ]
    },
    {
      "cell_type": "code",
      "source": [
        "u = np.mean(x_train, axis = 0)\n",
        "std = np.std(x_train, axis = 0)\n",
        "print(u.shape, std.shape)"
      ],
      "metadata": {
        "colab": {
          "base_uri": "https://localhost:8080/"
        },
        "id": "rj59iaeL4rAp",
        "outputId": "0508fb4c-a770-46b3-aa8e-085863c8d8d1"
      },
      "execution_count": 9,
      "outputs": [
        {
          "output_type": "stream",
          "name": "stdout",
          "text": [
            "(5,) (5,)\n"
          ]
        }
      ]
    },
    {
      "cell_type": "code",
      "source": [
        "x_train = (x_train - u)/std\n",
        "x_test = (x_test-u)/std\n",
        "x_train = np.array(x_train)\n",
        "x_test = np.array(x_test)"
      ],
      "metadata": {
        "id": "kCY9E7L-42fi"
      },
      "execution_count": 10,
      "outputs": []
    },
    {
      "cell_type": "code",
      "source": [
        "plt.style.use('seaborn-v0_8-whitegrid')\n",
        "plt.scatter(x_train[:, 0], y_train)\n",
        "plt.show()"
      ],
      "metadata": {
        "colab": {
          "base_uri": "https://localhost:8080/",
          "height": 425
        },
        "id": "JuZK_bW-45IQ",
        "outputId": "1a512cfa-c0db-413c-ca62-0e20ccfc6767"
      },
      "execution_count": 11,
      "outputs": [
        {
          "output_type": "display_data",
          "data": {
            "text/plain": [
              "<Figure size 640x480 with 1 Axes>"
            ],
            "image/png": "[encoded data removed]"
          },
          "metadata": {}
        }
      ]
    },
    {
      "cell_type": "code",
      "source": [
        "plt.style.available?"
      ],
      "metadata": {
        "id": "wGVZsK9T47U3"
      },
      "execution_count": 12,
      "outputs": []
    },
    {
      "cell_type": "code",
      "source": [
        "ones = np.ones((x_train.shape[0], 1))\n",
        "x_train = np.hstack((ones, x_train))\n",
        "print(x_train[:4, :])"
      ],
      "metadata": {
        "colab": {
          "base_uri": "https://localhost:8080/"
        },
        "id": "Rxjwewsr49vy",
        "outputId": "d89a81e3-d2a8-4553-ea88-8f7f019979f5"
      },
      "execution_count": 13,
      "outputs": [
        {
          "output_type": "stream",
          "name": "stdout",
          "text": [
            "[[ 1.         -1.17034869 -1.17618259 -1.16928945 -0.56168929 -1.17947165]\n",
            " [ 1.          2.89689784  2.86277397  2.73731239  0.12001404  1.00553814]\n",
            " [ 1.          2.1458715   2.1094405   1.99120174 -0.03194166  1.02105652]\n",
            " [ 1.          0.36096475  0.34863696  0.28939879 -0.78928457 -0.57391277]]\n"
          ]
        }
      ]
    },
    {
      "cell_type": "code",
      "source": [
        "def hypothesis(x, theta):\n",
        "    return np.dot(x, theta)"
      ],
      "metadata": {
        "id": "xtTJTaOn5AUQ"
      },
      "execution_count": 14,
      "outputs": []
    },
    {
      "cell_type": "code",
      "source": [
        "def cost(X, Y, theta):\n",
        "    m = X.shape[0]\n",
        "    total_error = 0\n",
        "\n",
        "    y_p = hypothesis(X, theta)\n",
        "    total_error = np.sum((y_p - Y)**2)\n",
        "\n",
        "    return total_error/m"
      ],
      "metadata": {
        "id": "P_DKIJ2F5D0H"
      },
      "execution_count": 15,
      "outputs": []
    },
    {
      "cell_type": "code",
      "source": [
        "def gradient(X, Y, theta):\n",
        "\n",
        "    y_p = hypothesis(X, theta)\n",
        "\n",
        "    grad = np.dot(X.T, (y_p - Y))\n",
        "\n",
        "    return grad/X.shape[0]"
      ],
      "metadata": {
        "id": "9sIG5lMW5Fp1"
      },
      "execution_count": 16,
      "outputs": []
    },
    {
      "cell_type": "code",
      "source": [
        "def gradient_descent(X, Y, learning_rate = 0.001, max_steps = 500):\n",
        "\n",
        "    m, n = X.shape\n",
        "    theta = np.zeros((n, ))\n",
        "    cost_epoch = []\n",
        "\n",
        "    for i in range(max_steps):\n",
        "\n",
        "        grad = gradient(X, Y, theta)\n",
        "\n",
        "        e = cost(X, Y, theta)\n",
        "        cost_epoch.append(e)\n",
        "\n",
        "        theta = theta - learning_rate*grad\n",
        "\n",
        "    return theta, cost_epoch"
      ],
      "metadata": {
        "id": "zqkMphEO5H3S"
      },
      "execution_count": 17,
      "outputs": []
    },
    {
      "cell_type": "code",
      "source": [
        "theta, cost_epoch = gradient_descent(x_train, y_train, learning_rate=0.3)\n"
      ],
      "metadata": {
        "id": "Gt1gensx5Jjg"
      },
      "execution_count": 18,
      "outputs": []
    },
    {
      "cell_type": "code",
      "source": [
        "theta\n"
      ],
      "metadata": {
        "colab": {
          "base_uri": "https://localhost:8080/"
        },
        "id": "R1hutb6m5LKM",
        "outputId": "5a38ab61-11f8-4ccd-b412-a38cad2d1378"
      },
      "execution_count": 19,
      "outputs": [
        {
          "output_type": "execute_result",
          "data": {
            "text/plain": [
              "array([403.8       , 158.12079842,  96.78880738, -33.85217645,\n",
              "        60.55764743,  83.82519858])"
            ]
          },
          "metadata": {},
          "execution_count": 19
        }
      ]
    },
    {
      "cell_type": "code",
      "source": [
        "cost_epoch\n"
      ],
      "metadata": {
        "colab": {
          "base_uri": "https://localhost:8080/"
        },
        "id": "4qko05ks5M0H",
        "outputId": "0f2c8b71-c40f-488c-9c0a-5d893372480e"
      },
      "execution_count": 20,
      "outputs": [
        {
          "output_type": "execute_result",
          "data": {
            "text/plain": [
              "[296082.73579831934,\n",
              " 107706.65377404049,\n",
              " 55967.09342977132,\n",
              " 34841.10518820647,\n",
              " 24926.179851194243,\n",
              " 20110.058604256985,\n",
              " 17751.702669482882,\n",
              " 16593.804520750087,\n",
              " 16024.032950432975,\n",
              " 15742.670799674695,\n",
              " 15602.841630738878,\n",
              " 15532.53791960057,\n",
              " 15496.444607547983,\n",
              " 15477.233309926365,\n",
              " 15466.39477571631,\n",
              " 15459.745323541581,\n",
              " 15455.22390031698,\n",
              " 15451.81183856078,\n",
              " 15449.002951910647,\n",
              " 15446.543453705855,\n",
              " 15444.304203453858,\n",
              " 15442.217877414341,\n",
              " 15440.248012809618,\n",
              " 15438.373714446001,\n",
              " 15436.582068263673,\n",
              " 15434.864354905669,\n",
              " 15433.2141425713,\n",
              " 15431.626313371484,\n",
              " 15430.096556385868,\n",
              " 15428.62109623664,\n",
              " 15427.196542109768,\n",
              " 15425.819799534882,\n",
              " 15424.48801570323,\n",
              " 15423.198543308748,\n",
              " 15421.94891504449,\n",
              " 15420.736824524618,\n",
              " 15419.560111283708,\n",
              " 15418.416748499285,\n",
              " 15417.304832623126,\n",
              " 15416.222574409972,\n",
              " 15415.168291008704,\n",
              " 15414.140398888205,\n",
              " 15413.137407437687,\n",
              " 15412.15791312548,\n",
              " 15411.20059413033,\n",
              " 15410.264205379623,\n",
              " 15409.347573944142,\n",
              " 15408.449594749041,\n",
              " 15407.569226568963,\n",
              " 15406.705488280539,\n",
              " 15405.857455350302,\n",
              " 15405.024256538927,\n",
              " 15404.205070805549,\n",
              " 15403.39912439785,\n",
              " 15402.605688115045,\n",
              " 15401.824074732502,\n",
              " 15401.053636577451,\n",
              " 15400.29376324636,\n",
              " 15399.5438794553,\n",
              " 15398.803443015113,\n",
              " 15398.07194292398,\n",
              " 15397.348897570448,\n",
              " 15396.633853040217,\n",
              " 15395.926381520832,\n",
              " 15395.226079798384,\n",
              " 15394.532567840934,\n",
              " 15393.845487463594,\n",
              " 15393.164501070592,\n",
              " 15392.48929046981,\n",
              " 15391.819555755541,\n",
              " 15391.155014255712,\n",
              " 15390.495399539675,\n",
              " 15389.840460483136,\n",
              " 15389.189960386984,\n",
              " 15388.543676146774,\n",
              " 15387.901397470108,\n",
              " 15387.262926139061,\n",
              " 15386.628075315026,\n",
              " 15385.996668883628,\n",
              " 15385.36854083738,\n",
              " 15384.743534693782,\n",
              " 15384.121502947033,\n",
              " 15383.502306551247,\n",
              " 15382.885814433417,\n",
              " 15382.271903034476,\n",
              " 15381.660455876698,\n",
              " 15381.051363156084,\n",
              " 15380.444521358155,\n",
              " 15379.8398328959,\n",
              " 15379.237205768552,\n",
              " 15378.63655323999,\n",
              " 15378.037793535745,\n",
              " 15377.440849557295,\n",
              " 15376.845648612967,\n",
              " 15376.25212216422,\n",
              " 15375.6602055866,\n",
              " 15375.069837944406,\n",
              " 15374.480961778387,\n",
              " 15373.893522905606,\n",
              " 15373.30747023087,\n",
              " 15372.722755568959,\n",
              " 15372.139333477187,\n",
              " 15371.557161097484,\n",
              " 15370.976198007653,\n",
              " 15370.39640608117,\n",
              " 15369.817749355057,\n",
              " 15369.240193905309,\n",
              " 15368.663707729613,\n",
              " 15368.088260636674,\n",
              " 15367.513824142039,\n",
              " 15366.94037136981,\n",
              " 15366.36787696013,\n",
              " 15365.796316981889,\n",
              " 15365.225668850502,\n",
              " 15364.655911250451,\n",
              " 15364.087024062208,\n",
              " 15363.51898829347,\n",
              " 15362.951786014233,\n",
              " 15362.385400295718,\n",
              " 15361.819815152712,\n",
              " 15361.255015489318,\n",
              " 15360.690987047765,\n",
              " 15360.127716360195,\n",
              " 15359.565190703204,\n",
              " 15359.00339805504,\n",
              " 15358.442327055216,\n",
              " 15357.881966966472,\n",
              " 15357.322307638935,\n",
              " 15356.76333947635,\n",
              " 15356.205053404188,\n",
              " 15355.647440839703,\n",
              " 15355.090493663576,\n",
              " 15354.534204193345,\n",
              " 15353.97856515824,\n",
              " 15353.423569675519,\n",
              " 15352.869211228157,\n",
              " 15352.315483643819,\n",
              " 15351.762381075061,\n",
              " 15351.209897980654,\n",
              " 15350.658029107963,\n",
              " 15350.106769476395,\n",
              " 15349.556114361741,\n",
              " 15349.006059281464,\n",
              " 15348.456599980798,\n",
              " 15347.90773241968,\n",
              " 15347.359452760431,\n",
              " 15346.811757356087,\n",
              " 15346.264642739516,\n",
              " 15345.718105613041,\n",
              " 15345.172142838732,\n",
              " 15344.626751429252,\n",
              " 15344.081928539208,\n",
              " 15343.537671456997,\n",
              " 15342.993977597152,\n",
              " 15342.450844493103,\n",
              " 15341.90826979036,\n",
              " 15341.366251240092,\n",
              " 15340.824786693065,\n",
              " 15340.28387409398,\n",
              " 15339.743511476025,\n",
              " 15339.203696955865,\n",
              " 15338.664428728849,\n",
              " 15338.125705064493,\n",
              " 15337.587524302293,\n",
              " 15337.04988484766,\n",
              " 15336.512785168183,\n",
              " 15335.976223790094,\n",
              " 15335.440199294904,\n",
              " 15334.904710316256,\n",
              " 15334.369755536936,\n",
              " 15333.835333686113,\n",
              " 15333.30144353666,\n",
              " 15332.76808390268,\n",
              " 15332.235253637164,\n",
              " 15331.702951629793,\n",
              " 15331.171176804826,\n",
              " 15330.639928119157,\n",
              " 15330.109204560482,\n",
              " 15329.579005145511,\n",
              " 15329.049328918381,\n",
              " 15328.52017494906,\n",
              " 15327.991542331905,\n",
              " 15327.463430184302,\n",
              " 15326.93583764535,\n",
              " 15326.408763874653,\n",
              " 15325.882208051145,\n",
              " 15325.35616937205,\n",
              " 15324.830647051818,\n",
              " 15324.305640321169,\n",
              " 15323.781148426204,\n",
              " 15323.257170627538,\n",
              " 15322.733706199488,\n",
              " 15322.21075442932,\n",
              " 15321.688314616526,\n",
              " 15321.166386072155,\n",
              " 15320.644968118171,\n",
              " 15320.12406008687,\n",
              " 15319.603661320283,\n",
              " 15319.08377116968,\n",
              " 15318.564388995033,\n",
              " 15318.045514164565,\n",
              " 15317.52714605431,\n",
              " 15317.009284047661,\n",
              " 15316.49192753501,\n",
              " 15315.975075913351,\n",
              " 15315.458728585934,\n",
              " 15314.942884961929,\n",
              " 15314.427544456144,\n",
              " 15313.912706488672,\n",
              " 15313.398370484678,\n",
              " 15312.884535874075,\n",
              " 15312.37120209133,\n",
              " 15311.858368575202,\n",
              " 15311.346034768536,\n",
              " 15310.834200118032,\n",
              " 15310.322864074096,\n",
              " 15309.812026090613,\n",
              " 15309.30168562479,\n",
              " 15308.791842136996,\n",
              " 15308.282495090605,\n",
              " 15307.77364395186,\n",
              " 15307.265288189716,\n",
              " 15306.757427275721,\n",
              " 15306.250060683918,\n",
              " 15305.743187890681,\n",
              " 15305.236808374655,\n",
              " 15304.730921616634,\n",
              " 15304.225527099457,\n",
              " 15303.720624307929,\n",
              " 15303.216212728741,\n",
              " 15302.712291850376,\n",
              " 15302.208861163039,\n",
              " 15301.70592015859,\n",
              " 15301.20346833047,\n",
              " 15300.701505173642,\n",
              " 15300.200030184527,\n",
              " 15299.699042860957,\n",
              " 15299.198542702095,\n",
              " 15298.69852920844,\n",
              " 15298.199001881712,\n",
              " 15297.699960224863,\n",
              " 15297.20140374198,\n",
              " 15296.703331938326,\n",
              " 15296.205744320201,\n",
              " 15295.708640395002,\n",
              " 15295.212019671118,\n",
              " 15294.715881657952,\n",
              " 15294.220225865845,\n",
              " 15293.725051806083,\n",
              " 15293.230358990855,\n",
              " 15292.73614693323,\n",
              " 15292.242415147144,\n",
              " 15291.749163147348,\n",
              " 15291.25639044943,\n",
              " 15290.764096569754,\n",
              " 15290.27228102548,\n",
              " 15289.780943334497,\n",
              " 15289.290083015478,\n",
              " 15288.799699587791,\n",
              " 15288.30979257151,\n",
              " 15287.820361487438,\n",
              " 15287.331405857036,\n",
              " 15286.842925202456,\n",
              " 15286.354919046491,\n",
              " 15285.867386912596,\n",
              " 15285.38032832486,\n",
              " 15284.893742808013,\n",
              " 15284.407629887382,\n",
              " 15283.921989088922,\n",
              " 15283.43681993918,\n",
              " 15282.952121965307,\n",
              " 15282.467894695035,\n",
              " 15281.984137656678,\n",
              " 15281.500850379116,\n",
              " 15281.01803239181,\n",
              " 15280.53568322477,\n",
              " 15280.053802408565,\n",
              " 15279.572389474304,\n",
              " 15279.091443953665,\n",
              " 15278.610965378839,\n",
              " 15278.13095328256,\n",
              " 15277.65140719811,\n",
              " 15277.172326659262,\n",
              " 15276.693711200347,\n",
              " 15276.2155603562,\n",
              " 15275.737873662174,\n",
              " 15275.26065065412,\n",
              " 15274.783890868426,\n",
              " 15274.307593841962,\n",
              " 15273.831759112114,\n",
              " 15273.35638621675,\n",
              " 15272.881474694264,\n",
              " 15272.40702408353,\n",
              " 15271.933033923899,\n",
              " 15271.459503755248,\n",
              " 15270.986433117905,\n",
              " 15270.513821552717,\n",
              " 15270.041668600998,\n",
              " 15269.569973804533,\n",
              " 15269.098736705622,\n",
              " 15268.627956847009,\n",
              " 15268.157633771936,\n",
              " 15267.687767024108,\n",
              " 15267.21835614773,\n",
              " 15266.749400687435,\n",
              " 15266.280900188369,\n",
              " 15265.812854196132,\n",
              " 15265.345262256786,\n",
              " 15264.878123916877,\n",
              " 15264.411438723391,\n",
              " 15263.94520622381,\n",
              " 15263.47942596607,\n",
              " 15263.014097498564,\n",
              " 15262.549220370125,\n",
              " 15262.0847941301,\n",
              " 15261.620818328263,\n",
              " 15261.157292514838,\n",
              " 15260.69421624053,\n",
              " 15260.231589056488,\n",
              " 15259.769410514326,\n",
              " 15259.307680166103,\n",
              " 15258.846397564339,\n",
              " 15258.38556226201,\n",
              " 15257.925173812537,\n",
              " 15257.465231769804,\n",
              " 15257.00573568814,\n",
              " 15256.546685122332,\n",
              " 15256.088079627601,\n",
              " 15255.629918759632,\n",
              " 15255.172202074558,\n",
              " 15254.71492912896,\n",
              " 15254.258099479855,\n",
              " 15253.801712684724,\n",
              " 15253.345768301491,\n",
              " 15252.890265888509,\n",
              " 15252.4352050046,\n",
              " 15251.980585209012,\n",
              " 15251.526406061446,\n",
              " 15251.072667122038,\n",
              " 15250.619367951389,\n",
              " 15250.166508110504,\n",
              " 15249.714087160879,\n",
              " 15249.262104664409,\n",
              " 15248.810560183441,\n",
              " 15248.359453280773,\n",
              " 15247.908783519644,\n",
              " 15247.458550463709,\n",
              " 15247.00875367708,\n",
              " 15246.559392724308,\n",
              " 15246.110467170372,\n",
              " 15245.6619765807,\n",
              " 15245.213920521146,\n",
              " 15244.766298558003,\n",
              " 15244.319110257999,\n",
              " 15243.872355188294,\n",
              " 15243.426032916497,\n",
              " 15242.98014301064,\n",
              " 15242.53468503918,\n",
              " 15242.08965857102,\n",
              " 15241.645063175494,\n",
              " 15241.200898422361,\n",
              " 15240.75716388183,\n",
              " 15240.31385912452,\n",
              " 15239.870983721492,\n",
              " 15239.428537244221,\n",
              " 15238.986519264648,\n",
              " 15238.544929355105,\n",
              " 15238.10376708837,\n",
              " 15237.66303203766,\n",
              " 15237.222723776593,\n",
              " 15236.782841879236,\n",
              " 15236.343385920083,\n",
              " 15235.90435547405,\n",
              " 15235.46575011646,\n",
              " 15235.027569423099,\n",
              " 15234.58981297015,\n",
              " 15234.152480334234,\n",
              " 15233.715571092394,\n",
              " 15233.279084822088,\n",
              " 15232.843021101216,\n",
              " 15232.40737950809,\n",
              " 15231.97215962144,\n",
              " 15231.53736102043,\n",
              " 15231.102983284633,\n",
              " 15230.669025994053,\n",
              " 15230.23548872911,\n",
              " 15229.802371070658,\n",
              " 15229.369672599953,\n",
              " 15228.937392898673,\n",
              " 15228.505531548924,\n",
              " 15228.074088133231,\n",
              " 15227.643062234527,\n",
              " 15227.212453436183,\n",
              " 15226.78226132196,\n",
              " 15226.352485476056,\n",
              " 15225.923125483074,\n",
              " 15225.494180928057,\n",
              " 15225.06565139643,\n",
              " 15224.63753647406,\n",
              " 15224.209835747213,\n",
              " 15223.78254880258,\n",
              " 15223.35567522726,\n",
              " 15222.929214608772,\n",
              " 15222.50316653504,\n",
              " 15222.077530594406,\n",
              " 15221.652306375629,\n",
              " 15221.22749346787,\n",
              " 15220.803091460712,\n",
              " 15220.379099944143,\n",
              " 15219.95551850856,\n",
              " 15219.532346744772,\n",
              " 15219.109584244014,\n",
              " 15218.687230597901,\n",
              " 15218.265285398482,\n",
              " 15217.843748238198,\n",
              " 15217.422618709914,\n",
              " 15217.001896406897,\n",
              " 15216.581580922813,\n",
              " 15216.161671851745,\n",
              " 15215.742168788187,\n",
              " 15215.323071327019,\n",
              " 15214.90437906355,\n",
              " 15214.486091593479,\n",
              " 15214.06820851293,\n",
              " 15213.650729418398,\n",
              " 15213.233653906816,\n",
              " 15212.816981575506,\n",
              " 15212.400712022194,\n",
              " 15211.984844845007,\n",
              " 15211.56937964248,\n",
              " 15211.154316013552,\n",
              " 15210.739653557554,\n",
              " 15210.325391874223,\n",
              " 15209.911530563708,\n",
              " 15209.498069226544,\n",
              " 15209.085007463671,\n",
              " 15208.672344876435,\n",
              " 15208.260081066572,\n",
              " 15207.848215636219,\n",
              " 15207.436748187916,\n",
              " 15207.025678324606,\n",
              " 15206.61500564962,\n",
              " 15206.204729766687,\n",
              " 15205.794850279932,\n",
              " 15205.385366793895,\n",
              " 15204.976278913484,\n",
              " 15204.567586244026,\n",
              " 15204.159288391233,\n",
              " 15203.751384961208,\n",
              " 15203.34387556046,\n",
              " 15202.936759795883,\n",
              " 15202.53003727478,\n",
              " 15202.123707604826,\n",
              " 15201.717770394092,\n",
              " 15201.312225251068,\n",
              " 15200.9070717846,\n",
              " 15200.502309603964,\n",
              " 15200.097938318786,\n",
              " 15199.693957539113,\n",
              " 15199.290366875379,\n",
              " 15198.887165938402,\n",
              " 15198.484354339387,\n",
              " 15198.081931689938,\n",
              " 15197.679897602035,\n",
              " 15197.278251688067,\n",
              " 15196.876993560792,\n",
              " 15196.476122833366,\n",
              " 15196.075639119326,\n",
              " 15195.675542032623,\n",
              " 15195.27583118754,\n",
              " 15194.876506198794,\n",
              " 15194.47756668148,\n",
              " 15194.079012251066,\n",
              " 15193.680842523414,\n",
              " 15193.283057114762,\n",
              " 15192.885655641738,\n",
              " 15192.48863772137,\n",
              " 15192.09200297104,\n",
              " 15191.695751008536,\n",
              " 15191.299881452016,\n",
              " 15190.90439392003,\n",
              " 15190.509288031508,\n",
              " 15190.114563405756,\n",
              " 15189.72021966247,\n",
              " 15189.326256421717,\n",
              " 15188.932673303956,\n",
              " 15188.539469930016,\n",
              " 15188.14664592112,\n",
              " 15187.754200898857,\n",
              " 15187.362134485193,\n",
              " 15186.970446302483,\n",
              " 15186.579135973469,\n",
              " 15186.188203121234,\n",
              " 15185.79764736929,\n",
              " 15185.407468341484,\n",
              " 15185.017665662068,\n",
              " 15184.628238955645,\n",
              " 15184.23918784722,\n",
              " 15183.850511962151,\n",
              " 15183.462210926185]"
            ]
          },
          "metadata": {},
          "execution_count": 20
        }
      ]
    },
    {
      "cell_type": "code",
      "source": [
        "plt.plot(cost_epoch)\n",
        "plt.show()"
      ],
      "metadata": {
        "colab": {
          "base_uri": "https://localhost:8080/",
          "height": 425
        },
        "id": "VyWFPMdz5OkQ",
        "outputId": "40430d9d-d02a-4d2b-936a-f062cb07dd3e"
      },
      "execution_count": 21,
      "outputs": [
        {
          "output_type": "display_data",
          "data": {
            "text/plain": [
              "<Figure size 640x480 with 1 Axes>"
            ],
            "image/png": "[encoded data removed]"
          },
          "metadata": {}
        }
      ]
    },
    {
      "cell_type": "code",
      "source": [
        "ones = np.ones((x_test.shape[0], 1))\n",
        "x_test = np.hstack((ones, x_test))\n",
        "print(x_test[:4, :4], x_test.shape)"
      ],
      "metadata": {
        "colab": {
          "base_uri": "https://localhost:8080/"
        },
        "id": "MM20XqCV5Sbh",
        "outputId": "ddb34ae8-49ae-4ab5-db4c-29283483567a"
      },
      "execution_count": 22,
      "outputs": [
        {
          "output_type": "stream",
          "name": "stdout",
          "text": [
            "[[ 1.          0.70234036  0.77522339  0.94329352]\n",
            " [ 1.         -0.70217643 -0.69513833 -0.69144331]\n",
            " [ 1.          1.80449589  1.77361715  1.66425437]\n",
            " [ 1.          0.3121968   0.29417912  0.30616532]] (40, 6)\n"
          ]
        }
      ]
    },
    {
      "cell_type": "code",
      "source": [
        "y_pred_test = []\n",
        "\n",
        "for i in range(x_test.shape[0]):\n",
        "    pred = hypothesis(x_test[i], theta)\n",
        "    y_pred_test.append(pred)\n",
        "\n",
        "y_pred_test = np.array(y_pred_test)"
      ],
      "metadata": {
        "id": "nWvBpHE05VDH"
      },
      "execution_count": 23,
      "outputs": []
    },
    {
      "cell_type": "code",
      "source": [
        "for i in range(len(y_pred_test)):\n",
        "    print(y_pred_test[i], y_test[i])"
      ],
      "metadata": {
        "colab": {
          "base_uri": "https://localhost:8080/"
        },
        "id": "nFEJ_Ps35W-l",
        "outputId": "1fdf7045-6549-487b-c257-4f57fd3007cf"
      },
      "execution_count": 24,
      "outputs": [
        {
          "output_type": "stream",
          "name": "stdout",
          "text": [
            "799.2522058155448 1000.0\n",
            "162.14235754398018 110.0\n",
            "833.0624302230169 770.0\n",
            "523.5266849305171 390.0\n",
            "240.9642463371867 161.0\n",
            "384.9949794276165 272.0\n",
            "-178.47359104958733 9.8\n",
            "-235.5577255632237 5.9\n",
            "810.9169982796097 900.0\n",
            "205.27904474440905 110.0\n",
            "184.40615132217414 120.0\n",
            "642.3388455599245 556.0\n",
            "358.6954899678161 265.0\n",
            "267.0132748373318 180.0\n",
            "831.4423334041926 1015.0\n",
            "106.84622564866662 85.0\n",
            "736.3428933245291 840.0\n",
            "775.2419080278557 567.0\n",
            "355.7401757695523 290.0\n",
            "87.43378729057952 100.0\n",
            "360.27423804203846 260.0\n",
            "702.9646789271677 700.0\n",
            "584.262715353717 600.0\n",
            "500.94920764000307 450.0\n",
            "550.263034814889 475.0\n",
            "185.20553930056175 120.0\n",
            "293.5290561406172 180.0\n",
            "332.2929187148882 270.0\n",
            "202.82708086085051 140.0\n",
            "165.18849930613865 110.0\n",
            "306.8023740938979 197.0\n",
            "92.47338003536532 78.0\n",
            "373.62421055917554 250.0\n",
            "624.0987040167039 610.0\n",
            "1137.8374987187776 1550.0\n",
            "516.2862543094627 450.0\n",
            "542.5228984303918 500.0\n",
            "259.18920628217774 225.0\n",
            "410.154834628203 300.0\n",
            "49.59604651865128 70.0\n"
          ]
        }
      ]
    },
    {
      "cell_type": "code",
      "source": [
        "from sklearn import metrics\n",
        "\n",
        "print('MAE:', metrics.mean_absolute_error(y_test, y_pred_test))\n",
        "print('MSE:', metrics.mean_squared_error(y_test, y_pred_test))\n",
        "print('RMSE:', np.sqrt(metrics.mean_squared_error(y_test, y_pred_test)))\n",
        "print(\"Accuracy: \", metrics.explained_variance_score(y_test, y_pred_test))"
      ],
      "metadata": {
        "colab": {
          "base_uri": "https://localhost:8080/"
        },
        "id": "ezyHUK8y5Yu2",
        "outputId": "22cb09d1-ae3d-4584-c3d3-6a86fe82910e"
      },
      "execution_count": 25,
      "outputs": [
        {
          "output_type": "stream",
          "name": "stdout",
          "text": [
            "MAE: 93.38861920874474\n",
            "MSE: 14489.872689567297\n",
            "RMSE: 120.37388707509324\n",
            "Accuracy:  0.8719974777753976\n"
          ]
        }
      ]
    },
    {
      "cell_type": "code",
      "source": [
        "dataset.plot()\n",
        "dataset.hist()\n",
        "plt.show()\n",
        "plt.scatter(dataset[\"Height\"],dataset[\"Width\"],color=\"red\")"
      ],
      "metadata": {
        "colab": {
          "base_uri": "https://localhost:8080/",
          "height": 1000
        },
        "id": "LKYUL_A25a7j",
        "outputId": "37828fc2-7736-4b4c-ac9f-e0f5ee11caea"
      },
      "execution_count": 26,
      "outputs": [
        {
          "output_type": "display_data",
          "data": {
            "text/plain": [
              "<Figure size 640x480 with 1 Axes>"
            ],
            "image/png": "[encoded data removed]"
          },
          "metadata": {}
        },
        {
          "output_type": "display_data",
          "data": {
            "text/plain": [
              "<Figure size 640x480 with 6 Axes>"
            ],
            "image/png": "[encoded data removed]"
          },
          "metadata": {}
        },
        {
          "output_type": "execute_result",
          "data": {
            "text/plain": [
              "<matplotlib.collections.PathCollection at 0x7874ecadc310>"
            ]
          },
          "metadata": {},
          "execution_count": 26
        },
        {
          "output_type": "display_data",
          "data": {
            "text/plain": [
              "<Figure size 640x480 with 1 Axes>"
            ],
            "image/png": "[encoded data removed]"
          },
          "metadata": {}
        }
      ]
    },
    {
      "cell_type": "code",
      "source": [],
      "metadata": {
        "id": "SrjmwuFZ5cu3"
      },
      "execution_count": null,
      "outputs": []
    }
  ]
}