{
  "nbformat": 4,
  "nbformat_minor": 0,
  "metadata": {
    "colab": {
      "provenance": [],
      "authorship_tag": "ABX9TyPdVLn6Cjur+xOUONEUt7Qa",
      "include_colab_link": true
    },
    "kernelspec": {
      "name": "python3",
      "display_name": "Python 3"
    },
    "language_info": {
      "name": "python"
    }
  },
  "cells": [
    {
      "cell_type": "markdown",
      "metadata": {
        "id": "view-in-github",
        "colab_type": "text"
      },
      "source": [
        "<a href=\"https://colab.research.google.com/github/Siddharth131020/Machine-learning/blob/main/ANN.ipynb\" target=\"_parent\"><img src=\"https://colab.research.google.com/assets/colab-badge.svg\" alt=\"Open In Colab\"/></a>"
      ]
    },
    {
      "cell_type": "code",
      "execution_count": 1,
      "metadata": {
        "id": "cIDuqxiK778C"
      },
      "outputs": [],
      "source": [
        "import numpy as np\n",
        "import pandas as pd\n",
        "import matplotlib.pyplot as plt"
      ]
    },
    {
      "cell_type": "code",
      "source": [
        "!pip install ann_visualizer\n"
      ],
      "metadata": {
        "colab": {
          "base_uri": "https://localhost:8080/"
        },
        "id": "lJy_rxkU_Ill",
        "outputId": "53c65af6-36ab-45c9-c52a-bf6beaf810e6"
      },
      "execution_count": 2,
      "outputs": [
        {
          "output_type": "stream",
          "name": "stdout",
          "text": [
            "Collecting ann_visualizer\n",
            "  Downloading ann_visualizer-2.5.tar.gz (4.7 kB)\n",
            "  Preparing metadata (setup.py) ... \u001b[?25l\u001b[?25hdone\n",
            "Building wheels for collected packages: ann_visualizer\n",
            "  Building wheel for ann_visualizer (setup.py) ... \u001b[?25l\u001b[?25hdone\n",
            "  Created wheel for ann_visualizer: filename=ann_visualizer-2.5-py3-none-any.whl size=4167 sha256=9ac390ca9a1f4be36b4dcfaa337c37734a6a4e1877adb501ee19ca87d5464de6\n",
            "  Stored in directory: /root/.cache/pip/wheels/6e/0f/ae/f5dba91db71b1b32bf03d0ad18c32e86126093aba5ec6b6488\n",
            "Successfully built ann_visualizer\n",
            "Installing collected packages: ann_visualizer\n",
            "Successfully installed ann_visualizer-2.5\n"
          ]
        }
      ]
    },
    {
      "cell_type": "code",
      "source": [
        "from keras.datasets import boston_housing\n"
      ],
      "metadata": {
        "id": "4iS8YV_q_Mz6"
      },
      "execution_count": 3,
      "outputs": []
    },
    {
      "cell_type": "code",
      "source": [
        "(train_set_x, train_set_y), (test_set_x, test_set_y) = boston_housing.load_data()"
      ],
      "metadata": {
        "colab": {
          "base_uri": "https://localhost:8080/"
        },
        "id": "Mng13pCM_Rvl",
        "outputId": "409d94ef-0e9b-42c6-e0b2-79cb4cdc9aaa"
      },
      "execution_count": 4,
      "outputs": [
        {
          "output_type": "stream",
          "name": "stdout",
          "text": [
            "Downloading data from https://storage.googleapis.com/tensorflow/tf-keras-datasets/boston_housing.npz\n",
            "57026/57026 [==============================] - 0s 0us/step\n"
          ]
        }
      ]
    },
    {
      "cell_type": "code",
      "source": [
        "print(train_set_x.shape, train_set_y.shape, test_set_x.shape, test_set_y.shape)"
      ],
      "metadata": {
        "colab": {
          "base_uri": "https://localhost:8080/"
        },
        "id": "Q6Arp_bo_W7c",
        "outputId": "71be6552-a756-4e8a-c2e2-4e22338ec572"
      },
      "execution_count": 5,
      "outputs": [
        {
          "output_type": "stream",
          "name": "stdout",
          "text": [
            "(404, 13) (404,) (102, 13) (102,)\n"
          ]
        }
      ]
    },
    {
      "cell_type": "code",
      "source": [
        "from sklearn.preprocessing import MinMaxScaler\n"
      ],
      "metadata": {
        "id": "scs_R-uH_ZRG"
      },
      "execution_count": 6,
      "outputs": []
    },
    {
      "cell_type": "code",
      "source": [
        "min_max_scaler = MinMaxScaler()\n",
        "min_max_scaler.fit(train_set_x)\n"
      ],
      "metadata": {
        "colab": {
          "base_uri": "https://localhost:8080/",
          "height": 75
        },
        "id": "y39lxrt0_bhR",
        "outputId": "37df7c7d-68ad-40a9-a06f-89a27cd0d9f9"
      },
      "execution_count": 7,
      "outputs": [
        {
          "output_type": "execute_result",
          "data": {
            "text/plain": [
              "MinMaxScaler()"
            ],
            "text/html": [
              "<style>#sk-container-id-1 {color: black;background-color: white;}#sk-container-id-1 pre{padding: 0;}#sk-container-id-1 div.sk-toggleable {background-color: white;}#sk-container-id-1 label.sk-toggleable__label {cursor: pointer;display: block;width: 100%;margin-bottom: 0;padding: 0.3em;box-sizing: border-box;text-align: center;}#sk-container-id-1 label.sk-toggleable__label-arrow:before {content: \"▸\";float: left;margin-right: 0.25em;color: #696969;}#sk-container-id-1 label.sk-toggleable__label-arrow:hover:before {color: black;}#sk-container-id-1 div.sk-estimator:hover label.sk-toggleable__label-arrow:before {color: black;}#sk-container-id-1 div.sk-toggleable__content {max-height: 0;max-width: 0;overflow: hidden;text-align: left;background-color: #f0f8ff;}#sk-container-id-1 div.sk-toggleable__content pre {margin: 0.2em;color: black;border-radius: 0.25em;background-color: #f0f8ff;}#sk-container-id-1 input.sk-toggleable__control:checked~div.sk-toggleable__content {max-height: 200px;max-width: 100%;overflow: auto;}#sk-container-id-1 input.sk-toggleable__control:checked~label.sk-toggleable__label-arrow:before {content: \"▾\";}#sk-container-id-1 div.sk-estimator input.sk-toggleable__control:checked~label.sk-toggleable__label {background-color: #d4ebff;}#sk-container-id-1 div.sk-label input.sk-toggleable__control:checked~label.sk-toggleable__label {background-color: #d4ebff;}#sk-container-id-1 input.sk-hidden--visually {border: 0;clip: rect(1px 1px 1px 1px);clip: rect(1px, 1px, 1px, 1px);height: 1px;margin: -1px;overflow: hidden;padding: 0;position: absolute;width: 1px;}#sk-container-id-1 div.sk-estimator {font-family: monospace;background-color: #f0f8ff;border: 1px dotted black;border-radius: 0.25em;box-sizing: border-box;margin-bottom: 0.5em;}#sk-container-id-1 div.sk-estimator:hover {background-color: #d4ebff;}#sk-container-id-1 div.sk-parallel-item::after {content: \"\";width: 100%;border-bottom: 1px solid gray;flex-grow: 1;}#sk-container-id-1 div.sk-label:hover label.sk-toggleable__label {background-color: #d4ebff;}#sk-container-id-1 div.sk-serial::before {content: \"\";position: absolute;border-left: 1px solid gray;box-sizing: border-box;top: 0;bottom: 0;left: 50%;z-index: 0;}#sk-container-id-1 div.sk-serial {display: flex;flex-direction: column;align-items: center;background-color: white;padding-right: 0.2em;padding-left: 0.2em;position: relative;}#sk-container-id-1 div.sk-item {position: relative;z-index: 1;}#sk-container-id-1 div.sk-parallel {display: flex;align-items: stretch;justify-content: center;background-color: white;position: relative;}#sk-container-id-1 div.sk-item::before, #sk-container-id-1 div.sk-parallel-item::before {content: \"\";position: absolute;border-left: 1px solid gray;box-sizing: border-box;top: 0;bottom: 0;left: 50%;z-index: -1;}#sk-container-id-1 div.sk-parallel-item {display: flex;flex-direction: column;z-index: 1;position: relative;background-color: white;}#sk-container-id-1 div.sk-parallel-item:first-child::after {align-self: flex-end;width: 50%;}#sk-container-id-1 div.sk-parallel-item:last-child::after {align-self: flex-start;width: 50%;}#sk-container-id-1 div.sk-parallel-item:only-child::after {width: 0;}#sk-container-id-1 div.sk-dashed-wrapped {border: 1px dashed gray;margin: 0 0.4em 0.5em 0.4em;box-sizing: border-box;padding-bottom: 0.4em;background-color: white;}#sk-container-id-1 div.sk-label label {font-family: monospace;font-weight: bold;display: inline-block;line-height: 1.2em;}#sk-container-id-1 div.sk-label-container {text-align: center;}#sk-container-id-1 div.sk-container {/* jupyter's `normalize.less` sets `[hidden] { display: none; }` but bootstrap.min.css set `[hidden] { display: none !important; }` so we also need the `!important` here to be able to override the default hidden behavior on the sphinx rendered scikit-learn.org. See: https://github.com/scikit-learn/scikit-learn/issues/21755 */display: inline-block !important;position: relative;}#sk-container-id-1 div.sk-text-repr-fallback {display: none;}</style><div id=\"sk-container-id-1\" class=\"sk-top-container\"><div class=\"sk-text-repr-fallback\"><pre>MinMaxScaler()</pre><b>In a Jupyter environment, please rerun this cell to show the HTML representation or trust the notebook. <br />On GitHub, the HTML representation is unable to render, please try loading this page with nbviewer.org.</b></div><div class=\"sk-container\" hidden><div class=\"sk-item\"><div class=\"sk-estimator sk-toggleable\"><input class=\"sk-toggleable__control sk-hidden--visually\" id=\"sk-estimator-id-1\" type=\"checkbox\" checked><label for=\"sk-estimator-id-1\" class=\"sk-toggleable__label sk-toggleable__label-arrow\">MinMaxScaler</label><div class=\"sk-toggleable__content\"><pre>MinMaxScaler()</pre></div></div></div></div></div>"
            ]
          },
          "metadata": {},
          "execution_count": 7
        }
      ]
    },
    {
      "cell_type": "code",
      "source": [
        "train_set_x = min_max_scaler.fit_transform(train_set_x)\n",
        "test_set_x = min_max_scaler.fit_transform(test_set_x)"
      ],
      "metadata": {
        "id": "xPa8h3XG_eZJ"
      },
      "execution_count": 8,
      "outputs": []
    },
    {
      "cell_type": "code",
      "source": [
        "from tensorflow.keras.models import Sequential\n",
        "from tensorflow.keras.layers import Dense"
      ],
      "metadata": {
        "id": "DW8AuL16_hN0"
      },
      "execution_count": 9,
      "outputs": []
    },
    {
      "cell_type": "code",
      "source": [
        "\n",
        "model = Sequential(name = 'ANN_Boston_Housing_Price_Prediction')\n",
        "model.add(Dense(200, input_dim = train_set_x.shape[1], activation = 'relu', name = 'Input_layer')) #output of first layer=200, have to mention the input of the first layer (number of features)\n",
        "model.add(Dense(150, activation = 'relu', name = 'Hidden_layer_1')) #not flexible like pytorch. Ek ke baad dusra join hoga (Sequential), so don't need to mention input of hidden layers\n",
        "model.add(Dense(100, activation = 'relu', name = 'Hidden_layer_2'))\n",
        "model.add(Dense(50, activation = 'relu', name = 'Hidden_layer_3'))\n",
        "model.add(Dense(1, activation = 'linear', name = 'Output_layer')) #by default relu, so need to mention. we don't need any activation in the last layer in this dataset\n",
        ""
      ],
      "metadata": {
        "id": "gSrK8yti_jQ3"
      },
      "execution_count": 10,
      "outputs": []
    },
    {
      "cell_type": "code",
      "source": [
        "model.compile(optimizer='Adam', loss='mse', metrics=['mae'])"
      ],
      "metadata": {
        "id": "IvN4HBtR_l9n"
      },
      "execution_count": 11,
      "outputs": []
    },
    {
      "cell_type": "code",
      "source": [
        "model.summary() # none because of different batch size\n"
      ],
      "metadata": {
        "colab": {
          "base_uri": "https://localhost:8080/"
        },
        "id": "Qhmoy4ur_obg",
        "outputId": "4b936162-118b-46e6-e7b3-204bc3f25d3c"
      },
      "execution_count": 12,
      "outputs": [
        {
          "output_type": "stream",
          "name": "stdout",
          "text": [
            "Model: \"ANN_Boston_Housing_Price_Prediction\"\n",
            "_________________________________________________________________\n",
            " Layer (type)                Output Shape              Param #   \n",
            "=================================================================\n",
            " Input_layer (Dense)         (None, 200)               2800      \n",
            "                                                                 \n",
            " Hidden_layer_1 (Dense)      (None, 150)               30150     \n",
            "                                                                 \n",
            " Hidden_layer_2 (Dense)      (None, 100)               15100     \n",
            "                                                                 \n",
            " Hidden_layer_3 (Dense)      (None, 50)                5050      \n",
            "                                                                 \n",
            " Output_layer (Dense)        (None, 1)                 51        \n",
            "                                                                 \n",
            "=================================================================\n",
            "Total params: 53,151\n",
            "Trainable params: 53,151\n",
            "Non-trainable params: 0\n",
            "_________________________________________________________________\n"
          ]
        }
      ]
    },
    {
      "cell_type": "code",
      "source": [
        "hist = model.fit(train_set_x, train_set_y, batch_size=40, epochs = 100, validation_split=0.2)\n"
      ],
      "metadata": {
        "colab": {
          "base_uri": "https://localhost:8080/"
        },
        "id": "VuUFbBLl_qfT",
        "outputId": "8bdf84b5-345b-43d1-a0eb-20ef029709f3"
      },
      "execution_count": 13,
      "outputs": [
        {
          "output_type": "stream",
          "name": "stdout",
          "text": [
            "Epoch 1/100\n",
            "9/9 [==============================] - 2s 36ms/step - loss: 541.7767 - mae: 21.3625 - val_loss: 556.9094 - val_mae: 21.6330\n",
            "Epoch 2/100\n",
            "9/9 [==============================] - 0s 10ms/step - loss: 420.7382 - mae: 18.0856 - val_loss: 329.8397 - val_mae: 15.1662\n",
            "Epoch 3/100\n",
            "9/9 [==============================] - 0s 10ms/step - loss: 194.3508 - mae: 10.9807 - val_loss: 146.1935 - val_mae: 9.5677\n",
            "Epoch 4/100\n",
            "9/9 [==============================] - 0s 11ms/step - loss: 139.0432 - mae: 9.2376 - val_loss: 117.9971 - val_mae: 8.3249\n",
            "Epoch 5/100\n",
            "9/9 [==============================] - 0s 12ms/step - loss: 105.4976 - mae: 7.5428 - val_loss: 108.7036 - val_mae: 7.5548\n",
            "Epoch 6/100\n",
            "9/9 [==============================] - 0s 14ms/step - loss: 79.2380 - mae: 6.3354 - val_loss: 71.7075 - val_mae: 6.3610\n",
            "Epoch 7/100\n",
            "9/9 [==============================] - 0s 13ms/step - loss: 65.7768 - mae: 5.9847 - val_loss: 62.6953 - val_mae: 5.5188\n",
            "Epoch 8/100\n",
            "9/9 [==============================] - 0s 14ms/step - loss: 55.3378 - mae: 5.3708 - val_loss: 55.2999 - val_mae: 5.3136\n",
            "Epoch 9/100\n",
            "9/9 [==============================] - 0s 12ms/step - loss: 52.3342 - mae: 5.3968 - val_loss: 53.2253 - val_mae: 5.0355\n",
            "Epoch 10/100\n",
            "9/9 [==============================] - 0s 13ms/step - loss: 48.7312 - mae: 4.6162 - val_loss: 50.9239 - val_mae: 4.8109\n",
            "Epoch 11/100\n",
            "9/9 [==============================] - 0s 13ms/step - loss: 42.5481 - mae: 4.5506 - val_loss: 42.9191 - val_mae: 4.6170\n",
            "Epoch 12/100\n",
            "9/9 [==============================] - 0s 11ms/step - loss: 39.5546 - mae: 4.2206 - val_loss: 41.5128 - val_mae: 4.3599\n",
            "Epoch 13/100\n",
            "9/9 [==============================] - 0s 12ms/step - loss: 35.8980 - mae: 4.1343 - val_loss: 35.4653 - val_mae: 4.1322\n",
            "Epoch 14/100\n",
            "9/9 [==============================] - 0s 12ms/step - loss: 31.9047 - mae: 3.8717 - val_loss: 32.8214 - val_mae: 3.8946\n",
            "Epoch 15/100\n",
            "9/9 [==============================] - 0s 12ms/step - loss: 29.3334 - mae: 3.6086 - val_loss: 28.7574 - val_mae: 3.6974\n",
            "Epoch 16/100\n",
            "9/9 [==============================] - 0s 12ms/step - loss: 26.6885 - mae: 3.5299 - val_loss: 26.3536 - val_mae: 3.5232\n",
            "Epoch 17/100\n",
            "9/9 [==============================] - 0s 13ms/step - loss: 24.5865 - mae: 3.3372 - val_loss: 24.2167 - val_mae: 3.4070\n",
            "Epoch 18/100\n",
            "9/9 [==============================] - 0s 16ms/step - loss: 23.0260 - mae: 3.2350 - val_loss: 22.0263 - val_mae: 3.3114\n",
            "Epoch 19/100\n",
            "9/9 [==============================] - 0s 13ms/step - loss: 21.5046 - mae: 3.1656 - val_loss: 21.1782 - val_mae: 3.2178\n",
            "Epoch 20/100\n",
            "9/9 [==============================] - 0s 12ms/step - loss: 20.9363 - mae: 3.0600 - val_loss: 20.2821 - val_mae: 3.2937\n",
            "Epoch 21/100\n",
            "9/9 [==============================] - 0s 17ms/step - loss: 20.5491 - mae: 3.1215 - val_loss: 19.2481 - val_mae: 3.0428\n",
            "Epoch 22/100\n",
            "9/9 [==============================] - 0s 16ms/step - loss: 19.2066 - mae: 2.9379 - val_loss: 17.9798 - val_mae: 3.0064\n",
            "Epoch 23/100\n",
            "9/9 [==============================] - 0s 14ms/step - loss: 18.2087 - mae: 2.7984 - val_loss: 17.6665 - val_mae: 3.0329\n",
            "Epoch 24/100\n",
            "9/9 [==============================] - 0s 14ms/step - loss: 17.6552 - mae: 2.8358 - val_loss: 17.1567 - val_mae: 2.9032\n",
            "Epoch 25/100\n",
            "9/9 [==============================] - 0s 12ms/step - loss: 19.0411 - mae: 2.9069 - val_loss: 23.4413 - val_mae: 3.8957\n",
            "Epoch 26/100\n",
            "9/9 [==============================] - 0s 14ms/step - loss: 19.4639 - mae: 3.2756 - val_loss: 19.7805 - val_mae: 3.1513\n",
            "Epoch 27/100\n",
            "9/9 [==============================] - 0s 17ms/step - loss: 17.5594 - mae: 2.8063 - val_loss: 18.8090 - val_mae: 3.3784\n",
            "Epoch 28/100\n",
            "9/9 [==============================] - 0s 15ms/step - loss: 16.7042 - mae: 2.8086 - val_loss: 15.2596 - val_mae: 2.7284\n",
            "Epoch 29/100\n",
            "9/9 [==============================] - 0s 12ms/step - loss: 15.3155 - mae: 2.6315 - val_loss: 15.1799 - val_mae: 2.8383\n",
            "Epoch 30/100\n",
            "9/9 [==============================] - 0s 9ms/step - loss: 15.1315 - mae: 2.6487 - val_loss: 14.4625 - val_mae: 2.7029\n",
            "Epoch 31/100\n",
            "9/9 [==============================] - 0s 10ms/step - loss: 15.2269 - mae: 2.5609 - val_loss: 14.8021 - val_mae: 2.8539\n",
            "Epoch 32/100\n",
            "9/9 [==============================] - 0s 10ms/step - loss: 14.5929 - mae: 2.5584 - val_loss: 14.3447 - val_mae: 2.7041\n",
            "Epoch 33/100\n",
            "9/9 [==============================] - 0s 10ms/step - loss: 14.0554 - mae: 2.5024 - val_loss: 16.7660 - val_mae: 3.0153\n",
            "Epoch 34/100\n",
            "9/9 [==============================] - 0s 12ms/step - loss: 14.1315 - mae: 2.6759 - val_loss: 15.4604 - val_mae: 2.8110\n",
            "Epoch 35/100\n",
            "9/9 [==============================] - 0s 10ms/step - loss: 13.6194 - mae: 2.5397 - val_loss: 14.4785 - val_mae: 2.7447\n",
            "Epoch 36/100\n",
            "9/9 [==============================] - 0s 8ms/step - loss: 12.7430 - mae: 2.4130 - val_loss: 14.6554 - val_mae: 2.7353\n",
            "Epoch 37/100\n",
            "9/9 [==============================] - 0s 9ms/step - loss: 12.6106 - mae: 2.4884 - val_loss: 14.4251 - val_mae: 2.7404\n",
            "Epoch 38/100\n",
            "9/9 [==============================] - 0s 7ms/step - loss: 12.7859 - mae: 2.4161 - val_loss: 13.4701 - val_mae: 2.6074\n",
            "Epoch 39/100\n",
            "9/9 [==============================] - 0s 10ms/step - loss: 14.3305 - mae: 2.5511 - val_loss: 19.0586 - val_mae: 3.3321\n",
            "Epoch 40/100\n",
            "9/9 [==============================] - 0s 9ms/step - loss: 14.0635 - mae: 2.7281 - val_loss: 15.8575 - val_mae: 2.7726\n",
            "Epoch 41/100\n",
            "9/9 [==============================] - 0s 9ms/step - loss: 17.1087 - mae: 3.0632 - val_loss: 21.6331 - val_mae: 3.4834\n",
            "Epoch 42/100\n",
            "9/9 [==============================] - 0s 8ms/step - loss: 13.3559 - mae: 2.6171 - val_loss: 20.6420 - val_mae: 3.2185\n",
            "Epoch 43/100\n",
            "9/9 [==============================] - 0s 10ms/step - loss: 12.2790 - mae: 2.4422 - val_loss: 16.0566 - val_mae: 2.8178\n",
            "Epoch 44/100\n",
            "9/9 [==============================] - 0s 8ms/step - loss: 11.3806 - mae: 2.3767 - val_loss: 14.4107 - val_mae: 2.6697\n",
            "Epoch 45/100\n",
            "9/9 [==============================] - 0s 8ms/step - loss: 10.8905 - mae: 2.2903 - val_loss: 14.4622 - val_mae: 2.7103\n",
            "Epoch 46/100\n",
            "9/9 [==============================] - 0s 8ms/step - loss: 11.4978 - mae: 2.4122 - val_loss: 17.1299 - val_mae: 2.9171\n",
            "Epoch 47/100\n",
            "9/9 [==============================] - 0s 10ms/step - loss: 10.2867 - mae: 2.2180 - val_loss: 13.9508 - val_mae: 2.6758\n",
            "Epoch 48/100\n",
            "9/9 [==============================] - 0s 9ms/step - loss: 10.2166 - mae: 2.1840 - val_loss: 14.4961 - val_mae: 2.7125\n",
            "Epoch 49/100\n",
            "9/9 [==============================] - 0s 9ms/step - loss: 9.6456 - mae: 2.1835 - val_loss: 14.5582 - val_mae: 2.7099\n",
            "Epoch 50/100\n",
            "9/9 [==============================] - 0s 11ms/step - loss: 9.3265 - mae: 2.1473 - val_loss: 14.0439 - val_mae: 2.6820\n",
            "Epoch 51/100\n",
            "9/9 [==============================] - 0s 8ms/step - loss: 9.3017 - mae: 2.1605 - val_loss: 13.9975 - val_mae: 2.6918\n",
            "Epoch 52/100\n",
            "9/9 [==============================] - 0s 15ms/step - loss: 9.5096 - mae: 2.1648 - val_loss: 13.7244 - val_mae: 2.7324\n",
            "Epoch 53/100\n",
            "9/9 [==============================] - 0s 9ms/step - loss: 9.0214 - mae: 2.0913 - val_loss: 14.8705 - val_mae: 2.7339\n",
            "Epoch 54/100\n",
            "9/9 [==============================] - 0s 9ms/step - loss: 9.5525 - mae: 2.2208 - val_loss: 14.2634 - val_mae: 2.6938\n",
            "Epoch 55/100\n",
            "9/9 [==============================] - 0s 11ms/step - loss: 9.1966 - mae: 2.1702 - val_loss: 13.5320 - val_mae: 2.6794\n",
            "Epoch 56/100\n",
            "9/9 [==============================] - 0s 11ms/step - loss: 9.3026 - mae: 2.1547 - val_loss: 14.5200 - val_mae: 2.7350\n",
            "Epoch 57/100\n",
            "9/9 [==============================] - 0s 10ms/step - loss: 9.7334 - mae: 2.2210 - val_loss: 13.7828 - val_mae: 2.6949\n",
            "Epoch 58/100\n",
            "9/9 [==============================] - 0s 10ms/step - loss: 8.6727 - mae: 2.0718 - val_loss: 13.7834 - val_mae: 2.7112\n",
            "Epoch 59/100\n",
            "9/9 [==============================] - 0s 10ms/step - loss: 8.5222 - mae: 2.0573 - val_loss: 15.2594 - val_mae: 2.8048\n",
            "Epoch 60/100\n",
            "9/9 [==============================] - 0s 10ms/step - loss: 8.8705 - mae: 2.1411 - val_loss: 16.8740 - val_mae: 2.8271\n",
            "Epoch 61/100\n",
            "9/9 [==============================] - 0s 11ms/step - loss: 8.5405 - mae: 2.0229 - val_loss: 17.2456 - val_mae: 2.8430\n",
            "Epoch 62/100\n",
            "9/9 [==============================] - 0s 9ms/step - loss: 8.4585 - mae: 2.0200 - val_loss: 14.9487 - val_mae: 2.7829\n",
            "Epoch 63/100\n",
            "9/9 [==============================] - 0s 11ms/step - loss: 8.1179 - mae: 2.0158 - val_loss: 15.7839 - val_mae: 2.7876\n",
            "Epoch 64/100\n",
            "9/9 [==============================] - 0s 11ms/step - loss: 8.3264 - mae: 2.0148 - val_loss: 13.4917 - val_mae: 2.6801\n",
            "Epoch 65/100\n",
            "9/9 [==============================] - 0s 9ms/step - loss: 7.9604 - mae: 1.9611 - val_loss: 13.4208 - val_mae: 2.6570\n",
            "Epoch 66/100\n",
            "9/9 [==============================] - 0s 9ms/step - loss: 7.8988 - mae: 1.9865 - val_loss: 14.2881 - val_mae: 2.6874\n",
            "Epoch 67/100\n",
            "9/9 [==============================] - 0s 8ms/step - loss: 8.2559 - mae: 2.0506 - val_loss: 12.6354 - val_mae: 2.6295\n",
            "Epoch 68/100\n",
            "9/9 [==============================] - 0s 10ms/step - loss: 8.0336 - mae: 2.0267 - val_loss: 13.1295 - val_mae: 2.7110\n",
            "Epoch 69/100\n",
            "9/9 [==============================] - 0s 10ms/step - loss: 8.4227 - mae: 2.0631 - val_loss: 15.8064 - val_mae: 2.8189\n",
            "Epoch 70/100\n",
            "9/9 [==============================] - 0s 9ms/step - loss: 7.9018 - mae: 1.9707 - val_loss: 13.2111 - val_mae: 2.6459\n",
            "Epoch 71/100\n",
            "9/9 [==============================] - 0s 10ms/step - loss: 7.6807 - mae: 1.9337 - val_loss: 15.0295 - val_mae: 2.7925\n",
            "Epoch 72/100\n",
            "9/9 [==============================] - 0s 8ms/step - loss: 7.7219 - mae: 1.9431 - val_loss: 15.1165 - val_mae: 2.7602\n",
            "Epoch 73/100\n",
            "9/9 [==============================] - 0s 8ms/step - loss: 8.9724 - mae: 2.1367 - val_loss: 13.1189 - val_mae: 2.6824\n",
            "Epoch 74/100\n",
            "9/9 [==============================] - 0s 7ms/step - loss: 8.1575 - mae: 2.0491 - val_loss: 13.6717 - val_mae: 2.7542\n",
            "Epoch 75/100\n",
            "9/9 [==============================] - 0s 10ms/step - loss: 8.0353 - mae: 2.0295 - val_loss: 13.7593 - val_mae: 2.6844\n",
            "Epoch 76/100\n",
            "9/9 [==============================] - 0s 11ms/step - loss: 7.9157 - mae: 1.9675 - val_loss: 12.2757 - val_mae: 2.6280\n",
            "Epoch 77/100\n",
            "9/9 [==============================] - 0s 8ms/step - loss: 7.4468 - mae: 1.9047 - val_loss: 11.7012 - val_mae: 2.5935\n",
            "Epoch 78/100\n",
            "9/9 [==============================] - 0s 9ms/step - loss: 7.3631 - mae: 1.9093 - val_loss: 12.4986 - val_mae: 2.6504\n",
            "Epoch 79/100\n",
            "9/9 [==============================] - 0s 8ms/step - loss: 7.6558 - mae: 1.9461 - val_loss: 12.7845 - val_mae: 2.7595\n",
            "Epoch 80/100\n",
            "9/9 [==============================] - 0s 8ms/step - loss: 7.7325 - mae: 1.9963 - val_loss: 13.8097 - val_mae: 2.7712\n",
            "Epoch 81/100\n",
            "9/9 [==============================] - 0s 10ms/step - loss: 8.0729 - mae: 1.9741 - val_loss: 11.7933 - val_mae: 2.5356\n",
            "Epoch 82/100\n",
            "9/9 [==============================] - 0s 8ms/step - loss: 7.7354 - mae: 2.0038 - val_loss: 11.7904 - val_mae: 2.6340\n",
            "Epoch 83/100\n",
            "9/9 [==============================] - 0s 8ms/step - loss: 7.2195 - mae: 1.9322 - val_loss: 11.1420 - val_mae: 2.5244\n",
            "Epoch 84/100\n",
            "9/9 [==============================] - 0s 7ms/step - loss: 7.2239 - mae: 1.8730 - val_loss: 11.7292 - val_mae: 2.5848\n",
            "Epoch 85/100\n",
            "9/9 [==============================] - 0s 8ms/step - loss: 7.5556 - mae: 1.9013 - val_loss: 12.0763 - val_mae: 2.6303\n",
            "Epoch 86/100\n",
            "9/9 [==============================] - 0s 8ms/step - loss: 7.2374 - mae: 1.9082 - val_loss: 11.4719 - val_mae: 2.5450\n",
            "Epoch 87/100\n",
            "9/9 [==============================] - 0s 10ms/step - loss: 7.5189 - mae: 1.8783 - val_loss: 10.8002 - val_mae: 2.5004\n",
            "Epoch 88/100\n",
            "9/9 [==============================] - 0s 8ms/step - loss: 7.5419 - mae: 1.9638 - val_loss: 12.8993 - val_mae: 2.7516\n",
            "Epoch 89/100\n",
            "9/9 [==============================] - 0s 8ms/step - loss: 9.0368 - mae: 2.2263 - val_loss: 12.3437 - val_mae: 2.6775\n",
            "Epoch 90/100\n",
            "9/9 [==============================] - 0s 10ms/step - loss: 8.2641 - mae: 2.0327 - val_loss: 10.2329 - val_mae: 2.4793\n",
            "Epoch 91/100\n",
            "9/9 [==============================] - 0s 10ms/step - loss: 14.6381 - mae: 2.6071 - val_loss: 16.5481 - val_mae: 3.3698\n",
            "Epoch 92/100\n",
            "9/9 [==============================] - 0s 9ms/step - loss: 11.3185 - mae: 2.4303 - val_loss: 11.4437 - val_mae: 2.7177\n",
            "Epoch 93/100\n",
            "9/9 [==============================] - 0s 8ms/step - loss: 8.1884 - mae: 2.0464 - val_loss: 10.0622 - val_mae: 2.4823\n",
            "Epoch 94/100\n",
            "9/9 [==============================] - 0s 7ms/step - loss: 7.6204 - mae: 1.8941 - val_loss: 10.1617 - val_mae: 2.4752\n",
            "Epoch 95/100\n",
            "9/9 [==============================] - 0s 8ms/step - loss: 7.4297 - mae: 1.9112 - val_loss: 10.3762 - val_mae: 2.4823\n",
            "Epoch 96/100\n",
            "9/9 [==============================] - 0s 8ms/step - loss: 7.9221 - mae: 2.0824 - val_loss: 11.7522 - val_mae: 2.7163\n",
            "Epoch 97/100\n",
            "9/9 [==============================] - 0s 10ms/step - loss: 7.3839 - mae: 1.9269 - val_loss: 10.1375 - val_mae: 2.4656\n",
            "Epoch 98/100\n",
            "9/9 [==============================] - 0s 8ms/step - loss: 7.5682 - mae: 1.8875 - val_loss: 11.4579 - val_mae: 2.5809\n",
            "Epoch 99/100\n",
            "9/9 [==============================] - 0s 13ms/step - loss: 7.6114 - mae: 1.9406 - val_loss: 10.5022 - val_mae: 2.4566\n",
            "Epoch 100/100\n",
            "9/9 [==============================] - 0s 10ms/step - loss: 6.9294 - mae: 1.8455 - val_loss: 10.5578 - val_mae: 2.4920\n"
          ]
        }
      ]
    },
    {
      "cell_type": "code",
      "source": [
        "hist.history\n"
      ],
      "metadata": {
        "colab": {
          "base_uri": "https://localhost:8080/"
        },
        "id": "ECCBN70A_t4e",
        "outputId": "70cf5e70-b026-4f91-b40e-0e9e3a08fe48"
      },
      "execution_count": 14,
      "outputs": [
        {
          "output_type": "execute_result",
          "data": {
            "text/plain": [
              "{'loss': [541.7767333984375,\n",
              "  420.7381896972656,\n",
              "  194.35076904296875,\n",
              "  139.04322814941406,\n",
              "  105.49759674072266,\n",
              "  79.23800659179688,\n",
              "  65.77676391601562,\n",
              "  55.3377799987793,\n",
              "  52.33418273925781,\n",
              "  48.73119354248047,\n",
              "  42.54805374145508,\n",
              "  39.5545654296875,\n",
              "  35.89796447753906,\n",
              "  31.90472412109375,\n",
              "  29.333431243896484,\n",
              "  26.688465118408203,\n",
              "  24.586530685424805,\n",
              "  23.025972366333008,\n",
              "  21.50461769104004,\n",
              "  20.936260223388672,\n",
              "  20.54907989501953,\n",
              "  19.206586837768555,\n",
              "  18.208675384521484,\n",
              "  17.655162811279297,\n",
              "  19.041086196899414,\n",
              "  19.463878631591797,\n",
              "  17.559354782104492,\n",
              "  16.704214096069336,\n",
              "  15.315471649169922,\n",
              "  15.131538391113281,\n",
              "  15.226892471313477,\n",
              "  14.592881202697754,\n",
              "  14.055421829223633,\n",
              "  14.131536483764648,\n",
              "  13.61944580078125,\n",
              "  12.742973327636719,\n",
              "  12.610615730285645,\n",
              "  12.785944938659668,\n",
              "  14.330534934997559,\n",
              "  14.06348705291748,\n",
              "  17.108701705932617,\n",
              "  13.355934143066406,\n",
              "  12.27897834777832,\n",
              "  11.380642890930176,\n",
              "  10.890531539916992,\n",
              "  11.497822761535645,\n",
              "  10.286674499511719,\n",
              "  10.216621398925781,\n",
              "  9.64563274383545,\n",
              "  9.326468467712402,\n",
              "  9.301668167114258,\n",
              "  9.509567260742188,\n",
              "  9.021428108215332,\n",
              "  9.552510261535645,\n",
              "  9.196564674377441,\n",
              "  9.302550315856934,\n",
              "  9.733397483825684,\n",
              "  8.67268180847168,\n",
              "  8.522229194641113,\n",
              "  8.870476722717285,\n",
              "  8.540504455566406,\n",
              "  8.458514213562012,\n",
              "  8.11786937713623,\n",
              "  8.326355934143066,\n",
              "  7.96044921875,\n",
              "  7.898793697357178,\n",
              "  8.255853652954102,\n",
              "  8.033623695373535,\n",
              "  8.422698020935059,\n",
              "  7.901777744293213,\n",
              "  7.680663108825684,\n",
              "  7.721851825714111,\n",
              "  8.972434997558594,\n",
              "  8.15750503540039,\n",
              "  8.03526496887207,\n",
              "  7.91567325592041,\n",
              "  7.446776390075684,\n",
              "  7.363091468811035,\n",
              "  7.655783653259277,\n",
              "  7.732540607452393,\n",
              "  8.072937965393066,\n",
              "  7.735445976257324,\n",
              "  7.219503402709961,\n",
              "  7.223850727081299,\n",
              "  7.555576324462891,\n",
              "  7.23744535446167,\n",
              "  7.518867492675781,\n",
              "  7.5418782234191895,\n",
              "  9.036835670471191,\n",
              "  8.264118194580078,\n",
              "  14.638101577758789,\n",
              "  11.318548202514648,\n",
              "  8.188422203063965,\n",
              "  7.620427131652832,\n",
              "  7.429741859436035,\n",
              "  7.9220781326293945,\n",
              "  7.383908271789551,\n",
              "  7.56821346282959,\n",
              "  7.611410617828369,\n",
              "  6.92935037612915],\n",
              " 'mae': [21.362516403198242,\n",
              "  18.085628509521484,\n",
              "  10.980732917785645,\n",
              "  9.2376127243042,\n",
              "  7.542813777923584,\n",
              "  6.335369110107422,\n",
              "  5.984665393829346,\n",
              "  5.370842456817627,\n",
              "  5.396795749664307,\n",
              "  4.616237640380859,\n",
              "  4.55056619644165,\n",
              "  4.220610618591309,\n",
              "  4.134250640869141,\n",
              "  3.871738910675049,\n",
              "  3.608611583709717,\n",
              "  3.529914140701294,\n",
              "  3.337177038192749,\n",
              "  3.235043525695801,\n",
              "  3.165637731552124,\n",
              "  3.0599660873413086,\n",
              "  3.1214723587036133,\n",
              "  2.937882423400879,\n",
              "  2.7984158992767334,\n",
              "  2.835808515548706,\n",
              "  2.906919240951538,\n",
              "  3.2756359577178955,\n",
              "  2.8063371181488037,\n",
              "  2.8086013793945312,\n",
              "  2.631509304046631,\n",
              "  2.6486563682556152,\n",
              "  2.5608627796173096,\n",
              "  2.5584304332733154,\n",
              "  2.5024333000183105,\n",
              "  2.67592191696167,\n",
              "  2.539745330810547,\n",
              "  2.4129533767700195,\n",
              "  2.4883780479431152,\n",
              "  2.4161267280578613,\n",
              "  2.551121950149536,\n",
              "  2.7281055450439453,\n",
              "  3.063229560852051,\n",
              "  2.6170525550842285,\n",
              "  2.442234754562378,\n",
              "  2.3767483234405518,\n",
              "  2.290313959121704,\n",
              "  2.412230968475342,\n",
              "  2.2179956436157227,\n",
              "  2.1839585304260254,\n",
              "  2.1834845542907715,\n",
              "  2.1473352909088135,\n",
              "  2.1605143547058105,\n",
              "  2.1647861003875732,\n",
              "  2.091259717941284,\n",
              "  2.2208259105682373,\n",
              "  2.1701717376708984,\n",
              "  2.1546530723571777,\n",
              "  2.221007823944092,\n",
              "  2.07179856300354,\n",
              "  2.057251453399658,\n",
              "  2.141087293624878,\n",
              "  2.022862672805786,\n",
              "  2.019996404647827,\n",
              "  2.0157737731933594,\n",
              "  2.014849901199341,\n",
              "  1.9611486196517944,\n",
              "  1.9864779710769653,\n",
              "  2.0505707263946533,\n",
              "  2.026693820953369,\n",
              "  2.06311297416687,\n",
              "  1.9706634283065796,\n",
              "  1.9336587190628052,\n",
              "  1.9431427717208862,\n",
              "  2.136679172515869,\n",
              "  2.04909610748291,\n",
              "  2.029513120651245,\n",
              "  1.967494010925293,\n",
              "  1.9047186374664307,\n",
              "  1.9092642068862915,\n",
              "  1.946097493171692,\n",
              "  1.9962981939315796,\n",
              "  1.9741384983062744,\n",
              "  2.0037596225738525,\n",
              "  1.9321941137313843,\n",
              "  1.8730353116989136,\n",
              "  1.9012980461120605,\n",
              "  1.9081823825836182,\n",
              "  1.8783230781555176,\n",
              "  1.9638291597366333,\n",
              "  2.226313352584839,\n",
              "  2.032719135284424,\n",
              "  2.607104539871216,\n",
              "  2.430291175842285,\n",
              "  2.0463836193084717,\n",
              "  1.8941404819488525,\n",
              "  1.9111957550048828,\n",
              "  2.0824391841888428,\n",
              "  1.926896333694458,\n",
              "  1.8874605894088745,\n",
              "  1.9406267404556274,\n",
              "  1.8454606533050537],\n",
              " 'val_loss': [556.9093627929688,\n",
              "  329.8397216796875,\n",
              "  146.1935272216797,\n",
              "  117.99710845947266,\n",
              "  108.70360565185547,\n",
              "  71.70750427246094,\n",
              "  62.695343017578125,\n",
              "  55.29985427856445,\n",
              "  53.225250244140625,\n",
              "  50.92390060424805,\n",
              "  42.9190673828125,\n",
              "  41.51277542114258,\n",
              "  35.46527099609375,\n",
              "  32.821434020996094,\n",
              "  28.757369995117188,\n",
              "  26.35356903076172,\n",
              "  24.216670989990234,\n",
              "  22.026330947875977,\n",
              "  21.178239822387695,\n",
              "  20.282119750976562,\n",
              "  19.24811363220215,\n",
              "  17.979782104492188,\n",
              "  17.666461944580078,\n",
              "  17.156702041625977,\n",
              "  23.44132423400879,\n",
              "  19.780517578125,\n",
              "  18.808956146240234,\n",
              "  15.259607315063477,\n",
              "  15.179898262023926,\n",
              "  14.462508201599121,\n",
              "  14.802068710327148,\n",
              "  14.34472370147705,\n",
              "  16.76603126525879,\n",
              "  15.460352897644043,\n",
              "  14.478523254394531,\n",
              "  14.655377388000488,\n",
              "  14.425128936767578,\n",
              "  13.470124244689941,\n",
              "  19.058561325073242,\n",
              "  15.857536315917969,\n",
              "  21.633113861083984,\n",
              "  20.642038345336914,\n",
              "  16.056623458862305,\n",
              "  14.410653114318848,\n",
              "  14.462153434753418,\n",
              "  17.129898071289062,\n",
              "  13.950836181640625,\n",
              "  14.496140480041504,\n",
              "  14.558219909667969,\n",
              "  14.043885231018066,\n",
              "  13.997509002685547,\n",
              "  13.724442481994629,\n",
              "  14.870462417602539,\n",
              "  14.263409614562988,\n",
              "  13.53200912475586,\n",
              "  14.519957542419434,\n",
              "  13.78282356262207,\n",
              "  13.78335952758789,\n",
              "  15.259407997131348,\n",
              "  16.8740234375,\n",
              "  17.245569229125977,\n",
              "  14.948748588562012,\n",
              "  15.783875465393066,\n",
              "  13.491703987121582,\n",
              "  13.4207763671875,\n",
              "  14.288069725036621,\n",
              "  12.63540267944336,\n",
              "  13.129508972167969,\n",
              "  15.806422233581543,\n",
              "  13.211104393005371,\n",
              "  15.029483795166016,\n",
              "  15.11648178100586,\n",
              "  13.118947982788086,\n",
              "  13.671737670898438,\n",
              "  13.759340286254883,\n",
              "  12.275668144226074,\n",
              "  11.701176643371582,\n",
              "  12.498551368713379,\n",
              "  12.784496307373047,\n",
              "  13.809725761413574,\n",
              "  11.793255805969238,\n",
              "  11.790383338928223,\n",
              "  11.142038345336914,\n",
              "  11.729190826416016,\n",
              "  12.076313972473145,\n",
              "  11.471903800964355,\n",
              "  10.800223350524902,\n",
              "  12.89928913116455,\n",
              "  12.343735694885254,\n",
              "  10.232852935791016,\n",
              "  16.548078536987305,\n",
              "  11.443652153015137,\n",
              "  10.062219619750977,\n",
              "  10.16173267364502,\n",
              "  10.37619686126709,\n",
              "  11.752191543579102,\n",
              "  10.137490272521973,\n",
              "  11.45789909362793,\n",
              "  10.502205848693848,\n",
              "  10.557839393615723],\n",
              " 'val_mae': [21.632978439331055,\n",
              "  15.166186332702637,\n",
              "  9.567745208740234,\n",
              "  8.324949264526367,\n",
              "  7.5548200607299805,\n",
              "  6.361037254333496,\n",
              "  5.518840789794922,\n",
              "  5.313602447509766,\n",
              "  5.035495758056641,\n",
              "  4.810894012451172,\n",
              "  4.617049217224121,\n",
              "  4.359893321990967,\n",
              "  4.132174491882324,\n",
              "  3.8945908546447754,\n",
              "  3.6974377632141113,\n",
              "  3.523188352584839,\n",
              "  3.4070446491241455,\n",
              "  3.311434030532837,\n",
              "  3.217839002609253,\n",
              "  3.2937328815460205,\n",
              "  3.0428237915039062,\n",
              "  3.006382465362549,\n",
              "  3.0328869819641113,\n",
              "  2.903214693069458,\n",
              "  3.895653247833252,\n",
              "  3.151280164718628,\n",
              "  3.3784446716308594,\n",
              "  2.72835636138916,\n",
              "  2.8383378982543945,\n",
              "  2.7028794288635254,\n",
              "  2.8539092540740967,\n",
              "  2.704066514968872,\n",
              "  3.0153141021728516,\n",
              "  2.811035633087158,\n",
              "  2.7447128295898438,\n",
              "  2.7352757453918457,\n",
              "  2.740386486053467,\n",
              "  2.6073625087738037,\n",
              "  3.332137107849121,\n",
              "  2.7726128101348877,\n",
              "  3.4833898544311523,\n",
              "  3.218477487564087,\n",
              "  2.8177530765533447,\n",
              "  2.6697473526000977,\n",
              "  2.710348129272461,\n",
              "  2.9171154499053955,\n",
              "  2.6757853031158447,\n",
              "  2.712470054626465,\n",
              "  2.7099478244781494,\n",
              "  2.682046890258789,\n",
              "  2.6917810440063477,\n",
              "  2.732386589050293,\n",
              "  2.7339389324188232,\n",
              "  2.693835973739624,\n",
              "  2.679381847381592,\n",
              "  2.7349913120269775,\n",
              "  2.6949188709259033,\n",
              "  2.7112345695495605,\n",
              "  2.8047988414764404,\n",
              "  2.827118396759033,\n",
              "  2.8430073261260986,\n",
              "  2.782900333404541,\n",
              "  2.78760027885437,\n",
              "  2.6800858974456787,\n",
              "  2.6570358276367188,\n",
              "  2.6874186992645264,\n",
              "  2.629450559616089,\n",
              "  2.710995674133301,\n",
              "  2.8188974857330322,\n",
              "  2.6458780765533447,\n",
              "  2.792522668838501,\n",
              "  2.7601959705352783,\n",
              "  2.68243408203125,\n",
              "  2.7541677951812744,\n",
              "  2.6843655109405518,\n",
              "  2.62802791595459,\n",
              "  2.5934629440307617,\n",
              "  2.6504039764404297,\n",
              "  2.7594921588897705,\n",
              "  2.771164655685425,\n",
              "  2.535609006881714,\n",
              "  2.634039878845215,\n",
              "  2.5243914127349854,\n",
              "  2.5847651958465576,\n",
              "  2.6303250789642334,\n",
              "  2.5450351238250732,\n",
              "  2.5003693103790283,\n",
              "  2.7515640258789062,\n",
              "  2.6775317192077637,\n",
              "  2.479306936264038,\n",
              "  3.369784116744995,\n",
              "  2.7176766395568848,\n",
              "  2.4822683334350586,\n",
              "  2.4751598834991455,\n",
              "  2.4822845458984375,\n",
              "  2.716329336166382,\n",
              "  2.465592622756958,\n",
              "  2.5809473991394043,\n",
              "  2.4565625190734863,\n",
              "  2.4919850826263428]}"
            ]
          },
          "metadata": {},
          "execution_count": 14
        }
      ]
    },
    {
      "cell_type": "code",
      "source": [
        "plt.plot(hist.history['loss'])\n",
        "plt.plot(hist.history['val_loss'])"
      ],
      "metadata": {
        "colab": {
          "base_uri": "https://localhost:8080/",
          "height": 447
        },
        "id": "7tG7PHTk_3C8",
        "outputId": "4bd9a9b3-fa78-4d31-e94b-f5f15cba1cc0"
      },
      "execution_count": 15,
      "outputs": [
        {
          "output_type": "execute_result",
          "data": {
            "text/plain": [
              "[<matplotlib.lines.Line2D at 0x7b7e88aa2350>]"
            ]
          },
          "metadata": {},
          "execution_count": 15
        },
        {
          "output_type": "display_data",
          "data": {
            "text/plain": [
              "<Figure size 640x480 with 1 Axes>"
            ],
            "image/png": "[encoded data removed]"
          },
          "metadata": {}
        }
      ]
    },
    {
      "cell_type": "code",
      "source": [
        "plt.plot(hist.history['mae'])\n",
        "plt.plot(hist.history['val_mae'])"
      ],
      "metadata": {
        "colab": {
          "base_uri": "https://localhost:8080/",
          "height": 450
        },
        "id": "dBW2oTJk_8Qg",
        "outputId": "96a9f9d4-7902-4e4e-b0a6-d86c7da3b0f1"
      },
      "execution_count": 16,
      "outputs": [
        {
          "output_type": "execute_result",
          "data": {
            "text/plain": [
              "[<matplotlib.lines.Line2D at 0x7b7e8bfa99f0>]"
            ]
          },
          "metadata": {},
          "execution_count": 16
        },
        {
          "output_type": "display_data",
          "data": {
            "text/plain": [
              "<Figure size 640x480 with 1 Axes>"
            ],
            "image/png": "[encoded data removed]"
          },
          "metadata": {}
        }
      ]
    },
    {
      "cell_type": "code",
      "source": [
        "from ann_visualizer.visualize import ann_viz\n"
      ],
      "metadata": {
        "id": "9wvVdUhs__Fm"
      },
      "execution_count": 17,
      "outputs": []
    },
    {
      "cell_type": "code",
      "source": [
        "ann_viz(model, filename='filename.gv')\n"
      ],
      "metadata": {
        "id": "FJKDZfJgABFp"
      },
      "execution_count": 18,
      "outputs": []
    },
    {
      "cell_type": "code",
      "source": [
        "import graphviz"
      ],
      "metadata": {
        "id": "ItIAIK9_AC5k"
      },
      "execution_count": 19,
      "outputs": []
    },
    {
      "cell_type": "code",
      "source": [
        "viz = graphviz.Source.from_file('filename.gv')"
      ],
      "metadata": {
        "id": "iM_p-XSMAE88"
      },
      "execution_count": 20,
      "outputs": []
    },
    {
      "cell_type": "code",
      "source": [
        "viz"
      ],
      "metadata": {
        "colab": {
          "base_uri": "https://localhost:8080/",
          "height": 1000
        },
        "id": "ffDomVJMAHN8",
        "outputId": "12f81d82-5263-4532-d144-c8e35c350b05"
      },
      "execution_count": 21,
      "outputs": [
        {
          "output_type": "execute_result",
          "data": {
            "image/svg+xml": "<?xml version=\"1.0\" encoding=\"UTF-8\" standalone=\"no\"?>\n<!DOCTYPE svg PUBLIC \"-//W3C//DTD SVG 1.1//EN\"\n \"http://www.w3.org/Graphics/SVG/1.1/DTD/svg11.dtd\">\n<!-- Generated by graphviz version 2.43.0 (0)\n -->\n<!-- Title: g Pages: 1 -->\n<svg width=\"1077pt\" height=\"1103pt\"\n viewBox=\"0.00 0.00 1077.00 1102.98\" xmlns=\"http://www.w3.org/2000/svg\" xmlns:xlink=\"http://www.w3.org/1999/xlink\">\n<g id=\"graph0\" class=\"graph\" transform=\"scale(1 1) rotate(0) translate(4 1098.98)\">\n<title>g</title>\n<polygon fill=\"white\" stroke=\"transparent\" points=\"-4,4 -4,-1098.98 1073,-1098.98 1073,4 -4,4\"/>\n<g id=\"clust1\" class=\"cluster\">\n<title>cluster_input</title>\n<polygon fill=\"none\" stroke=\"white\" points=\"22,-945.98 22,-1086.98 1048,-1086.98 1048,-945.98 22,-945.98\"/>\n<text text-anchor=\"middle\" x=\"535\" y=\"-1071.78\" font-family=\"Times,serif\" font-size=\"14.00\">My Neural Network</text>\n<text text-anchor=\"middle\" x=\"535\" y=\"-1008.78\" font-family=\"Times,serif\" font-size=\"14.00\">Input Layer (+3)</text>\n</g>\n<g id=\"clust2\" class=\"cluster\">\n<title>cluster_1</title>\n<polygon fill=\"none\" stroke=\"white\" points=\"8,-739.99 8,-817.98 1061,-817.98 1061,-739.99 8,-739.99\"/>\n<text text-anchor=\"middle\" x=\"1032\" y=\"-747.79\" font-family=\"Times,serif\" font-size=\"14.00\"> (+190)</text>\n</g>\n<g id=\"clust3\" class=\"cluster\">\n<title>cluster_2</title>\n<polygon fill=\"none\" stroke=\"white\" points=\"8,-556.99 8,-634.99 1061,-634.99 1061,-556.99 8,-556.99\"/>\n<text text-anchor=\"middle\" x=\"1032\" y=\"-564.79\" font-family=\"Times,serif\" font-size=\"14.00\"> (+140)</text>\n</g>\n<g id=\"clust4\" class=\"cluster\">\n<title>cluster_3</title>\n<polygon fill=\"none\" stroke=\"white\" points=\"8,-373.99 8,-451.99 1061,-451.99 1061,-373.99 8,-373.99\"/>\n<text text-anchor=\"middle\" x=\"1035.5\" y=\"-381.79\" font-family=\"Times,serif\" font-size=\"14.00\"> (+90)</text>\n</g>\n<g id=\"clust5\" class=\"cluster\">\n<title>cluster_4</title>\n<polygon fill=\"none\" stroke=\"white\" points=\"8,-191 8,-268.99 1061,-268.99 1061,-191 8,-191\"/>\n<text text-anchor=\"middle\" x=\"1035.5\" y=\"-198.8\" font-family=\"Times,serif\" font-size=\"14.00\"> (+40)</text>\n</g>\n<g id=\"clust6\" class=\"cluster\">\n<title>cluster_output</title>\n<polygon fill=\"none\" stroke=\"white\" points=\"490,-8 490,-86 579,-86 579,-8 490,-8\"/>\n<text text-anchor=\"middle\" x=\"534.5\" y=\"-15.8\" font-family=\"Times,serif\" font-size=\"14.00\">Output Layer</text>\n</g>\n<!-- 1 -->\n<g id=\"node1\" class=\"node\">\n<title>1</title>\n<ellipse fill=\"#2ecc71\" stroke=\"#2ecc71\" cx=\"588\" cy=\"-973.48\" rx=\"18\" ry=\"18\"/>\n<text text-anchor=\"middle\" x=\"588\" y=\"-969.78\" font-family=\"Times,serif\" font-size=\"14.00\" fill=\"#2ecc71\">1</text>\n</g>\n<!-- 11 -->\n<g id=\"node11\" class=\"node\">\n<title>11</title>\n<ellipse fill=\"#3498db\" stroke=\"#3498db\" cx=\"146\" cy=\"-790.48\" rx=\"19.5\" ry=\"19.5\"/>\n<text text-anchor=\"middle\" x=\"146\" y=\"-786.78\" font-family=\"Times,serif\" font-size=\"14.00\" fill=\"#3498db\">11</text>\n</g>\n<!-- 1&#45;&gt;11 -->\n<g id=\"edge1\" class=\"edge\">\n<title>1&#45;&gt;11</title>\n<path fill=\"none\" stroke=\"#707070\" d=\"M571.48,-965.72C502.21,-937.35 235.45,-828.11 163.8,-798.77\"/>\n</g>\n<!-- 12 -->\n<g id=\"node12\" class=\"node\">\n<title>12</title>\n<ellipse fill=\"#3498db\" stroke=\"#3498db\" cx=\"35\" cy=\"-790.48\" rx=\"19.5\" ry=\"19.5\"/>\n<text text-anchor=\"middle\" x=\"35\" y=\"-786.78\" font-family=\"Times,serif\" font-size=\"14.00\" fill=\"#3498db\">12</text>\n</g>\n<!-- 1&#45;&gt;12 -->\n<g id=\"edge11\" class=\"edge\">\n<title>1&#45;&gt;12</title>\n<path fill=\"none\" stroke=\"#707070\" d=\"M571.15,-966.97C489.78,-940.33 138.04,-825.21 53.38,-797.5\"/>\n</g>\n<!-- 13 -->\n<g id=\"node13\" class=\"node\">\n<title>13</title>\n<ellipse fill=\"#3498db\" stroke=\"#3498db\" cx=\"1034\" cy=\"-790.48\" rx=\"19.5\" ry=\"19.5\"/>\n<text text-anchor=\"middle\" x=\"1034\" y=\"-786.78\" font-family=\"Times,serif\" font-size=\"14.00\" fill=\"#3498db\">13</text>\n</g>\n<!-- 1&#45;&gt;13 -->\n<g id=\"edge21\" class=\"edge\">\n<title>1&#45;&gt;13</title>\n<path fill=\"none\" stroke=\"#707070\" d=\"M604.4,-965.82C673.87,-937.63 943.56,-828.19 1016,-798.79\"/>\n</g>\n<!-- 14 -->\n<g id=\"node14\" class=\"node\">\n<title>14</title>\n<ellipse fill=\"#3498db\" stroke=\"#3498db\" cx=\"923\" cy=\"-790.48\" rx=\"19.5\" ry=\"19.5\"/>\n<text text-anchor=\"middle\" x=\"923\" y=\"-786.78\" font-family=\"Times,serif\" font-size=\"14.00\" fill=\"#3498db\">14</text>\n</g>\n<!-- 1&#45;&gt;14 -->\n<g id=\"edge31\" class=\"edge\">\n<title>1&#45;&gt;14</title>\n<path fill=\"none\" stroke=\"#707070\" d=\"M603.71,-963.99C659.59,-933.8 848.48,-831.75 906.14,-800.59\"/>\n</g>\n<!-- 15 -->\n<g id=\"node15\" class=\"node\">\n<title>15</title>\n<ellipse fill=\"#3498db\" stroke=\"#3498db\" cx=\"812\" cy=\"-790.48\" rx=\"19.5\" ry=\"19.5\"/>\n<text text-anchor=\"middle\" x=\"812\" y=\"-786.78\" font-family=\"Times,serif\" font-size=\"14.00\" fill=\"#3498db\">15</text>\n</g>\n<!-- 1&#45;&gt;15 -->\n<g id=\"edge41\" class=\"edge\">\n<title>1&#45;&gt;15</title>\n<path fill=\"none\" stroke=\"#707070\" d=\"M601.68,-961.43C641.28,-929.43 755.89,-836.82 797.06,-803.56\"/>\n</g>\n<!-- 16 -->\n<g id=\"node16\" class=\"node\">\n<title>16</title>\n<ellipse fill=\"#3498db\" stroke=\"#3498db\" cx=\"701\" cy=\"-790.48\" rx=\"19.5\" ry=\"19.5\"/>\n<text text-anchor=\"middle\" x=\"701\" y=\"-786.78\" font-family=\"Times,serif\" font-size=\"14.00\" fill=\"#3498db\">16</text>\n</g>\n<!-- 1&#45;&gt;16 -->\n<g id=\"edge51\" class=\"edge\">\n<title>1&#45;&gt;16</title>\n<path fill=\"none\" stroke=\"#707070\" d=\"M597.25,-957.67C618.23,-924.07 669.28,-842.29 690.98,-807.53\"/>\n</g>\n<!-- 17 -->\n<g id=\"node17\" class=\"node\">\n<title>17</title>\n<ellipse fill=\"#3498db\" stroke=\"#3498db\" cx=\"590\" cy=\"-790.48\" rx=\"19.5\" ry=\"19.5\"/>\n<text text-anchor=\"middle\" x=\"590\" y=\"-786.78\" font-family=\"Times,serif\" font-size=\"14.00\" fill=\"#3498db\">17</text>\n</g>\n<!-- 1&#45;&gt;17 -->\n<g id=\"edge61\" class=\"edge\">\n<title>1&#45;&gt;17</title>\n<path fill=\"none\" stroke=\"#707070\" d=\"M588.19,-955.45C588.56,-921.48 589.4,-845.54 589.79,-810.22\"/>\n</g>\n<!-- 18 -->\n<g id=\"node18\" class=\"node\">\n<title>18</title>\n<ellipse fill=\"#3498db\" stroke=\"#3498db\" cx=\"479\" cy=\"-790.48\" rx=\"19.5\" ry=\"19.5\"/>\n<text text-anchor=\"middle\" x=\"479\" y=\"-786.78\" font-family=\"Times,serif\" font-size=\"14.00\" fill=\"#3498db\">18</text>\n</g>\n<!-- 1&#45;&gt;18 -->\n<g id=\"edge71\" class=\"edge\">\n<title>1&#45;&gt;18</title>\n<path fill=\"none\" stroke=\"#707070\" d=\"M579.08,-957.67C558.84,-924.07 509.59,-842.29 488.67,-807.53\"/>\n</g>\n<!-- 19 -->\n<g id=\"node19\" class=\"node\">\n<title>19</title>\n<ellipse fill=\"#3498db\" stroke=\"#3498db\" cx=\"368\" cy=\"-790.48\" rx=\"19.5\" ry=\"19.5\"/>\n<text text-anchor=\"middle\" x=\"368\" y=\"-786.78\" font-family=\"Times,serif\" font-size=\"14.00\" fill=\"#3498db\">19</text>\n</g>\n<!-- 1&#45;&gt;19 -->\n<g id=\"edge81\" class=\"edge\">\n<title>1&#45;&gt;19</title>\n<path fill=\"none\" stroke=\"#707070\" d=\"M574.57,-961.43C535.67,-929.43 423.11,-836.82 382.68,-803.56\"/>\n</g>\n<!-- 20 -->\n<g id=\"node20\" class=\"node\">\n<title>20</title>\n<ellipse fill=\"#3498db\" stroke=\"#3498db\" cx=\"257\" cy=\"-790.48\" rx=\"19.5\" ry=\"19.5\"/>\n<text text-anchor=\"middle\" x=\"257\" y=\"-786.78\" font-family=\"Times,serif\" font-size=\"14.00\" fill=\"#3498db\">20</text>\n</g>\n<!-- 1&#45;&gt;20 -->\n<g id=\"edge91\" class=\"edge\">\n<title>1&#45;&gt;20</title>\n<path fill=\"none\" stroke=\"#707070\" d=\"M572.48,-963.99C517.39,-933.87 331.49,-832.22 274.05,-800.81\"/>\n</g>\n<!-- 2 -->\n<g id=\"node2\" class=\"node\">\n<title>2</title>\n<ellipse fill=\"#2ecc71\" stroke=\"#2ecc71\" cx=\"480\" cy=\"-973.48\" rx=\"18\" ry=\"18\"/>\n<text text-anchor=\"middle\" x=\"480\" y=\"-969.78\" font-family=\"Times,serif\" font-size=\"14.00\" fill=\"#2ecc71\">2</text>\n</g>\n<!-- 2&#45;&gt;11 -->\n<g id=\"edge2\" class=\"edge\">\n<title>2&#45;&gt;11</title>\n<path fill=\"none\" stroke=\"#707070\" d=\"M464.34,-963.99C408.62,-933.8 220.3,-831.75 162.81,-800.59\"/>\n</g>\n<!-- 2&#45;&gt;12 -->\n<g id=\"edge12\" class=\"edge\">\n<title>2&#45;&gt;12</title>\n<path fill=\"none\" stroke=\"#707070\" d=\"M463.63,-965.82C394.33,-937.63 125.24,-828.19 52.96,-798.79\"/>\n</g>\n<!-- 2&#45;&gt;13 -->\n<g id=\"edge22\" class=\"edge\">\n<title>2&#45;&gt;13</title>\n<path fill=\"none\" stroke=\"#707070\" d=\"M496.88,-966.97C578.39,-940.33 930.77,-825.21 1015.59,-797.5\"/>\n</g>\n<!-- 2&#45;&gt;14 -->\n<g id=\"edge32\" class=\"edge\">\n<title>2&#45;&gt;14</title>\n<path fill=\"none\" stroke=\"#707070\" d=\"M496.29,-965.82C565.29,-937.63 833.16,-828.19 905.12,-798.79\"/>\n</g>\n<!-- 2&#45;&gt;15 -->\n<g id=\"edge42\" class=\"edge\">\n<title>2&#45;&gt;15</title>\n<path fill=\"none\" stroke=\"#707070\" d=\"M495.57,-963.99C550.95,-933.8 738.15,-831.75 795.29,-800.59\"/>\n</g>\n<!-- 2&#45;&gt;16 -->\n<g id=\"edge52\" class=\"edge\">\n<title>2&#45;&gt;16</title>\n<path fill=\"none\" stroke=\"#707070\" d=\"M493.49,-961.43C532.57,-929.43 645.64,-836.82 686.26,-803.56\"/>\n</g>\n<!-- 2&#45;&gt;17 -->\n<g id=\"edge62\" class=\"edge\">\n<title>2&#45;&gt;17</title>\n<path fill=\"none\" stroke=\"#707070\" d=\"M489,-957.67C509.42,-924.07 559.13,-842.29 580.25,-807.53\"/>\n</g>\n<!-- 2&#45;&gt;18 -->\n<g id=\"edge72\" class=\"edge\">\n<title>2&#45;&gt;18</title>\n<path fill=\"none\" stroke=\"#707070\" d=\"M479.91,-955.45C479.72,-921.48 479.3,-845.54 479.1,-810.22\"/>\n</g>\n<!-- 2&#45;&gt;19 -->\n<g id=\"edge82\" class=\"edge\">\n<title>2&#45;&gt;19</title>\n<path fill=\"none\" stroke=\"#707070\" d=\"M470.83,-957.67C450.04,-924.07 399.44,-842.29 377.93,-807.53\"/>\n</g>\n<!-- 2&#45;&gt;20 -->\n<g id=\"edge92\" class=\"edge\">\n<title>2&#45;&gt;20</title>\n<path fill=\"none\" stroke=\"#707070\" d=\"M466.39,-961.43C426.95,-929.43 312.86,-836.82 271.88,-803.56\"/>\n</g>\n<!-- 3 -->\n<g id=\"node3\" class=\"node\">\n<title>3</title>\n<ellipse fill=\"#2ecc71\" stroke=\"#2ecc71\" cx=\"372\" cy=\"-973.48\" rx=\"18\" ry=\"18\"/>\n<text text-anchor=\"middle\" x=\"372\" y=\"-969.78\" font-family=\"Times,serif\" font-size=\"14.00\" fill=\"#2ecc71\">3</text>\n</g>\n<!-- 3&#45;&gt;11 -->\n<g id=\"edge3\" class=\"edge\">\n<title>3&#45;&gt;11</title>\n<path fill=\"none\" stroke=\"#707070\" d=\"M358.2,-961.43C318.14,-929.35 202.06,-836.38 160.78,-803.32\"/>\n</g>\n<!-- 3&#45;&gt;12 -->\n<g id=\"edge13\" class=\"edge\">\n<title>3&#45;&gt;12</title>\n<path fill=\"none\" stroke=\"#707070\" d=\"M356.2,-963.99C299.98,-933.8 109.97,-831.75 51.96,-800.59\"/>\n</g>\n<!-- 3&#45;&gt;13 -->\n<g id=\"edge23\" class=\"edge\">\n<title>3&#45;&gt;13</title>\n<path fill=\"none\" stroke=\"#707070\" d=\"M389.37,-967.73C482.19,-942.35 919.13,-822.89 1015.26,-796.61\"/>\n</g>\n<!-- 3&#45;&gt;14 -->\n<g id=\"edge33\" class=\"edge\">\n<title>3&#45;&gt;14</title>\n<path fill=\"none\" stroke=\"#707070\" d=\"M388.79,-966.97C469.86,-940.33 820.33,-825.21 904.69,-797.5\"/>\n</g>\n<!-- 3&#45;&gt;15 -->\n<g id=\"edge43\" class=\"edge\">\n<title>3&#45;&gt;15</title>\n<path fill=\"none\" stroke=\"#707070\" d=\"M388.45,-965.72C457.4,-937.35 722.96,-828.11 794.28,-798.77\"/>\n</g>\n<!-- 3&#45;&gt;16 -->\n<g id=\"edge53\" class=\"edge\">\n<title>3&#45;&gt;16</title>\n<path fill=\"none\" stroke=\"#707070\" d=\"M387.43,-963.99C442.18,-933.87 626.96,-832.22 684.05,-800.81\"/>\n</g>\n<!-- 3&#45;&gt;17 -->\n<g id=\"edge63\" class=\"edge\">\n<title>3&#45;&gt;17</title>\n<path fill=\"none\" stroke=\"#707070\" d=\"M385.64,-961.16C424.41,-928.96 535.09,-837.07 575.23,-803.75\"/>\n</g>\n<!-- 3&#45;&gt;18 -->\n<g id=\"edge73\" class=\"edge\">\n<title>3&#45;&gt;18</title>\n<path fill=\"none\" stroke=\"#707070\" d=\"M380.76,-957.67C400.62,-924.07 448.97,-842.29 469.51,-807.53\"/>\n</g>\n<!-- 3&#45;&gt;19 -->\n<g id=\"edge83\" class=\"edge\">\n<title>3&#45;&gt;19</title>\n<path fill=\"none\" stroke=\"#707070\" d=\"M371.62,-955.45C370.87,-921.48 369.19,-845.54 368.41,-810.22\"/>\n</g>\n<!-- 3&#45;&gt;20 -->\n<g id=\"edge93\" class=\"edge\">\n<title>3&#45;&gt;20</title>\n<path fill=\"none\" stroke=\"#707070\" d=\"M362.78,-957.98C341.52,-924.5 289.15,-842.09 267.08,-807.34\"/>\n</g>\n<!-- 4 -->\n<g id=\"node4\" class=\"node\">\n<title>4</title>\n<ellipse fill=\"#2ecc71\" stroke=\"#2ecc71\" cx=\"264\" cy=\"-973.48\" rx=\"18\" ry=\"18\"/>\n<text text-anchor=\"middle\" x=\"264\" y=\"-969.78\" font-family=\"Times,serif\" font-size=\"14.00\" fill=\"#2ecc71\">4</text>\n</g>\n<!-- 4&#45;&gt;11 -->\n<g id=\"edge4\" class=\"edge\">\n<title>4&#45;&gt;11</title>\n<path fill=\"none\" stroke=\"#707070\" d=\"M254.54,-957.98C232.72,-924.5 178.99,-842.09 156.34,-807.34\"/>\n</g>\n<!-- 4&#45;&gt;12 -->\n<g id=\"edge14\" class=\"edge\">\n<title>4&#45;&gt;12</title>\n<path fill=\"none\" stroke=\"#707070\" d=\"M250.36,-961.7C210.11,-929.89 92.04,-836.57 50.04,-803.37\"/>\n</g>\n<!-- 4&#45;&gt;13 -->\n<g id=\"edge24\" class=\"edge\">\n<title>4&#45;&gt;13</title>\n<path fill=\"none\" stroke=\"#707070\" d=\"M281.53,-968.36C384.39,-944.18 908.69,-820.94 1015.13,-795.92\"/>\n</g>\n<!-- 4&#45;&gt;14 -->\n<g id=\"edge34\" class=\"edge\">\n<title>4&#45;&gt;14</title>\n<path fill=\"none\" stroke=\"#707070\" d=\"M281.29,-967.73C373.69,-942.35 808.65,-822.89 904.35,-796.61\"/>\n</g>\n<!-- 4&#45;&gt;15 -->\n<g id=\"edge44\" class=\"edge\">\n<title>4&#45;&gt;15</title>\n<path fill=\"none\" stroke=\"#707070\" d=\"M281,-966.87C362.12,-940.07 709.33,-825.4 793.54,-797.58\"/>\n</g>\n<!-- 4&#45;&gt;16 -->\n<g id=\"edge54\" class=\"edge\">\n<title>4&#45;&gt;16</title>\n<path fill=\"none\" stroke=\"#707070\" d=\"M280.33,-965.72C348.67,-937.41 611.37,-828.61 682.92,-798.97\"/>\n</g>\n<!-- 4&#45;&gt;17 -->\n<g id=\"edge64\" class=\"edge\">\n<title>4&#45;&gt;17</title>\n<path fill=\"none\" stroke=\"#707070\" d=\"M279.72,-963.75C334.54,-933.32 516.94,-832.05 573.28,-800.77\"/>\n</g>\n<!-- 4&#45;&gt;18 -->\n<g id=\"edge74\" class=\"edge\">\n<title>4&#45;&gt;18</title>\n<path fill=\"none\" stroke=\"#707070\" d=\"M277.45,-961.16C315.69,-928.96 424.85,-837.07 464.43,-803.75\"/>\n</g>\n<!-- 4&#45;&gt;19 -->\n<g id=\"edge84\" class=\"edge\">\n<title>4&#45;&gt;19</title>\n<path fill=\"none\" stroke=\"#707070\" d=\"M272.69,-957.36C292.07,-923.63 338.7,-842.48 358.67,-807.73\"/>\n</g>\n<!-- 4&#45;&gt;20 -->\n<g id=\"edge94\" class=\"edge\">\n<title>4&#45;&gt;20</title>\n<path fill=\"none\" stroke=\"#707070\" d=\"M263.34,-955.45C262.03,-921.48 259.09,-845.54 257.72,-810.22\"/>\n</g>\n<!-- 5 -->\n<g id=\"node5\" class=\"node\">\n<title>5</title>\n<ellipse fill=\"#2ecc71\" stroke=\"#2ecc71\" cx=\"156\" cy=\"-973.48\" rx=\"18\" ry=\"18\"/>\n<text text-anchor=\"middle\" x=\"156\" y=\"-969.78\" font-family=\"Times,serif\" font-size=\"14.00\" fill=\"#2ecc71\">5</text>\n</g>\n<!-- 5&#45;&gt;11 -->\n<g id=\"edge5\" class=\"edge\">\n<title>5&#45;&gt;11</title>\n<path fill=\"none\" stroke=\"#707070\" d=\"M155.06,-955.45C153.18,-921.48 148.99,-845.54 147.03,-810.22\"/>\n</g>\n<!-- 5&#45;&gt;12 -->\n<g id=\"edge15\" class=\"edge\">\n<title>5&#45;&gt;12</title>\n<path fill=\"none\" stroke=\"#707070\" d=\"M146.3,-957.98C123.87,-924.42 68.55,-841.68 45.43,-807.08\"/>\n</g>\n<!-- 5&#45;&gt;13 -->\n<g id=\"edge25\" class=\"edge\">\n<title>5&#45;&gt;13</title>\n<path fill=\"none\" stroke=\"#707070\" d=\"M173.54,-968.87C285.44,-945.8 898.6,-819.4 1014.94,-795.41\"/>\n</g>\n<!-- 5&#45;&gt;14 -->\n<g id=\"edge35\" class=\"edge\">\n<title>5&#45;&gt;14</title>\n<path fill=\"none\" stroke=\"#707070\" d=\"M173.46,-968.36C275.92,-944.18 798.18,-820.94 904.21,-795.92\"/>\n</g>\n<!-- 5&#45;&gt;15 -->\n<g id=\"edge45\" class=\"edge\">\n<title>5&#45;&gt;15</title>\n<path fill=\"none\" stroke=\"#707070\" d=\"M173.21,-967.73C265.19,-942.35 698.17,-822.89 793.43,-796.61\"/>\n</g>\n<!-- 5&#45;&gt;16 -->\n<g id=\"edge55\" class=\"edge\">\n<title>5&#45;&gt;16</title>\n<path fill=\"none\" stroke=\"#707070\" d=\"M172.91,-966.87C253.58,-940.07 598.89,-825.4 682.65,-797.58\"/>\n</g>\n<!-- 5&#45;&gt;17 -->\n<g id=\"edge65\" class=\"edge\">\n<title>5&#45;&gt;17</title>\n<path fill=\"none\" stroke=\"#707070\" d=\"M172.48,-965.61C240.77,-937.13 501.17,-828.53 572.08,-798.96\"/>\n</g>\n<!-- 5&#45;&gt;18 -->\n<g id=\"edge75\" class=\"edge\">\n<title>5&#45;&gt;18</title>\n<path fill=\"none\" stroke=\"#707070\" d=\"M171.58,-963.75C225.89,-933.32 406.61,-832.05 462.43,-800.77\"/>\n</g>\n<!-- 5&#45;&gt;19 -->\n<g id=\"edge85\" class=\"edge\">\n<title>5&#45;&gt;19</title>\n<path fill=\"none\" stroke=\"#707070\" d=\"M169.26,-961.16C206.97,-928.96 314.6,-837.07 353.64,-803.75\"/>\n</g>\n<!-- 5&#45;&gt;20 -->\n<g id=\"edge95\" class=\"edge\">\n<title>5&#45;&gt;20</title>\n<path fill=\"none\" stroke=\"#707070\" d=\"M164.44,-957.36C183.21,-923.72 228.32,-842.89 247.79,-807.99\"/>\n</g>\n<!-- 6 -->\n<g id=\"node6\" class=\"node\">\n<title>6</title>\n<ellipse fill=\"#2ecc71\" stroke=\"#2ecc71\" cx=\"48\" cy=\"-973.48\" rx=\"18\" ry=\"18\"/>\n<text text-anchor=\"middle\" x=\"48\" y=\"-969.78\" font-family=\"Times,serif\" font-size=\"14.00\" fill=\"#2ecc71\">6</text>\n</g>\n<!-- 6&#45;&gt;11 -->\n<g id=\"edge6\" class=\"edge\">\n<title>6&#45;&gt;11</title>\n<path fill=\"none\" stroke=\"#707070\" d=\"M56.19,-957.36C74.4,-923.72 118.17,-842.89 137.06,-807.99\"/>\n</g>\n<!-- 6&#45;&gt;12 -->\n<g id=\"edge16\" class=\"edge\">\n<title>6&#45;&gt;12</title>\n<path fill=\"none\" stroke=\"#707070\" d=\"M46.78,-955.45C44.33,-921.4 38.85,-845.14 36.33,-809.94\"/>\n</g>\n<!-- 6&#45;&gt;13 -->\n<g id=\"edge26\" class=\"edge\">\n<title>6&#45;&gt;13</title>\n<path fill=\"none\" stroke=\"#707070\" d=\"M65.53,-969.26C185.93,-947.16 889.43,-818.02 1014.87,-795\"/>\n</g>\n<!-- 6&#45;&gt;14 -->\n<g id=\"edge36\" class=\"edge\">\n<title>6&#45;&gt;14</title>\n<path fill=\"none\" stroke=\"#707070\" d=\"M65.48,-968.87C177,-945.8 788.06,-819.4 904.01,-795.41\"/>\n</g>\n<!-- 6&#45;&gt;15 -->\n<g id=\"edge46\" class=\"edge\">\n<title>6&#45;&gt;15</title>\n<path fill=\"none\" stroke=\"#707070\" d=\"M65.39,-968.36C167.34,-944.21 686.54,-821.21 792.93,-796\"/>\n</g>\n<!-- 6&#45;&gt;16 -->\n<g id=\"edge56\" class=\"edge\">\n<title>6&#45;&gt;16</title>\n<path fill=\"none\" stroke=\"#707070\" d=\"M65.13,-967.73C156.59,-942.38 586.74,-823.15 682.2,-796.69\"/>\n</g>\n<!-- 6&#45;&gt;17 -->\n<g id=\"edge66\" class=\"edge\">\n<title>6&#45;&gt;17</title>\n<path fill=\"none\" stroke=\"#707070\" d=\"M64.82,-966.87C145.04,-940.07 488.45,-825.4 571.75,-797.58\"/>\n</g>\n<!-- 6&#45;&gt;18 -->\n<g id=\"edge76\" class=\"edge\">\n<title>6&#45;&gt;18</title>\n<path fill=\"none\" stroke=\"#707070\" d=\"M64.37,-965.61C132.18,-937.13 390.78,-828.53 461.2,-798.96\"/>\n</g>\n<!-- 6&#45;&gt;19 -->\n<g id=\"edge86\" class=\"edge\">\n<title>6&#45;&gt;19</title>\n<path fill=\"none\" stroke=\"#707070\" d=\"M63.43,-963.75C117.12,-933.39 295.45,-832.52 351.2,-800.99\"/>\n</g>\n<!-- 6&#45;&gt;20 -->\n<g id=\"edge96\" class=\"edge\">\n<title>6&#45;&gt;20</title>\n<path fill=\"none\" stroke=\"#707070\" d=\"M61.39,-960.88C98.78,-928.5 204.07,-837.32 242.62,-803.93\"/>\n</g>\n<!-- 7 -->\n<g id=\"node7\" class=\"node\">\n<title>7</title>\n<ellipse fill=\"#2ecc71\" stroke=\"#2ecc71\" cx=\"1022\" cy=\"-973.48\" rx=\"18\" ry=\"18\"/>\n<text text-anchor=\"middle\" x=\"1022\" y=\"-969.78\" font-family=\"Times,serif\" font-size=\"14.00\" fill=\"#2ecc71\">7</text>\n</g>\n<!-- 7&#45;&gt;11 -->\n<g id=\"edge7\" class=\"edge\">\n<title>7&#45;&gt;11</title>\n<path fill=\"none\" stroke=\"#707070\" d=\"M1004.5,-968.87C892.85,-945.8 281.09,-819.4 165.02,-795.41\"/>\n</g>\n<!-- 7&#45;&gt;12 -->\n<g id=\"edge17\" class=\"edge\">\n<title>7&#45;&gt;12</title>\n<path fill=\"none\" stroke=\"#707070\" d=\"M1004.45,-969.26C883.93,-947.16 179.72,-818.02 54.15,-795\"/>\n</g>\n<!-- 7&#45;&gt;13 -->\n<g id=\"edge27\" class=\"edge\">\n<title>7&#45;&gt;13</title>\n<path fill=\"none\" stroke=\"#707070\" d=\"M1023.13,-955.45C1025.38,-921.48 1030.42,-845.54 1032.76,-810.22\"/>\n</g>\n<!-- 7&#45;&gt;14 -->\n<g id=\"edge37\" class=\"edge\">\n<title>7&#45;&gt;14</title>\n<path fill=\"none\" stroke=\"#707070\" d=\"M1013.73,-957.36C995.33,-923.72 951.12,-842.89 932.03,-807.99\"/>\n</g>\n<!-- 7&#45;&gt;15 -->\n<g id=\"edge47\" class=\"edge\">\n<title>7&#45;&gt;15</title>\n<path fill=\"none\" stroke=\"#707070\" d=\"M1008.86,-961.16C971.6,-929.04 865.41,-837.52 826.51,-803.99\"/>\n</g>\n<!-- 7&#45;&gt;16 -->\n<g id=\"edge57\" class=\"edge\">\n<title>7&#45;&gt;16</title>\n<path fill=\"none\" stroke=\"#707070\" d=\"M1006.52,-963.75C952.67,-933.39 773.78,-832.52 717.86,-800.99\"/>\n</g>\n<!-- 7&#45;&gt;17 -->\n<g id=\"edge67\" class=\"edge\">\n<title>7&#45;&gt;17</title>\n<path fill=\"none\" stroke=\"#707070\" d=\"M1005.59,-965.61C937.63,-937.13 678.42,-828.53 607.84,-798.96\"/>\n</g>\n<!-- 7&#45;&gt;18 -->\n<g id=\"edge77\" class=\"edge\">\n<title>7&#45;&gt;18</title>\n<path fill=\"none\" stroke=\"#707070\" d=\"M1005.15,-966.87C924.78,-940.07 580.74,-825.4 497.29,-797.58\"/>\n</g>\n<!-- 7&#45;&gt;19 -->\n<g id=\"edge87\" class=\"edge\">\n<title>7&#45;&gt;19</title>\n<path fill=\"none\" stroke=\"#707070\" d=\"M1004.84,-967.73C913.14,-942.35 481.49,-822.89 386.51,-796.61\"/>\n</g>\n<!-- 7&#45;&gt;20 -->\n<g id=\"edge97\" class=\"edge\">\n<title>7&#45;&gt;20</title>\n<path fill=\"none\" stroke=\"#707070\" d=\"M1004.58,-968.36C902.39,-944.18 381.5,-820.94 275.75,-795.92\"/>\n</g>\n<!-- 8 -->\n<g id=\"node8\" class=\"node\">\n<title>8</title>\n<ellipse fill=\"#2ecc71\" stroke=\"#2ecc71\" cx=\"914\" cy=\"-973.48\" rx=\"18\" ry=\"18\"/>\n<text text-anchor=\"middle\" x=\"914\" y=\"-969.78\" font-family=\"Times,serif\" font-size=\"14.00\" fill=\"#2ecc71\">8</text>\n</g>\n<!-- 8&#45;&gt;11 -->\n<g id=\"edge8\" class=\"edge\">\n<title>8&#45;&gt;11</title>\n<path fill=\"none\" stroke=\"#707070\" d=\"M896.52,-968.36C793.92,-944.18 270.98,-820.94 164.82,-795.92\"/>\n</g>\n<!-- 8&#45;&gt;12 -->\n<g id=\"edge18\" class=\"edge\">\n<title>8&#45;&gt;12</title>\n<path fill=\"none\" stroke=\"#707070\" d=\"M896.44,-968.87C784.41,-945.8 170.55,-819.4 54.08,-795.41\"/>\n</g>\n<!-- 8&#45;&gt;13 -->\n<g id=\"edge28\" class=\"edge\">\n<title>8&#45;&gt;13</title>\n<path fill=\"none\" stroke=\"#707070\" d=\"M923.62,-957.98C945.86,-924.42 1000.72,-841.68 1023.66,-807.08\"/>\n</g>\n<!-- 8&#45;&gt;14 -->\n<g id=\"edge38\" class=\"edge\">\n<title>8&#45;&gt;14</title>\n<path fill=\"none\" stroke=\"#707070\" d=\"M914.85,-955.45C916.54,-921.48 920.31,-845.54 922.07,-810.22\"/>\n</g>\n<!-- 8&#45;&gt;15 -->\n<g id=\"edge48\" class=\"edge\">\n<title>8&#45;&gt;15</title>\n<path fill=\"none\" stroke=\"#707070\" d=\"M905.48,-957.36C886.47,-923.63 840.74,-842.48 821.15,-807.73\"/>\n</g>\n<!-- 8&#45;&gt;16 -->\n<g id=\"edge58\" class=\"edge\">\n<title>8&#45;&gt;16</title>\n<path fill=\"none\" stroke=\"#707070\" d=\"M900.68,-961.16C862.79,-928.96 754.65,-837.07 715.43,-803.75\"/>\n</g>\n<!-- 8&#45;&gt;17 -->\n<g id=\"edge68\" class=\"edge\">\n<title>8&#45;&gt;17</title>\n<path fill=\"none\" stroke=\"#707070\" d=\"M898.37,-963.75C843.89,-933.32 662.61,-832.05 606.62,-800.77\"/>\n</g>\n<!-- 8&#45;&gt;18 -->\n<g id=\"edge78\" class=\"edge\">\n<title>8&#45;&gt;18</title>\n<path fill=\"none\" stroke=\"#707070\" d=\"M897.74,-965.72C829.72,-937.41 568.22,-828.61 497,-798.97\"/>\n</g>\n<!-- 8&#45;&gt;19 -->\n<g id=\"edge88\" class=\"edge\">\n<title>8&#45;&gt;19</title>\n<path fill=\"none\" stroke=\"#707070\" d=\"M897.06,-966.87C816.24,-940.07 470.3,-825.4 386.39,-797.58\"/>\n</g>\n<!-- 8&#45;&gt;20 -->\n<g id=\"edge98\" class=\"edge\">\n<title>8&#45;&gt;20</title>\n<path fill=\"none\" stroke=\"#707070\" d=\"M896.76,-967.73C804.64,-942.35 371.01,-822.89 275.6,-796.61\"/>\n</g>\n<!-- 9 -->\n<g id=\"node9\" class=\"node\">\n<title>9</title>\n<ellipse fill=\"#2ecc71\" stroke=\"#2ecc71\" cx=\"806\" cy=\"-973.48\" rx=\"18\" ry=\"18\"/>\n<text text-anchor=\"middle\" x=\"806\" y=\"-969.78\" font-family=\"Times,serif\" font-size=\"14.00\" fill=\"#2ecc71\">9</text>\n</g>\n<!-- 9&#45;&gt;11 -->\n<g id=\"edge9\" class=\"edge\">\n<title>9&#45;&gt;11</title>\n<path fill=\"none\" stroke=\"#707070\" d=\"M788.69,-967.73C696.14,-942.35 260.53,-822.89 164.68,-796.61\"/>\n</g>\n<!-- 9&#45;&gt;12 -->\n<g id=\"edge19\" class=\"edge\">\n<title>9&#45;&gt;12</title>\n<path fill=\"none\" stroke=\"#707070\" d=\"M788.45,-968.36C685.45,-944.18 160.47,-820.94 53.89,-795.92\"/>\n</g>\n<!-- 9&#45;&gt;13 -->\n<g id=\"edge29\" class=\"edge\">\n<title>9&#45;&gt;13</title>\n<path fill=\"none\" stroke=\"#707070\" d=\"M819.92,-961.43C860.33,-929.35 977.45,-836.38 1019.09,-803.32\"/>\n</g>\n<!-- 9&#45;&gt;14 -->\n<g id=\"edge39\" class=\"edge\">\n<title>9&#45;&gt;14</title>\n<path fill=\"none\" stroke=\"#707070\" d=\"M815.38,-957.98C837.01,-924.5 890.29,-842.09 912.75,-807.34\"/>\n</g>\n<!-- 9&#45;&gt;15 -->\n<g id=\"edge49\" class=\"edge\">\n<title>9&#45;&gt;15</title>\n<path fill=\"none\" stroke=\"#707070\" d=\"M806.56,-955.45C807.69,-921.48 810.21,-845.54 811.38,-810.22\"/>\n</g>\n<!-- 9&#45;&gt;16 -->\n<g id=\"edge59\" class=\"edge\">\n<title>9&#45;&gt;16</title>\n<path fill=\"none\" stroke=\"#707070\" d=\"M797.23,-957.36C777.66,-923.63 730.58,-842.48 710.42,-807.73\"/>\n</g>\n<!-- 9&#45;&gt;17 -->\n<g id=\"edge69\" class=\"edge\">\n<title>9&#45;&gt;17</title>\n<path fill=\"none\" stroke=\"#707070\" d=\"M792.49,-961.16C754.07,-928.96 644.41,-837.07 604.63,-803.75\"/>\n</g>\n<!-- 9&#45;&gt;18 -->\n<g id=\"edge79\" class=\"edge\">\n<title>9&#45;&gt;18</title>\n<path fill=\"none\" stroke=\"#707070\" d=\"M790.67,-963.99C736.25,-933.87 552.59,-832.22 495.85,-800.81\"/>\n</g>\n<!-- 9&#45;&gt;19 -->\n<g id=\"edge89\" class=\"edge\">\n<title>9&#45;&gt;19</title>\n<path fill=\"none\" stroke=\"#707070\" d=\"M789.63,-965.72C721.14,-937.41 457.83,-828.61 386.12,-798.97\"/>\n</g>\n<!-- 9&#45;&gt;20 -->\n<g id=\"edge99\" class=\"edge\">\n<title>9&#45;&gt;20</title>\n<path fill=\"none\" stroke=\"#707070\" d=\"M788.97,-966.87C707.61,-940.04 359.09,-825.14 275.21,-797.49\"/>\n</g>\n<!-- 10 -->\n<g id=\"node10\" class=\"node\">\n<title>10</title>\n<ellipse fill=\"#2ecc71\" stroke=\"#2ecc71\" cx=\"697\" cy=\"-973.48\" rx=\"19.5\" ry=\"19.5\"/>\n<text text-anchor=\"middle\" x=\"697\" y=\"-969.78\" font-family=\"Times,serif\" font-size=\"14.00\" fill=\"#2ecc71\">10</text>\n</g>\n<!-- 10&#45;&gt;11 -->\n<g id=\"edge10\" class=\"edge\">\n<title>10&#45;&gt;11</title>\n<path fill=\"none\" stroke=\"#707070\" d=\"M678.67,-966.46C594.82,-938.92 248.39,-825.12 164.4,-797.53\"/>\n</g>\n<!-- 10&#45;&gt;12 -->\n<g id=\"edge20\" class=\"edge\">\n<title>10&#45;&gt;12</title>\n<path fill=\"none\" stroke=\"#707070\" d=\"M678.25,-967.36C582.52,-941.18 148.94,-822.64 53.58,-796.57\"/>\n</g>\n<!-- 10&#45;&gt;13 -->\n<g id=\"edge30\" class=\"edge\">\n<title>10&#45;&gt;13</title>\n<path fill=\"none\" stroke=\"#707070\" d=\"M714.18,-963.26C771.98,-932.21 959.1,-831.71 1016.86,-800.69\"/>\n</g>\n<!-- 10&#45;&gt;14 -->\n<g id=\"edge40\" class=\"edge\">\n<title>10&#45;&gt;14</title>\n<path fill=\"none\" stroke=\"#707070\" d=\"M711.83,-960.61C752.78,-927.81 867.1,-836.25 908.12,-803.4\"/>\n</g>\n<!-- 10&#45;&gt;15 -->\n<g id=\"edge50\" class=\"edge\">\n<title>10&#45;&gt;15</title>\n<path fill=\"none\" stroke=\"#707070\" d=\"M707,-956.74C728.75,-922.5 780.13,-841.64 801.94,-807.32\"/>\n</g>\n<!-- 10&#45;&gt;16 -->\n<g id=\"edge60\" class=\"edge\">\n<title>10&#45;&gt;16</title>\n<path fill=\"none\" stroke=\"#707070\" d=\"M697.41,-953.79C698.18,-919.02 699.82,-844.77 700.59,-810.07\"/>\n</g>\n<!-- 10&#45;&gt;17 -->\n<g id=\"edge70\" class=\"edge\">\n<title>10&#45;&gt;17</title>\n<path fill=\"none\" stroke=\"#707070\" d=\"M687.5,-956.42C667.25,-922.16 620,-842.23 599.63,-807.77\"/>\n</g>\n<!-- 10&#45;&gt;18 -->\n<g id=\"edge80\" class=\"edge\">\n<title>10&#45;&gt;18</title>\n<path fill=\"none\" stroke=\"#707070\" d=\"M682.36,-960.32C642.64,-927.35 533.22,-836.5 493.58,-803.59\"/>\n</g>\n<!-- 10&#45;&gt;19 -->\n<g id=\"edge90\" class=\"edge\">\n<title>10&#45;&gt;19</title>\n<path fill=\"none\" stroke=\"#707070\" d=\"M680.23,-963.26C623.8,-932.21 441.12,-831.71 384.73,-800.69\"/>\n</g>\n<!-- 10&#45;&gt;20 -->\n<g id=\"edge100\" class=\"edge\">\n<title>10&#45;&gt;20</title>\n<path fill=\"none\" stroke=\"#707070\" d=\"M679.21,-965.16C608.3,-936 346.31,-828.22 275.01,-798.89\"/>\n</g>\n<!-- 21 -->\n<g id=\"node21\" class=\"node\">\n<title>21</title>\n<ellipse fill=\"#3498db\" stroke=\"#3498db\" cx=\"146\" cy=\"-607.49\" rx=\"19.5\" ry=\"19.5\"/>\n<text text-anchor=\"middle\" x=\"146\" y=\"-603.79\" font-family=\"Times,serif\" font-size=\"14.00\" fill=\"#3498db\">21</text>\n</g>\n<!-- 11&#45;&gt;21 -->\n<g id=\"edge101\" class=\"edge\">\n<title>11&#45;&gt;21</title>\n<path fill=\"none\" stroke=\"#707070\" d=\"M146,-770.8C146,-736.02 146,-661.77 146,-627.07\"/>\n</g>\n<!-- 22 -->\n<g id=\"node22\" class=\"node\">\n<title>22</title>\n<ellipse fill=\"#3498db\" stroke=\"#3498db\" cx=\"35\" cy=\"-607.49\" rx=\"19.5\" ry=\"19.5\"/>\n<text text-anchor=\"middle\" x=\"35\" y=\"-603.79\" font-family=\"Times,serif\" font-size=\"14.00\" fill=\"#3498db\">22</text>\n</g>\n<!-- 11&#45;&gt;22 -->\n<g id=\"edge111\" class=\"edge\">\n<title>11&#45;&gt;22</title>\n<path fill=\"none\" stroke=\"#707070\" d=\"M136.15,-773.42C115.09,-739.07 65.87,-658.83 44.83,-624.51\"/>\n</g>\n<!-- 23 -->\n<g id=\"node23\" class=\"node\">\n<title>23</title>\n<ellipse fill=\"#3498db\" stroke=\"#3498db\" cx=\"1034\" cy=\"-607.49\" rx=\"19.5\" ry=\"19.5\"/>\n<text text-anchor=\"middle\" x=\"1034\" y=\"-603.79\" font-family=\"Times,serif\" font-size=\"14.00\" fill=\"#3498db\">23</text>\n</g>\n<!-- 11&#45;&gt;23 -->\n<g id=\"edge121\" class=\"edge\">\n<title>11&#45;&gt;23</title>\n<path fill=\"none\" stroke=\"#707070\" d=\"M164.96,-785.62C281.34,-761.9 897.89,-636.23 1014.84,-612.39\"/>\n</g>\n<!-- 24 -->\n<g id=\"node24\" class=\"node\">\n<title>24</title>\n<ellipse fill=\"#3498db\" stroke=\"#3498db\" cx=\"923\" cy=\"-607.49\" rx=\"19.5\" ry=\"19.5\"/>\n<text text-anchor=\"middle\" x=\"923\" y=\"-603.79\" font-family=\"Times,serif\" font-size=\"14.00\" fill=\"#3498db\">24</text>\n</g>\n<!-- 11&#45;&gt;24 -->\n<g id=\"edge131\" class=\"edge\">\n<title>11&#45;&gt;24</title>\n<path fill=\"none\" stroke=\"#707070\" d=\"M164.82,-785.1C271.32,-760.29 797.33,-637.76 904.08,-612.9\"/>\n</g>\n<!-- 25 -->\n<g id=\"node25\" class=\"node\">\n<title>25</title>\n<ellipse fill=\"#3498db\" stroke=\"#3498db\" cx=\"812\" cy=\"-607.49\" rx=\"19.5\" ry=\"19.5\"/>\n<text text-anchor=\"middle\" x=\"812\" y=\"-603.79\" font-family=\"Times,serif\" font-size=\"14.00\" fill=\"#3498db\">25</text>\n</g>\n<!-- 11&#45;&gt;25 -->\n<g id=\"edge141\" class=\"edge\">\n<title>11&#45;&gt;25</title>\n<path fill=\"none\" stroke=\"#707070\" d=\"M164.86,-784.36C261.18,-758.18 697.38,-639.64 793.31,-613.57\"/>\n</g>\n<!-- 26 -->\n<g id=\"node26\" class=\"node\">\n<title>26</title>\n<ellipse fill=\"#3498db\" stroke=\"#3498db\" cx=\"701\" cy=\"-607.49\" rx=\"19.5\" ry=\"19.5\"/>\n<text text-anchor=\"middle\" x=\"701\" y=\"-603.79\" font-family=\"Times,serif\" font-size=\"14.00\" fill=\"#3498db\">26</text>\n</g>\n<!-- 11&#45;&gt;26 -->\n<g id=\"edge151\" class=\"edge\">\n<title>11&#45;&gt;26</title>\n<path fill=\"none\" stroke=\"#707070\" d=\"M164.47,-783.46C249.01,-755.89 598.65,-641.87 682.75,-614.44\"/>\n</g>\n<!-- 27 -->\n<g id=\"node27\" class=\"node\">\n<title>27</title>\n<ellipse fill=\"#3498db\" stroke=\"#3498db\" cx=\"590\" cy=\"-607.49\" rx=\"19.5\" ry=\"19.5\"/>\n<text text-anchor=\"middle\" x=\"590\" y=\"-603.79\" font-family=\"Times,serif\" font-size=\"14.00\" fill=\"#3498db\">27</text>\n</g>\n<!-- 11&#45;&gt;27 -->\n<g id=\"edge161\" class=\"edge\">\n<title>11&#45;&gt;27</title>\n<path fill=\"none\" stroke=\"#707070\" d=\"M163.96,-782.16C235.66,-752.93 501.07,-644.74 572.31,-615.7\"/>\n</g>\n<!-- 28 -->\n<g id=\"node28\" class=\"node\">\n<title>28</title>\n<ellipse fill=\"#3498db\" stroke=\"#3498db\" cx=\"479\" cy=\"-607.49\" rx=\"19.5\" ry=\"19.5\"/>\n<text text-anchor=\"middle\" x=\"479\" y=\"-603.79\" font-family=\"Times,serif\" font-size=\"14.00\" fill=\"#3498db\">28</text>\n</g>\n<!-- 11&#45;&gt;28 -->\n<g id=\"edge171\" class=\"edge\">\n<title>11&#45;&gt;28</title>\n<path fill=\"none\" stroke=\"#707070\" d=\"M162.97,-780.26C220.09,-749.21 404.99,-648.71 462.06,-617.69\"/>\n</g>\n<!-- 29 -->\n<g id=\"node29\" class=\"node\">\n<title>29</title>\n<ellipse fill=\"#3498db\" stroke=\"#3498db\" cx=\"368\" cy=\"-607.49\" rx=\"19.5\" ry=\"19.5\"/>\n<text text-anchor=\"middle\" x=\"368\" y=\"-603.79\" font-family=\"Times,serif\" font-size=\"14.00\" fill=\"#3498db\">29</text>\n</g>\n<!-- 11&#45;&gt;29 -->\n<g id=\"edge181\" class=\"edge\">\n<title>11&#45;&gt;29</title>\n<path fill=\"none\" stroke=\"#707070\" d=\"M160.91,-777.33C201.35,-744.36 312.79,-653.5 353.15,-620.59\"/>\n</g>\n<!-- 30 -->\n<g id=\"node30\" class=\"node\">\n<title>30</title>\n<ellipse fill=\"#3498db\" stroke=\"#3498db\" cx=\"257\" cy=\"-607.49\" rx=\"19.5\" ry=\"19.5\"/>\n<text text-anchor=\"middle\" x=\"257\" y=\"-603.79\" font-family=\"Times,serif\" font-size=\"14.00\" fill=\"#3498db\">30</text>\n</g>\n<!-- 11&#45;&gt;30 -->\n<g id=\"edge191\" class=\"edge\">\n<title>11&#45;&gt;30</title>\n<path fill=\"none\" stroke=\"#707070\" d=\"M155.85,-773.42C176.91,-739.07 226.13,-658.83 247.17,-624.51\"/>\n</g>\n<!-- 12&#45;&gt;21 -->\n<g id=\"edge102\" class=\"edge\">\n<title>12&#45;&gt;21</title>\n<path fill=\"none\" stroke=\"#707070\" d=\"M44.85,-773.42C65.91,-739.07 115.13,-658.83 136.17,-624.51\"/>\n</g>\n<!-- 12&#45;&gt;22 -->\n<g id=\"edge112\" class=\"edge\">\n<title>12&#45;&gt;22</title>\n<path fill=\"none\" stroke=\"#707070\" d=\"M35,-770.8C35,-736.02 35,-661.77 35,-627.07\"/>\n</g>\n<!-- 12&#45;&gt;23 -->\n<g id=\"edge122\" class=\"edge\">\n<title>12&#45;&gt;23</title>\n<path fill=\"none\" stroke=\"#707070\" d=\"M54.06,-786.03C179.77,-763.26 888.42,-634.86 1014.74,-611.98\"/>\n</g>\n<!-- 12&#45;&gt;24 -->\n<g id=\"edge132\" class=\"edge\">\n<title>12&#45;&gt;24</title>\n<path fill=\"none\" stroke=\"#707070\" d=\"M53.96,-785.62C170.34,-761.9 786.89,-636.23 903.84,-612.39\"/>\n</g>\n<!-- 12&#45;&gt;25 -->\n<g id=\"edge142\" class=\"edge\">\n<title>12&#45;&gt;25</title>\n<path fill=\"none\" stroke=\"#707070\" d=\"M53.82,-785.1C160.32,-760.29 686.33,-637.76 793.08,-612.9\"/>\n</g>\n<!-- 12&#45;&gt;26 -->\n<g id=\"edge152\" class=\"edge\">\n<title>12&#45;&gt;26</title>\n<path fill=\"none\" stroke=\"#707070\" d=\"M53.86,-784.36C150.18,-758.18 586.38,-639.64 682.31,-613.57\"/>\n</g>\n<!-- 12&#45;&gt;27 -->\n<g id=\"edge162\" class=\"edge\">\n<title>12&#45;&gt;27</title>\n<path fill=\"none\" stroke=\"#707070\" d=\"M53.47,-783.46C138.01,-755.89 487.65,-641.87 571.75,-614.44\"/>\n</g>\n<!-- 12&#45;&gt;28 -->\n<g id=\"edge172\" class=\"edge\">\n<title>12&#45;&gt;28</title>\n<path fill=\"none\" stroke=\"#707070\" d=\"M52.96,-782.16C124.66,-752.93 390.07,-644.74 461.31,-615.7\"/>\n</g>\n<!-- 12&#45;&gt;29 -->\n<g id=\"edge182\" class=\"edge\">\n<title>12&#45;&gt;29</title>\n<path fill=\"none\" stroke=\"#707070\" d=\"M51.97,-780.26C109.09,-749.21 293.99,-648.71 351.06,-617.69\"/>\n</g>\n<!-- 12&#45;&gt;30 -->\n<g id=\"edge192\" class=\"edge\">\n<title>12&#45;&gt;30</title>\n<path fill=\"none\" stroke=\"#707070\" d=\"M49.91,-777.33C90.35,-744.36 201.79,-653.5 242.15,-620.59\"/>\n</g>\n<!-- 13&#45;&gt;21 -->\n<g id=\"edge103\" class=\"edge\">\n<title>13&#45;&gt;21</title>\n<path fill=\"none\" stroke=\"#707070\" d=\"M1015.04,-785.62C898.66,-761.9 282.11,-636.23 165.16,-612.39\"/>\n</g>\n<!-- 13&#45;&gt;22 -->\n<g id=\"edge113\" class=\"edge\">\n<title>13&#45;&gt;22</title>\n<path fill=\"none\" stroke=\"#707070\" d=\"M1014.94,-786.03C889.23,-763.26 180.58,-634.86 54.26,-611.98\"/>\n</g>\n<!-- 13&#45;&gt;23 -->\n<g id=\"edge123\" class=\"edge\">\n<title>13&#45;&gt;23</title>\n<path fill=\"none\" stroke=\"#707070\" d=\"M1034,-770.8C1034,-736.02 1034,-661.77 1034,-627.07\"/>\n</g>\n<!-- 13&#45;&gt;24 -->\n<g id=\"edge133\" class=\"edge\">\n<title>13&#45;&gt;24</title>\n<path fill=\"none\" stroke=\"#707070\" d=\"M1024.15,-773.42C1003.09,-739.07 953.87,-658.83 932.83,-624.51\"/>\n</g>\n<!-- 13&#45;&gt;25 -->\n<g id=\"edge143\" class=\"edge\">\n<title>13&#45;&gt;25</title>\n<path fill=\"none\" stroke=\"#707070\" d=\"M1019.09,-777.33C978.65,-744.36 867.21,-653.5 826.85,-620.59\"/>\n</g>\n<!-- 13&#45;&gt;26 -->\n<g id=\"edge153\" class=\"edge\">\n<title>13&#45;&gt;26</title>\n<path fill=\"none\" stroke=\"#707070\" d=\"M1017.03,-780.26C959.91,-749.21 775.01,-648.71 717.94,-617.69\"/>\n</g>\n<!-- 13&#45;&gt;27 -->\n<g id=\"edge163\" class=\"edge\">\n<title>13&#45;&gt;27</title>\n<path fill=\"none\" stroke=\"#707070\" d=\"M1016.04,-782.16C944.34,-752.93 678.93,-644.74 607.69,-615.7\"/>\n</g>\n<!-- 13&#45;&gt;28 -->\n<g id=\"edge173\" class=\"edge\">\n<title>13&#45;&gt;28</title>\n<path fill=\"none\" stroke=\"#707070\" d=\"M1015.53,-783.46C930.99,-755.89 581.35,-641.87 497.25,-614.44\"/>\n</g>\n<!-- 13&#45;&gt;29 -->\n<g id=\"edge183\" class=\"edge\">\n<title>13&#45;&gt;29</title>\n<path fill=\"none\" stroke=\"#707070\" d=\"M1015.14,-784.36C918.82,-758.18 482.62,-639.64 386.69,-613.57\"/>\n</g>\n<!-- 13&#45;&gt;30 -->\n<g id=\"edge193\" class=\"edge\">\n<title>13&#45;&gt;30</title>\n<path fill=\"none\" stroke=\"#707070\" d=\"M1015.18,-785.1C908.68,-760.29 382.67,-637.76 275.92,-612.9\"/>\n</g>\n<!-- 14&#45;&gt;21 -->\n<g id=\"edge104\" class=\"edge\">\n<title>14&#45;&gt;21</title>\n<path fill=\"none\" stroke=\"#707070\" d=\"M904.18,-785.1C797.68,-760.29 271.67,-637.76 164.92,-612.9\"/>\n</g>\n<!-- 14&#45;&gt;22 -->\n<g id=\"edge114\" class=\"edge\">\n<title>14&#45;&gt;22</title>\n<path fill=\"none\" stroke=\"#707070\" d=\"M904.04,-785.62C787.66,-761.9 171.11,-636.23 54.16,-612.39\"/>\n</g>\n<!-- 14&#45;&gt;23 -->\n<g id=\"edge124\" class=\"edge\">\n<title>14&#45;&gt;23</title>\n<path fill=\"none\" stroke=\"#707070\" d=\"M932.85,-773.42C953.91,-739.07 1003.13,-658.83 1024.17,-624.51\"/>\n</g>\n<!-- 14&#45;&gt;24 -->\n<g id=\"edge134\" class=\"edge\">\n<title>14&#45;&gt;24</title>\n<path fill=\"none\" stroke=\"#707070\" d=\"M923,-770.8C923,-736.02 923,-661.77 923,-627.07\"/>\n</g>\n<!-- 14&#45;&gt;25 -->\n<g id=\"edge144\" class=\"edge\">\n<title>14&#45;&gt;25</title>\n<path fill=\"none\" stroke=\"#707070\" d=\"M913.15,-773.42C892.09,-739.07 842.87,-658.83 821.83,-624.51\"/>\n</g>\n<!-- 14&#45;&gt;26 -->\n<g id=\"edge154\" class=\"edge\">\n<title>14&#45;&gt;26</title>\n<path fill=\"none\" stroke=\"#707070\" d=\"M908.09,-777.33C867.65,-744.36 756.21,-653.5 715.85,-620.59\"/>\n</g>\n<!-- 14&#45;&gt;27 -->\n<g id=\"edge164\" class=\"edge\">\n<title>14&#45;&gt;27</title>\n<path fill=\"none\" stroke=\"#707070\" d=\"M906.03,-780.26C848.91,-749.21 664.01,-648.71 606.94,-617.69\"/>\n</g>\n<!-- 14&#45;&gt;28 -->\n<g id=\"edge174\" class=\"edge\">\n<title>14&#45;&gt;28</title>\n<path fill=\"none\" stroke=\"#707070\" d=\"M905.04,-782.16C833.34,-752.93 567.93,-644.74 496.69,-615.7\"/>\n</g>\n<!-- 14&#45;&gt;29 -->\n<g id=\"edge184\" class=\"edge\">\n<title>14&#45;&gt;29</title>\n<path fill=\"none\" stroke=\"#707070\" d=\"M904.53,-783.46C819.99,-755.89 470.35,-641.87 386.25,-614.44\"/>\n</g>\n<!-- 14&#45;&gt;30 -->\n<g id=\"edge194\" class=\"edge\">\n<title>14&#45;&gt;30</title>\n<path fill=\"none\" stroke=\"#707070\" d=\"M904.14,-784.36C807.82,-758.18 371.62,-639.64 275.69,-613.57\"/>\n</g>\n<!-- 15&#45;&gt;21 -->\n<g id=\"edge105\" class=\"edge\">\n<title>15&#45;&gt;21</title>\n<path fill=\"none\" stroke=\"#707070\" d=\"M793.14,-784.36C696.82,-758.18 260.62,-639.64 164.69,-613.57\"/>\n</g>\n<!-- 15&#45;&gt;22 -->\n<g id=\"edge115\" class=\"edge\">\n<title>15&#45;&gt;22</title>\n<path fill=\"none\" stroke=\"#707070\" d=\"M793.18,-785.1C686.68,-760.29 160.67,-637.76 53.92,-612.9\"/>\n</g>\n<!-- 15&#45;&gt;23 -->\n<g id=\"edge125\" class=\"edge\">\n<title>15&#45;&gt;23</title>\n<path fill=\"none\" stroke=\"#707070\" d=\"M826.91,-777.33C867.35,-744.36 978.79,-653.5 1019.15,-620.59\"/>\n</g>\n<!-- 15&#45;&gt;24 -->\n<g id=\"edge135\" class=\"edge\">\n<title>15&#45;&gt;24</title>\n<path fill=\"none\" stroke=\"#707070\" d=\"M821.85,-773.42C842.91,-739.07 892.13,-658.83 913.17,-624.51\"/>\n</g>\n<!-- 15&#45;&gt;25 -->\n<g id=\"edge145\" class=\"edge\">\n<title>15&#45;&gt;25</title>\n<path fill=\"none\" stroke=\"#707070\" d=\"M812,-770.8C812,-736.02 812,-661.77 812,-627.07\"/>\n</g>\n<!-- 15&#45;&gt;26 -->\n<g id=\"edge155\" class=\"edge\">\n<title>15&#45;&gt;26</title>\n<path fill=\"none\" stroke=\"#707070\" d=\"M802.15,-773.42C781.09,-739.07 731.87,-658.83 710.83,-624.51\"/>\n</g>\n<!-- 15&#45;&gt;27 -->\n<g id=\"edge165\" class=\"edge\">\n<title>15&#45;&gt;27</title>\n<path fill=\"none\" stroke=\"#707070\" d=\"M797.09,-777.33C756.65,-744.36 645.21,-653.5 604.85,-620.59\"/>\n</g>\n<!-- 15&#45;&gt;28 -->\n<g id=\"edge175\" class=\"edge\">\n<title>15&#45;&gt;28</title>\n<path fill=\"none\" stroke=\"#707070\" d=\"M795.03,-780.26C737.91,-749.21 553.01,-648.71 495.94,-617.69\"/>\n</g>\n<!-- 15&#45;&gt;29 -->\n<g id=\"edge185\" class=\"edge\">\n<title>15&#45;&gt;29</title>\n<path fill=\"none\" stroke=\"#707070\" d=\"M794.04,-782.16C722.34,-752.93 456.93,-644.74 385.69,-615.7\"/>\n</g>\n<!-- 15&#45;&gt;30 -->\n<g id=\"edge195\" class=\"edge\">\n<title>15&#45;&gt;30</title>\n<path fill=\"none\" stroke=\"#707070\" d=\"M793.53,-783.46C708.99,-755.89 359.35,-641.87 275.25,-614.44\"/>\n</g>\n<!-- 16&#45;&gt;21 -->\n<g id=\"edge106\" class=\"edge\">\n<title>16&#45;&gt;21</title>\n<path fill=\"none\" stroke=\"#707070\" d=\"M682.53,-783.46C597.99,-755.89 248.35,-641.87 164.25,-614.44\"/>\n</g>\n<!-- 16&#45;&gt;22 -->\n<g id=\"edge116\" class=\"edge\">\n<title>16&#45;&gt;22</title>\n<path fill=\"none\" stroke=\"#707070\" d=\"M682.14,-784.36C585.82,-758.18 149.62,-639.64 53.69,-613.57\"/>\n</g>\n<!-- 16&#45;&gt;23 -->\n<g id=\"edge126\" class=\"edge\">\n<title>16&#45;&gt;23</title>\n<path fill=\"none\" stroke=\"#707070\" d=\"M717.97,-780.26C775.09,-749.21 959.99,-648.71 1017.06,-617.69\"/>\n</g>\n<!-- 16&#45;&gt;24 -->\n<g id=\"edge136\" class=\"edge\">\n<title>16&#45;&gt;24</title>\n<path fill=\"none\" stroke=\"#707070\" d=\"M715.91,-777.33C756.35,-744.36 867.79,-653.5 908.15,-620.59\"/>\n</g>\n<!-- 16&#45;&gt;25 -->\n<g id=\"edge146\" class=\"edge\">\n<title>16&#45;&gt;25</title>\n<path fill=\"none\" stroke=\"#707070\" d=\"M710.85,-773.42C731.91,-739.07 781.13,-658.83 802.17,-624.51\"/>\n</g>\n<!-- 16&#45;&gt;26 -->\n<g id=\"edge156\" class=\"edge\">\n<title>16&#45;&gt;26</title>\n<path fill=\"none\" stroke=\"#707070\" d=\"M701,-770.8C701,-736.02 701,-661.77 701,-627.07\"/>\n</g>\n<!-- 16&#45;&gt;27 -->\n<g id=\"edge166\" class=\"edge\">\n<title>16&#45;&gt;27</title>\n<path fill=\"none\" stroke=\"#707070\" d=\"M691.15,-773.42C670.09,-739.07 620.87,-658.83 599.83,-624.51\"/>\n</g>\n<!-- 16&#45;&gt;28 -->\n<g id=\"edge176\" class=\"edge\">\n<title>16&#45;&gt;28</title>\n<path fill=\"none\" stroke=\"#707070\" d=\"M686.09,-777.33C645.65,-744.36 534.21,-653.5 493.85,-620.59\"/>\n</g>\n<!-- 16&#45;&gt;29 -->\n<g id=\"edge186\" class=\"edge\">\n<title>16&#45;&gt;29</title>\n<path fill=\"none\" stroke=\"#707070\" d=\"M684.03,-780.26C626.91,-749.21 442.01,-648.71 384.94,-617.69\"/>\n</g>\n<!-- 16&#45;&gt;30 -->\n<g id=\"edge196\" class=\"edge\">\n<title>16&#45;&gt;30</title>\n<path fill=\"none\" stroke=\"#707070\" d=\"M683.04,-782.16C611.34,-752.93 345.93,-644.74 274.69,-615.7\"/>\n</g>\n<!-- 17&#45;&gt;21 -->\n<g id=\"edge107\" class=\"edge\">\n<title>17&#45;&gt;21</title>\n<path fill=\"none\" stroke=\"#707070\" d=\"M572.04,-782.16C500.34,-752.93 234.93,-644.74 163.69,-615.7\"/>\n</g>\n<!-- 17&#45;&gt;22 -->\n<g id=\"edge117\" class=\"edge\">\n<title>17&#45;&gt;22</title>\n<path fill=\"none\" stroke=\"#707070\" d=\"M571.53,-783.46C486.99,-755.89 137.35,-641.87 53.25,-614.44\"/>\n</g>\n<!-- 17&#45;&gt;23 -->\n<g id=\"edge127\" class=\"edge\">\n<title>17&#45;&gt;23</title>\n<path fill=\"none\" stroke=\"#707070\" d=\"M607.96,-782.16C679.66,-752.93 945.07,-644.74 1016.31,-615.7\"/>\n</g>\n<!-- 17&#45;&gt;24 -->\n<g id=\"edge137\" class=\"edge\">\n<title>17&#45;&gt;24</title>\n<path fill=\"none\" stroke=\"#707070\" d=\"M606.97,-780.26C664.09,-749.21 848.99,-648.71 906.06,-617.69\"/>\n</g>\n<!-- 17&#45;&gt;25 -->\n<g id=\"edge147\" class=\"edge\">\n<title>17&#45;&gt;25</title>\n<path fill=\"none\" stroke=\"#707070\" d=\"M604.91,-777.33C645.35,-744.36 756.79,-653.5 797.15,-620.59\"/>\n</g>\n<!-- 17&#45;&gt;26 -->\n<g id=\"edge157\" class=\"edge\">\n<title>17&#45;&gt;26</title>\n<path fill=\"none\" stroke=\"#707070\" d=\"M599.85,-773.42C620.91,-739.07 670.13,-658.83 691.17,-624.51\"/>\n</g>\n<!-- 17&#45;&gt;27 -->\n<g id=\"edge167\" class=\"edge\">\n<title>17&#45;&gt;27</title>\n<path fill=\"none\" stroke=\"#707070\" d=\"M590,-770.8C590,-736.02 590,-661.77 590,-627.07\"/>\n</g>\n<!-- 17&#45;&gt;28 -->\n<g id=\"edge177\" class=\"edge\">\n<title>17&#45;&gt;28</title>\n<path fill=\"none\" stroke=\"#707070\" d=\"M580.15,-773.42C559.09,-739.07 509.87,-658.83 488.83,-624.51\"/>\n</g>\n<!-- 17&#45;&gt;29 -->\n<g id=\"edge187\" class=\"edge\">\n<title>17&#45;&gt;29</title>\n<path fill=\"none\" stroke=\"#707070\" d=\"M575.09,-777.33C534.65,-744.36 423.21,-653.5 382.85,-620.59\"/>\n</g>\n<!-- 17&#45;&gt;30 -->\n<g id=\"edge197\" class=\"edge\">\n<title>17&#45;&gt;30</title>\n<path fill=\"none\" stroke=\"#707070\" d=\"M573.03,-780.26C515.91,-749.21 331.01,-648.71 273.94,-617.69\"/>\n</g>\n<!-- 18&#45;&gt;21 -->\n<g id=\"edge108\" class=\"edge\">\n<title>18&#45;&gt;21</title>\n<path fill=\"none\" stroke=\"#707070\" d=\"M462.03,-780.26C404.91,-749.21 220.01,-648.71 162.94,-617.69\"/>\n</g>\n<!-- 18&#45;&gt;22 -->\n<g id=\"edge118\" class=\"edge\">\n<title>18&#45;&gt;22</title>\n<path fill=\"none\" stroke=\"#707070\" d=\"M461.04,-782.16C389.34,-752.93 123.93,-644.74 52.69,-615.7\"/>\n</g>\n<!-- 18&#45;&gt;23 -->\n<g id=\"edge128\" class=\"edge\">\n<title>18&#45;&gt;23</title>\n<path fill=\"none\" stroke=\"#707070\" d=\"M497.47,-783.46C582.01,-755.89 931.65,-641.87 1015.75,-614.44\"/>\n</g>\n<!-- 18&#45;&gt;24 -->\n<g id=\"edge138\" class=\"edge\">\n<title>18&#45;&gt;24</title>\n<path fill=\"none\" stroke=\"#707070\" d=\"M496.96,-782.16C568.66,-752.93 834.07,-644.74 905.31,-615.7\"/>\n</g>\n<!-- 18&#45;&gt;25 -->\n<g id=\"edge148\" class=\"edge\">\n<title>18&#45;&gt;25</title>\n<path fill=\"none\" stroke=\"#707070\" d=\"M495.97,-780.26C553.09,-749.21 737.99,-648.71 795.06,-617.69\"/>\n</g>\n<!-- 18&#45;&gt;26 -->\n<g id=\"edge158\" class=\"edge\">\n<title>18&#45;&gt;26</title>\n<path fill=\"none\" stroke=\"#707070\" d=\"M493.91,-777.33C534.35,-744.36 645.79,-653.5 686.15,-620.59\"/>\n</g>\n<!-- 18&#45;&gt;27 -->\n<g id=\"edge168\" class=\"edge\">\n<title>18&#45;&gt;27</title>\n<path fill=\"none\" stroke=\"#707070\" d=\"M488.85,-773.42C509.91,-739.07 559.13,-658.83 580.17,-624.51\"/>\n</g>\n<!-- 18&#45;&gt;28 -->\n<g id=\"edge178\" class=\"edge\">\n<title>18&#45;&gt;28</title>\n<path fill=\"none\" stroke=\"#707070\" d=\"M479,-770.8C479,-736.02 479,-661.77 479,-627.07\"/>\n</g>\n<!-- 18&#45;&gt;29 -->\n<g id=\"edge188\" class=\"edge\">\n<title>18&#45;&gt;29</title>\n<path fill=\"none\" stroke=\"#707070\" d=\"M469.15,-773.42C448.09,-739.07 398.87,-658.83 377.83,-624.51\"/>\n</g>\n<!-- 18&#45;&gt;30 -->\n<g id=\"edge198\" class=\"edge\">\n<title>18&#45;&gt;30</title>\n<path fill=\"none\" stroke=\"#707070\" d=\"M464.09,-777.33C423.65,-744.36 312.21,-653.5 271.85,-620.59\"/>\n</g>\n<!-- 19&#45;&gt;21 -->\n<g id=\"edge109\" class=\"edge\">\n<title>19&#45;&gt;21</title>\n<path fill=\"none\" stroke=\"#707070\" d=\"M353.09,-777.33C312.65,-744.36 201.21,-653.5 160.85,-620.59\"/>\n</g>\n<!-- 19&#45;&gt;22 -->\n<g id=\"edge119\" class=\"edge\">\n<title>19&#45;&gt;22</title>\n<path fill=\"none\" stroke=\"#707070\" d=\"M351.03,-780.26C293.91,-749.21 109.01,-648.71 51.94,-617.69\"/>\n</g>\n<!-- 19&#45;&gt;23 -->\n<g id=\"edge129\" class=\"edge\">\n<title>19&#45;&gt;23</title>\n<path fill=\"none\" stroke=\"#707070\" d=\"M386.86,-784.36C483.18,-758.18 919.38,-639.64 1015.31,-613.57\"/>\n</g>\n<!-- 19&#45;&gt;24 -->\n<g id=\"edge139\" class=\"edge\">\n<title>19&#45;&gt;24</title>\n<path fill=\"none\" stroke=\"#707070\" d=\"M386.47,-783.46C471.01,-755.89 820.65,-641.87 904.75,-614.44\"/>\n</g>\n<!-- 19&#45;&gt;25 -->\n<g id=\"edge149\" class=\"edge\">\n<title>19&#45;&gt;25</title>\n<path fill=\"none\" stroke=\"#707070\" d=\"M385.96,-782.16C457.66,-752.93 723.07,-644.74 794.31,-615.7\"/>\n</g>\n<!-- 19&#45;&gt;26 -->\n<g id=\"edge159\" class=\"edge\">\n<title>19&#45;&gt;26</title>\n<path fill=\"none\" stroke=\"#707070\" d=\"M384.97,-780.26C442.09,-749.21 626.99,-648.71 684.06,-617.69\"/>\n</g>\n<!-- 19&#45;&gt;27 -->\n<g id=\"edge169\" class=\"edge\">\n<title>19&#45;&gt;27</title>\n<path fill=\"none\" stroke=\"#707070\" d=\"M382.91,-777.33C423.35,-744.36 534.79,-653.5 575.15,-620.59\"/>\n</g>\n<!-- 19&#45;&gt;28 -->\n<g id=\"edge179\" class=\"edge\">\n<title>19&#45;&gt;28</title>\n<path fill=\"none\" stroke=\"#707070\" d=\"M377.85,-773.42C398.91,-739.07 448.13,-658.83 469.17,-624.51\"/>\n</g>\n<!-- 19&#45;&gt;29 -->\n<g id=\"edge189\" class=\"edge\">\n<title>19&#45;&gt;29</title>\n<path fill=\"none\" stroke=\"#707070\" d=\"M368,-770.8C368,-736.02 368,-661.77 368,-627.07\"/>\n</g>\n<!-- 19&#45;&gt;30 -->\n<g id=\"edge199\" class=\"edge\">\n<title>19&#45;&gt;30</title>\n<path fill=\"none\" stroke=\"#707070\" d=\"M358.15,-773.42C337.09,-739.07 287.87,-658.83 266.83,-624.51\"/>\n</g>\n<!-- 20&#45;&gt;21 -->\n<g id=\"edge110\" class=\"edge\">\n<title>20&#45;&gt;21</title>\n<path fill=\"none\" stroke=\"#707070\" d=\"M247.15,-773.42C226.09,-739.07 176.87,-658.83 155.83,-624.51\"/>\n</g>\n<!-- 20&#45;&gt;22 -->\n<g id=\"edge120\" class=\"edge\">\n<title>20&#45;&gt;22</title>\n<path fill=\"none\" stroke=\"#707070\" d=\"M242.09,-777.33C201.65,-744.36 90.21,-653.5 49.85,-620.59\"/>\n</g>\n<!-- 20&#45;&gt;23 -->\n<g id=\"edge130\" class=\"edge\">\n<title>20&#45;&gt;23</title>\n<path fill=\"none\" stroke=\"#707070\" d=\"M275.82,-785.1C382.32,-760.29 908.33,-637.76 1015.08,-612.9\"/>\n</g>\n<!-- 20&#45;&gt;24 -->\n<g id=\"edge140\" class=\"edge\">\n<title>20&#45;&gt;24</title>\n<path fill=\"none\" stroke=\"#707070\" d=\"M275.86,-784.36C372.18,-758.18 808.38,-639.64 904.31,-613.57\"/>\n</g>\n<!-- 20&#45;&gt;25 -->\n<g id=\"edge150\" class=\"edge\">\n<title>20&#45;&gt;25</title>\n<path fill=\"none\" stroke=\"#707070\" d=\"M275.47,-783.46C360.01,-755.89 709.65,-641.87 793.75,-614.44\"/>\n</g>\n<!-- 20&#45;&gt;26 -->\n<g id=\"edge160\" class=\"edge\">\n<title>20&#45;&gt;26</title>\n<path fill=\"none\" stroke=\"#707070\" d=\"M274.96,-782.16C346.66,-752.93 612.07,-644.74 683.31,-615.7\"/>\n</g>\n<!-- 20&#45;&gt;27 -->\n<g id=\"edge170\" class=\"edge\">\n<title>20&#45;&gt;27</title>\n<path fill=\"none\" stroke=\"#707070\" d=\"M273.97,-780.26C331.09,-749.21 515.99,-648.71 573.06,-617.69\"/>\n</g>\n<!-- 20&#45;&gt;28 -->\n<g id=\"edge180\" class=\"edge\">\n<title>20&#45;&gt;28</title>\n<path fill=\"none\" stroke=\"#707070\" d=\"M271.91,-777.33C312.35,-744.36 423.79,-653.5 464.15,-620.59\"/>\n</g>\n<!-- 20&#45;&gt;29 -->\n<g id=\"edge190\" class=\"edge\">\n<title>20&#45;&gt;29</title>\n<path fill=\"none\" stroke=\"#707070\" d=\"M266.85,-773.42C287.91,-739.07 337.13,-658.83 358.17,-624.51\"/>\n</g>\n<!-- 20&#45;&gt;30 -->\n<g id=\"edge200\" class=\"edge\">\n<title>20&#45;&gt;30</title>\n<path fill=\"none\" stroke=\"#707070\" d=\"M257,-770.8C257,-736.02 257,-661.77 257,-627.07\"/>\n</g>\n<!-- 31 -->\n<g id=\"node31\" class=\"node\">\n<title>31</title>\n<ellipse fill=\"#3498db\" stroke=\"#3498db\" cx=\"146\" cy=\"-424.49\" rx=\"19.5\" ry=\"19.5\"/>\n<text text-anchor=\"middle\" x=\"146\" y=\"-420.79\" font-family=\"Times,serif\" font-size=\"14.00\" fill=\"#3498db\">31</text>\n</g>\n<!-- 21&#45;&gt;31 -->\n<g id=\"edge201\" class=\"edge\">\n<title>21&#45;&gt;31</title>\n<path fill=\"none\" stroke=\"#707070\" d=\"M146,-587.8C146,-553.03 146,-478.77 146,-444.08\"/>\n</g>\n<!-- 32 -->\n<g id=\"node32\" class=\"node\">\n<title>32</title>\n<ellipse fill=\"#3498db\" stroke=\"#3498db\" cx=\"35\" cy=\"-424.49\" rx=\"19.5\" ry=\"19.5\"/>\n<text text-anchor=\"middle\" x=\"35\" y=\"-420.79\" font-family=\"Times,serif\" font-size=\"14.00\" fill=\"#3498db\">32</text>\n</g>\n<!-- 21&#45;&gt;32 -->\n<g id=\"edge211\" class=\"edge\">\n<title>21&#45;&gt;32</title>\n<path fill=\"none\" stroke=\"#707070\" d=\"M136.15,-590.43C115.09,-556.08 65.87,-475.83 44.83,-441.52\"/>\n</g>\n<!-- 33 -->\n<g id=\"node33\" class=\"node\">\n<title>33</title>\n<ellipse fill=\"#3498db\" stroke=\"#3498db\" cx=\"1034\" cy=\"-424.49\" rx=\"19.5\" ry=\"19.5\"/>\n<text text-anchor=\"middle\" x=\"1034\" y=\"-420.79\" font-family=\"Times,serif\" font-size=\"14.00\" fill=\"#3498db\">33</text>\n</g>\n<!-- 21&#45;&gt;33 -->\n<g id=\"edge221\" class=\"edge\">\n<title>21&#45;&gt;33</title>\n<path fill=\"none\" stroke=\"#707070\" d=\"M164.96,-602.62C281.34,-578.9 897.89,-453.23 1014.84,-429.4\"/>\n</g>\n<!-- 34 -->\n<g id=\"node34\" class=\"node\">\n<title>34</title>\n<ellipse fill=\"#3498db\" stroke=\"#3498db\" cx=\"923\" cy=\"-424.49\" rx=\"19.5\" ry=\"19.5\"/>\n<text text-anchor=\"middle\" x=\"923\" y=\"-420.79\" font-family=\"Times,serif\" font-size=\"14.00\" fill=\"#3498db\">34</text>\n</g>\n<!-- 21&#45;&gt;34 -->\n<g id=\"edge231\" class=\"edge\">\n<title>21&#45;&gt;34</title>\n<path fill=\"none\" stroke=\"#707070\" d=\"M164.82,-602.1C271.32,-577.3 797.33,-454.77 904.08,-429.9\"/>\n</g>\n<!-- 35 -->\n<g id=\"node35\" class=\"node\">\n<title>35</title>\n<ellipse fill=\"#3498db\" stroke=\"#3498db\" cx=\"812\" cy=\"-424.49\" rx=\"19.5\" ry=\"19.5\"/>\n<text text-anchor=\"middle\" x=\"812\" y=\"-420.79\" font-family=\"Times,serif\" font-size=\"14.00\" fill=\"#3498db\">35</text>\n</g>\n<!-- 21&#45;&gt;35 -->\n<g id=\"edge241\" class=\"edge\">\n<title>21&#45;&gt;35</title>\n<path fill=\"none\" stroke=\"#707070\" d=\"M164.86,-601.36C261.18,-575.19 697.38,-456.64 793.31,-430.57\"/>\n</g>\n<!-- 36 -->\n<g id=\"node36\" class=\"node\">\n<title>36</title>\n<ellipse fill=\"#3498db\" stroke=\"#3498db\" cx=\"701\" cy=\"-424.49\" rx=\"19.5\" ry=\"19.5\"/>\n<text text-anchor=\"middle\" x=\"701\" y=\"-420.79\" font-family=\"Times,serif\" font-size=\"14.00\" fill=\"#3498db\">36</text>\n</g>\n<!-- 21&#45;&gt;36 -->\n<g id=\"edge251\" class=\"edge\">\n<title>21&#45;&gt;36</title>\n<path fill=\"none\" stroke=\"#707070\" d=\"M164.47,-600.47C249.01,-572.89 598.65,-458.87 682.75,-431.44\"/>\n</g>\n<!-- 37 -->\n<g id=\"node37\" class=\"node\">\n<title>37</title>\n<ellipse fill=\"#3498db\" stroke=\"#3498db\" cx=\"590\" cy=\"-424.49\" rx=\"19.5\" ry=\"19.5\"/>\n<text text-anchor=\"middle\" x=\"590\" y=\"-420.79\" font-family=\"Times,serif\" font-size=\"14.00\" fill=\"#3498db\">37</text>\n</g>\n<!-- 21&#45;&gt;37 -->\n<g id=\"edge261\" class=\"edge\">\n<title>21&#45;&gt;37</title>\n<path fill=\"none\" stroke=\"#707070\" d=\"M163.96,-599.17C235.66,-569.94 501.07,-461.74 572.31,-432.7\"/>\n</g>\n<!-- 38 -->\n<g id=\"node38\" class=\"node\">\n<title>38</title>\n<ellipse fill=\"#3498db\" stroke=\"#3498db\" cx=\"479\" cy=\"-424.49\" rx=\"19.5\" ry=\"19.5\"/>\n<text text-anchor=\"middle\" x=\"479\" y=\"-420.79\" font-family=\"Times,serif\" font-size=\"14.00\" fill=\"#3498db\">38</text>\n</g>\n<!-- 21&#45;&gt;38 -->\n<g id=\"edge271\" class=\"edge\">\n<title>21&#45;&gt;38</title>\n<path fill=\"none\" stroke=\"#707070\" d=\"M162.97,-597.26C220.09,-566.21 404.99,-465.72 462.06,-434.7\"/>\n</g>\n<!-- 39 -->\n<g id=\"node39\" class=\"node\">\n<title>39</title>\n<ellipse fill=\"#3498db\" stroke=\"#3498db\" cx=\"368\" cy=\"-424.49\" rx=\"19.5\" ry=\"19.5\"/>\n<text text-anchor=\"middle\" x=\"368\" y=\"-420.79\" font-family=\"Times,serif\" font-size=\"14.00\" fill=\"#3498db\">39</text>\n</g>\n<!-- 21&#45;&gt;39 -->\n<g id=\"edge281\" class=\"edge\">\n<title>21&#45;&gt;39</title>\n<path fill=\"none\" stroke=\"#707070\" d=\"M160.91,-594.33C201.35,-561.36 312.79,-470.51 353.15,-437.6\"/>\n</g>\n<!-- 40 -->\n<g id=\"node40\" class=\"node\">\n<title>40</title>\n<ellipse fill=\"#3498db\" stroke=\"#3498db\" cx=\"257\" cy=\"-424.49\" rx=\"19.5\" ry=\"19.5\"/>\n<text text-anchor=\"middle\" x=\"257\" y=\"-420.79\" font-family=\"Times,serif\" font-size=\"14.00\" fill=\"#3498db\">40</text>\n</g>\n<!-- 21&#45;&gt;40 -->\n<g id=\"edge291\" class=\"edge\">\n<title>21&#45;&gt;40</title>\n<path fill=\"none\" stroke=\"#707070\" d=\"M155.85,-590.43C176.91,-556.08 226.13,-475.83 247.17,-441.52\"/>\n</g>\n<!-- 22&#45;&gt;31 -->\n<g id=\"edge202\" class=\"edge\">\n<title>22&#45;&gt;31</title>\n<path fill=\"none\" stroke=\"#707070\" d=\"M44.85,-590.43C65.91,-556.08 115.13,-475.83 136.17,-441.52\"/>\n</g>\n<!-- 22&#45;&gt;32 -->\n<g id=\"edge212\" class=\"edge\">\n<title>22&#45;&gt;32</title>\n<path fill=\"none\" stroke=\"#707070\" d=\"M35,-587.8C35,-553.03 35,-478.77 35,-444.08\"/>\n</g>\n<!-- 22&#45;&gt;33 -->\n<g id=\"edge222\" class=\"edge\">\n<title>22&#45;&gt;33</title>\n<path fill=\"none\" stroke=\"#707070\" d=\"M54.06,-603.03C179.77,-580.26 888.42,-451.87 1014.74,-428.98\"/>\n</g>\n<!-- 22&#45;&gt;34 -->\n<g id=\"edge232\" class=\"edge\">\n<title>22&#45;&gt;34</title>\n<path fill=\"none\" stroke=\"#707070\" d=\"M53.96,-602.62C170.34,-578.9 786.89,-453.23 903.84,-429.4\"/>\n</g>\n<!-- 22&#45;&gt;35 -->\n<g id=\"edge242\" class=\"edge\">\n<title>22&#45;&gt;35</title>\n<path fill=\"none\" stroke=\"#707070\" d=\"M53.82,-602.1C160.32,-577.3 686.33,-454.77 793.08,-429.9\"/>\n</g>\n<!-- 22&#45;&gt;36 -->\n<g id=\"edge252\" class=\"edge\">\n<title>22&#45;&gt;36</title>\n<path fill=\"none\" stroke=\"#707070\" d=\"M53.86,-601.36C150.18,-575.19 586.38,-456.64 682.31,-430.57\"/>\n</g>\n<!-- 22&#45;&gt;37 -->\n<g id=\"edge262\" class=\"edge\">\n<title>22&#45;&gt;37</title>\n<path fill=\"none\" stroke=\"#707070\" d=\"M53.47,-600.47C138.01,-572.89 487.65,-458.87 571.75,-431.44\"/>\n</g>\n<!-- 22&#45;&gt;38 -->\n<g id=\"edge272\" class=\"edge\">\n<title>22&#45;&gt;38</title>\n<path fill=\"none\" stroke=\"#707070\" d=\"M52.96,-599.17C124.66,-569.94 390.07,-461.74 461.31,-432.7\"/>\n</g>\n<!-- 22&#45;&gt;39 -->\n<g id=\"edge282\" class=\"edge\">\n<title>22&#45;&gt;39</title>\n<path fill=\"none\" stroke=\"#707070\" d=\"M51.97,-597.26C109.09,-566.21 293.99,-465.72 351.06,-434.7\"/>\n</g>\n<!-- 22&#45;&gt;40 -->\n<g id=\"edge292\" class=\"edge\">\n<title>22&#45;&gt;40</title>\n<path fill=\"none\" stroke=\"#707070\" d=\"M49.91,-594.33C90.35,-561.36 201.79,-470.51 242.15,-437.6\"/>\n</g>\n<!-- 23&#45;&gt;31 -->\n<g id=\"edge203\" class=\"edge\">\n<title>23&#45;&gt;31</title>\n<path fill=\"none\" stroke=\"#707070\" d=\"M1015.04,-602.62C898.66,-578.9 282.11,-453.23 165.16,-429.4\"/>\n</g>\n<!-- 23&#45;&gt;32 -->\n<g id=\"edge213\" class=\"edge\">\n<title>23&#45;&gt;32</title>\n<path fill=\"none\" stroke=\"#707070\" d=\"M1014.94,-603.03C889.23,-580.26 180.58,-451.87 54.26,-428.98\"/>\n</g>\n<!-- 23&#45;&gt;33 -->\n<g id=\"edge223\" class=\"edge\">\n<title>23&#45;&gt;33</title>\n<path fill=\"none\" stroke=\"#707070\" d=\"M1034,-587.8C1034,-553.03 1034,-478.77 1034,-444.08\"/>\n</g>\n<!-- 23&#45;&gt;34 -->\n<g id=\"edge233\" class=\"edge\">\n<title>23&#45;&gt;34</title>\n<path fill=\"none\" stroke=\"#707070\" d=\"M1024.15,-590.43C1003.09,-556.08 953.87,-475.83 932.83,-441.52\"/>\n</g>\n<!-- 23&#45;&gt;35 -->\n<g id=\"edge243\" class=\"edge\">\n<title>23&#45;&gt;35</title>\n<path fill=\"none\" stroke=\"#707070\" d=\"M1019.09,-594.33C978.65,-561.36 867.21,-470.51 826.85,-437.6\"/>\n</g>\n<!-- 23&#45;&gt;36 -->\n<g id=\"edge253\" class=\"edge\">\n<title>23&#45;&gt;36</title>\n<path fill=\"none\" stroke=\"#707070\" d=\"M1017.03,-597.26C959.91,-566.21 775.01,-465.72 717.94,-434.7\"/>\n</g>\n<!-- 23&#45;&gt;37 -->\n<g id=\"edge263\" class=\"edge\">\n<title>23&#45;&gt;37</title>\n<path fill=\"none\" stroke=\"#707070\" d=\"M1016.04,-599.17C944.34,-569.94 678.93,-461.74 607.69,-432.7\"/>\n</g>\n<!-- 23&#45;&gt;38 -->\n<g id=\"edge273\" class=\"edge\">\n<title>23&#45;&gt;38</title>\n<path fill=\"none\" stroke=\"#707070\" d=\"M1015.53,-600.47C930.99,-572.89 581.35,-458.87 497.25,-431.44\"/>\n</g>\n<!-- 23&#45;&gt;39 -->\n<g id=\"edge283\" class=\"edge\">\n<title>23&#45;&gt;39</title>\n<path fill=\"none\" stroke=\"#707070\" d=\"M1015.14,-601.36C918.82,-575.19 482.62,-456.64 386.69,-430.57\"/>\n</g>\n<!-- 23&#45;&gt;40 -->\n<g id=\"edge293\" class=\"edge\">\n<title>23&#45;&gt;40</title>\n<path fill=\"none\" stroke=\"#707070\" d=\"M1015.18,-602.1C908.68,-577.3 382.67,-454.77 275.92,-429.9\"/>\n</g>\n<!-- 24&#45;&gt;31 -->\n<g id=\"edge204\" class=\"edge\">\n<title>24&#45;&gt;31</title>\n<path fill=\"none\" stroke=\"#707070\" d=\"M904.18,-602.1C797.68,-577.3 271.67,-454.77 164.92,-429.9\"/>\n</g>\n<!-- 24&#45;&gt;32 -->\n<g id=\"edge214\" class=\"edge\">\n<title>24&#45;&gt;32</title>\n<path fill=\"none\" stroke=\"#707070\" d=\"M904.04,-602.62C787.66,-578.9 171.11,-453.23 54.16,-429.4\"/>\n</g>\n<!-- 24&#45;&gt;33 -->\n<g id=\"edge224\" class=\"edge\">\n<title>24&#45;&gt;33</title>\n<path fill=\"none\" stroke=\"#707070\" d=\"M932.85,-590.43C953.91,-556.08 1003.13,-475.83 1024.17,-441.52\"/>\n</g>\n<!-- 24&#45;&gt;34 -->\n<g id=\"edge234\" class=\"edge\">\n<title>24&#45;&gt;34</title>\n<path fill=\"none\" stroke=\"#707070\" d=\"M923,-587.8C923,-553.03 923,-478.77 923,-444.08\"/>\n</g>\n<!-- 24&#45;&gt;35 -->\n<g id=\"edge244\" class=\"edge\">\n<title>24&#45;&gt;35</title>\n<path fill=\"none\" stroke=\"#707070\" d=\"M913.15,-590.43C892.09,-556.08 842.87,-475.83 821.83,-441.52\"/>\n</g>\n<!-- 24&#45;&gt;36 -->\n<g id=\"edge254\" class=\"edge\">\n<title>24&#45;&gt;36</title>\n<path fill=\"none\" stroke=\"#707070\" d=\"M908.09,-594.33C867.65,-561.36 756.21,-470.51 715.85,-437.6\"/>\n</g>\n<!-- 24&#45;&gt;37 -->\n<g id=\"edge264\" class=\"edge\">\n<title>24&#45;&gt;37</title>\n<path fill=\"none\" stroke=\"#707070\" d=\"M906.03,-597.26C848.91,-566.21 664.01,-465.72 606.94,-434.7\"/>\n</g>\n<!-- 24&#45;&gt;38 -->\n<g id=\"edge274\" class=\"edge\">\n<title>24&#45;&gt;38</title>\n<path fill=\"none\" stroke=\"#707070\" d=\"M905.04,-599.17C833.34,-569.94 567.93,-461.74 496.69,-432.7\"/>\n</g>\n<!-- 24&#45;&gt;39 -->\n<g id=\"edge284\" class=\"edge\">\n<title>24&#45;&gt;39</title>\n<path fill=\"none\" stroke=\"#707070\" d=\"M904.53,-600.47C819.99,-572.89 470.35,-458.87 386.25,-431.44\"/>\n</g>\n<!-- 24&#45;&gt;40 -->\n<g id=\"edge294\" class=\"edge\">\n<title>24&#45;&gt;40</title>\n<path fill=\"none\" stroke=\"#707070\" d=\"M904.14,-601.36C807.82,-575.19 371.62,-456.64 275.69,-430.57\"/>\n</g>\n<!-- 25&#45;&gt;31 -->\n<g id=\"edge205\" class=\"edge\">\n<title>25&#45;&gt;31</title>\n<path fill=\"none\" stroke=\"#707070\" d=\"M793.14,-601.36C696.82,-575.19 260.62,-456.64 164.69,-430.57\"/>\n</g>\n<!-- 25&#45;&gt;32 -->\n<g id=\"edge215\" class=\"edge\">\n<title>25&#45;&gt;32</title>\n<path fill=\"none\" stroke=\"#707070\" d=\"M793.18,-602.1C686.68,-577.3 160.67,-454.77 53.92,-429.9\"/>\n</g>\n<!-- 25&#45;&gt;33 -->\n<g id=\"edge225\" class=\"edge\">\n<title>25&#45;&gt;33</title>\n<path fill=\"none\" stroke=\"#707070\" d=\"M826.91,-594.33C867.35,-561.36 978.79,-470.51 1019.15,-437.6\"/>\n</g>\n<!-- 25&#45;&gt;34 -->\n<g id=\"edge235\" class=\"edge\">\n<title>25&#45;&gt;34</title>\n<path fill=\"none\" stroke=\"#707070\" d=\"M821.85,-590.43C842.91,-556.08 892.13,-475.83 913.17,-441.52\"/>\n</g>\n<!-- 25&#45;&gt;35 -->\n<g id=\"edge245\" class=\"edge\">\n<title>25&#45;&gt;35</title>\n<path fill=\"none\" stroke=\"#707070\" d=\"M812,-587.8C812,-553.03 812,-478.77 812,-444.08\"/>\n</g>\n<!-- 25&#45;&gt;36 -->\n<g id=\"edge255\" class=\"edge\">\n<title>25&#45;&gt;36</title>\n<path fill=\"none\" stroke=\"#707070\" d=\"M802.15,-590.43C781.09,-556.08 731.87,-475.83 710.83,-441.52\"/>\n</g>\n<!-- 25&#45;&gt;37 -->\n<g id=\"edge265\" class=\"edge\">\n<title>25&#45;&gt;37</title>\n<path fill=\"none\" stroke=\"#707070\" d=\"M797.09,-594.33C756.65,-561.36 645.21,-470.51 604.85,-437.6\"/>\n</g>\n<!-- 25&#45;&gt;38 -->\n<g id=\"edge275\" class=\"edge\">\n<title>25&#45;&gt;38</title>\n<path fill=\"none\" stroke=\"#707070\" d=\"M795.03,-597.26C737.91,-566.21 553.01,-465.72 495.94,-434.7\"/>\n</g>\n<!-- 25&#45;&gt;39 -->\n<g id=\"edge285\" class=\"edge\">\n<title>25&#45;&gt;39</title>\n<path fill=\"none\" stroke=\"#707070\" d=\"M794.04,-599.17C722.34,-569.94 456.93,-461.74 385.69,-432.7\"/>\n</g>\n<!-- 25&#45;&gt;40 -->\n<g id=\"edge295\" class=\"edge\">\n<title>25&#45;&gt;40</title>\n<path fill=\"none\" stroke=\"#707070\" d=\"M793.53,-600.47C708.99,-572.89 359.35,-458.87 275.25,-431.44\"/>\n</g>\n<!-- 26&#45;&gt;31 -->\n<g id=\"edge206\" class=\"edge\">\n<title>26&#45;&gt;31</title>\n<path fill=\"none\" stroke=\"#707070\" d=\"M682.53,-600.47C597.99,-572.89 248.35,-458.87 164.25,-431.44\"/>\n</g>\n<!-- 26&#45;&gt;32 -->\n<g id=\"edge216\" class=\"edge\">\n<title>26&#45;&gt;32</title>\n<path fill=\"none\" stroke=\"#707070\" d=\"M682.14,-601.36C585.82,-575.19 149.62,-456.64 53.69,-430.57\"/>\n</g>\n<!-- 26&#45;&gt;33 -->\n<g id=\"edge226\" class=\"edge\">\n<title>26&#45;&gt;33</title>\n<path fill=\"none\" stroke=\"#707070\" d=\"M717.97,-597.26C775.09,-566.21 959.99,-465.72 1017.06,-434.7\"/>\n</g>\n<!-- 26&#45;&gt;34 -->\n<g id=\"edge236\" class=\"edge\">\n<title>26&#45;&gt;34</title>\n<path fill=\"none\" stroke=\"#707070\" d=\"M715.91,-594.33C756.35,-561.36 867.79,-470.51 908.15,-437.6\"/>\n</g>\n<!-- 26&#45;&gt;35 -->\n<g id=\"edge246\" class=\"edge\">\n<title>26&#45;&gt;35</title>\n<path fill=\"none\" stroke=\"#707070\" d=\"M710.85,-590.43C731.91,-556.08 781.13,-475.83 802.17,-441.52\"/>\n</g>\n<!-- 26&#45;&gt;36 -->\n<g id=\"edge256\" class=\"edge\">\n<title>26&#45;&gt;36</title>\n<path fill=\"none\" stroke=\"#707070\" d=\"M701,-587.8C701,-553.03 701,-478.77 701,-444.08\"/>\n</g>\n<!-- 26&#45;&gt;37 -->\n<g id=\"edge266\" class=\"edge\">\n<title>26&#45;&gt;37</title>\n<path fill=\"none\" stroke=\"#707070\" d=\"M691.15,-590.43C670.09,-556.08 620.87,-475.83 599.83,-441.52\"/>\n</g>\n<!-- 26&#45;&gt;38 -->\n<g id=\"edge276\" class=\"edge\">\n<title>26&#45;&gt;38</title>\n<path fill=\"none\" stroke=\"#707070\" d=\"M686.09,-594.33C645.65,-561.36 534.21,-470.51 493.85,-437.6\"/>\n</g>\n<!-- 26&#45;&gt;39 -->\n<g id=\"edge286\" class=\"edge\">\n<title>26&#45;&gt;39</title>\n<path fill=\"none\" stroke=\"#707070\" d=\"M684.03,-597.26C626.91,-566.21 442.01,-465.72 384.94,-434.7\"/>\n</g>\n<!-- 26&#45;&gt;40 -->\n<g id=\"edge296\" class=\"edge\">\n<title>26&#45;&gt;40</title>\n<path fill=\"none\" stroke=\"#707070\" d=\"M683.04,-599.17C611.34,-569.94 345.93,-461.74 274.69,-432.7\"/>\n</g>\n<!-- 27&#45;&gt;31 -->\n<g id=\"edge207\" class=\"edge\">\n<title>27&#45;&gt;31</title>\n<path fill=\"none\" stroke=\"#707070\" d=\"M572.04,-599.17C500.34,-569.94 234.93,-461.74 163.69,-432.7\"/>\n</g>\n<!-- 27&#45;&gt;32 -->\n<g id=\"edge217\" class=\"edge\">\n<title>27&#45;&gt;32</title>\n<path fill=\"none\" stroke=\"#707070\" d=\"M571.53,-600.47C486.99,-572.89 137.35,-458.87 53.25,-431.44\"/>\n</g>\n<!-- 27&#45;&gt;33 -->\n<g id=\"edge227\" class=\"edge\">\n<title>27&#45;&gt;33</title>\n<path fill=\"none\" stroke=\"#707070\" d=\"M607.96,-599.17C679.66,-569.94 945.07,-461.74 1016.31,-432.7\"/>\n</g>\n<!-- 27&#45;&gt;34 -->\n<g id=\"edge237\" class=\"edge\">\n<title>27&#45;&gt;34</title>\n<path fill=\"none\" stroke=\"#707070\" d=\"M606.97,-597.26C664.09,-566.21 848.99,-465.72 906.06,-434.7\"/>\n</g>\n<!-- 27&#45;&gt;35 -->\n<g id=\"edge247\" class=\"edge\">\n<title>27&#45;&gt;35</title>\n<path fill=\"none\" stroke=\"#707070\" d=\"M604.91,-594.33C645.35,-561.36 756.79,-470.51 797.15,-437.6\"/>\n</g>\n<!-- 27&#45;&gt;36 -->\n<g id=\"edge257\" class=\"edge\">\n<title>27&#45;&gt;36</title>\n<path fill=\"none\" stroke=\"#707070\" d=\"M599.85,-590.43C620.91,-556.08 670.13,-475.83 691.17,-441.52\"/>\n</g>\n<!-- 27&#45;&gt;37 -->\n<g id=\"edge267\" class=\"edge\">\n<title>27&#45;&gt;37</title>\n<path fill=\"none\" stroke=\"#707070\" d=\"M590,-587.8C590,-553.03 590,-478.77 590,-444.08\"/>\n</g>\n<!-- 27&#45;&gt;38 -->\n<g id=\"edge277\" class=\"edge\">\n<title>27&#45;&gt;38</title>\n<path fill=\"none\" stroke=\"#707070\" d=\"M580.15,-590.43C559.09,-556.08 509.87,-475.83 488.83,-441.52\"/>\n</g>\n<!-- 27&#45;&gt;39 -->\n<g id=\"edge287\" class=\"edge\">\n<title>27&#45;&gt;39</title>\n<path fill=\"none\" stroke=\"#707070\" d=\"M575.09,-594.33C534.65,-561.36 423.21,-470.51 382.85,-437.6\"/>\n</g>\n<!-- 27&#45;&gt;40 -->\n<g id=\"edge297\" class=\"edge\">\n<title>27&#45;&gt;40</title>\n<path fill=\"none\" stroke=\"#707070\" d=\"M573.03,-597.26C515.91,-566.21 331.01,-465.72 273.94,-434.7\"/>\n</g>\n<!-- 28&#45;&gt;31 -->\n<g id=\"edge208\" class=\"edge\">\n<title>28&#45;&gt;31</title>\n<path fill=\"none\" stroke=\"#707070\" d=\"M462.03,-597.26C404.91,-566.21 220.01,-465.72 162.94,-434.7\"/>\n</g>\n<!-- 28&#45;&gt;32 -->\n<g id=\"edge218\" class=\"edge\">\n<title>28&#45;&gt;32</title>\n<path fill=\"none\" stroke=\"#707070\" d=\"M461.04,-599.17C389.34,-569.94 123.93,-461.74 52.69,-432.7\"/>\n</g>\n<!-- 28&#45;&gt;33 -->\n<g id=\"edge228\" class=\"edge\">\n<title>28&#45;&gt;33</title>\n<path fill=\"none\" stroke=\"#707070\" d=\"M497.47,-600.47C582.01,-572.89 931.65,-458.87 1015.75,-431.44\"/>\n</g>\n<!-- 28&#45;&gt;34 -->\n<g id=\"edge238\" class=\"edge\">\n<title>28&#45;&gt;34</title>\n<path fill=\"none\" stroke=\"#707070\" d=\"M496.96,-599.17C568.66,-569.94 834.07,-461.74 905.31,-432.7\"/>\n</g>\n<!-- 28&#45;&gt;35 -->\n<g id=\"edge248\" class=\"edge\">\n<title>28&#45;&gt;35</title>\n<path fill=\"none\" stroke=\"#707070\" d=\"M495.97,-597.26C553.09,-566.21 737.99,-465.72 795.06,-434.7\"/>\n</g>\n<!-- 28&#45;&gt;36 -->\n<g id=\"edge258\" class=\"edge\">\n<title>28&#45;&gt;36</title>\n<path fill=\"none\" stroke=\"#707070\" d=\"M493.91,-594.33C534.35,-561.36 645.79,-470.51 686.15,-437.6\"/>\n</g>\n<!-- 28&#45;&gt;37 -->\n<g id=\"edge268\" class=\"edge\">\n<title>28&#45;&gt;37</title>\n<path fill=\"none\" stroke=\"#707070\" d=\"M488.85,-590.43C509.91,-556.08 559.13,-475.83 580.17,-441.52\"/>\n</g>\n<!-- 28&#45;&gt;38 -->\n<g id=\"edge278\" class=\"edge\">\n<title>28&#45;&gt;38</title>\n<path fill=\"none\" stroke=\"#707070\" d=\"M479,-587.8C479,-553.03 479,-478.77 479,-444.08\"/>\n</g>\n<!-- 28&#45;&gt;39 -->\n<g id=\"edge288\" class=\"edge\">\n<title>28&#45;&gt;39</title>\n<path fill=\"none\" stroke=\"#707070\" d=\"M469.15,-590.43C448.09,-556.08 398.87,-475.83 377.83,-441.52\"/>\n</g>\n<!-- 28&#45;&gt;40 -->\n<g id=\"edge298\" class=\"edge\">\n<title>28&#45;&gt;40</title>\n<path fill=\"none\" stroke=\"#707070\" d=\"M464.09,-594.33C423.65,-561.36 312.21,-470.51 271.85,-437.6\"/>\n</g>\n<!-- 29&#45;&gt;31 -->\n<g id=\"edge209\" class=\"edge\">\n<title>29&#45;&gt;31</title>\n<path fill=\"none\" stroke=\"#707070\" d=\"M353.09,-594.33C312.65,-561.36 201.21,-470.51 160.85,-437.6\"/>\n</g>\n<!-- 29&#45;&gt;32 -->\n<g id=\"edge219\" class=\"edge\">\n<title>29&#45;&gt;32</title>\n<path fill=\"none\" stroke=\"#707070\" d=\"M351.03,-597.26C293.91,-566.21 109.01,-465.72 51.94,-434.7\"/>\n</g>\n<!-- 29&#45;&gt;33 -->\n<g id=\"edge229\" class=\"edge\">\n<title>29&#45;&gt;33</title>\n<path fill=\"none\" stroke=\"#707070\" d=\"M386.86,-601.36C483.18,-575.19 919.38,-456.64 1015.31,-430.57\"/>\n</g>\n<!-- 29&#45;&gt;34 -->\n<g id=\"edge239\" class=\"edge\">\n<title>29&#45;&gt;34</title>\n<path fill=\"none\" stroke=\"#707070\" d=\"M386.47,-600.47C471.01,-572.89 820.65,-458.87 904.75,-431.44\"/>\n</g>\n<!-- 29&#45;&gt;35 -->\n<g id=\"edge249\" class=\"edge\">\n<title>29&#45;&gt;35</title>\n<path fill=\"none\" stroke=\"#707070\" d=\"M385.96,-599.17C457.66,-569.94 723.07,-461.74 794.31,-432.7\"/>\n</g>\n<!-- 29&#45;&gt;36 -->\n<g id=\"edge259\" class=\"edge\">\n<title>29&#45;&gt;36</title>\n<path fill=\"none\" stroke=\"#707070\" d=\"M384.97,-597.26C442.09,-566.21 626.99,-465.72 684.06,-434.7\"/>\n</g>\n<!-- 29&#45;&gt;37 -->\n<g id=\"edge269\" class=\"edge\">\n<title>29&#45;&gt;37</title>\n<path fill=\"none\" stroke=\"#707070\" d=\"M382.91,-594.33C423.35,-561.36 534.79,-470.51 575.15,-437.6\"/>\n</g>\n<!-- 29&#45;&gt;38 -->\n<g id=\"edge279\" class=\"edge\">\n<title>29&#45;&gt;38</title>\n<path fill=\"none\" stroke=\"#707070\" d=\"M377.85,-590.43C398.91,-556.08 448.13,-475.83 469.17,-441.52\"/>\n</g>\n<!-- 29&#45;&gt;39 -->\n<g id=\"edge289\" class=\"edge\">\n<title>29&#45;&gt;39</title>\n<path fill=\"none\" stroke=\"#707070\" d=\"M368,-587.8C368,-553.03 368,-478.77 368,-444.08\"/>\n</g>\n<!-- 29&#45;&gt;40 -->\n<g id=\"edge299\" class=\"edge\">\n<title>29&#45;&gt;40</title>\n<path fill=\"none\" stroke=\"#707070\" d=\"M358.15,-590.43C337.09,-556.08 287.87,-475.83 266.83,-441.52\"/>\n</g>\n<!-- 30&#45;&gt;31 -->\n<g id=\"edge210\" class=\"edge\">\n<title>30&#45;&gt;31</title>\n<path fill=\"none\" stroke=\"#707070\" d=\"M247.15,-590.43C226.09,-556.08 176.87,-475.83 155.83,-441.52\"/>\n</g>\n<!-- 30&#45;&gt;32 -->\n<g id=\"edge220\" class=\"edge\">\n<title>30&#45;&gt;32</title>\n<path fill=\"none\" stroke=\"#707070\" d=\"M242.09,-594.33C201.65,-561.36 90.21,-470.51 49.85,-437.6\"/>\n</g>\n<!-- 30&#45;&gt;33 -->\n<g id=\"edge230\" class=\"edge\">\n<title>30&#45;&gt;33</title>\n<path fill=\"none\" stroke=\"#707070\" d=\"M275.82,-602.1C382.32,-577.3 908.33,-454.77 1015.08,-429.9\"/>\n</g>\n<!-- 30&#45;&gt;34 -->\n<g id=\"edge240\" class=\"edge\">\n<title>30&#45;&gt;34</title>\n<path fill=\"none\" stroke=\"#707070\" d=\"M275.86,-601.36C372.18,-575.19 808.38,-456.64 904.31,-430.57\"/>\n</g>\n<!-- 30&#45;&gt;35 -->\n<g id=\"edge250\" class=\"edge\">\n<title>30&#45;&gt;35</title>\n<path fill=\"none\" stroke=\"#707070\" d=\"M275.47,-600.47C360.01,-572.89 709.65,-458.87 793.75,-431.44\"/>\n</g>\n<!-- 30&#45;&gt;36 -->\n<g id=\"edge260\" class=\"edge\">\n<title>30&#45;&gt;36</title>\n<path fill=\"none\" stroke=\"#707070\" d=\"M274.96,-599.17C346.66,-569.94 612.07,-461.74 683.31,-432.7\"/>\n</g>\n<!-- 30&#45;&gt;37 -->\n<g id=\"edge270\" class=\"edge\">\n<title>30&#45;&gt;37</title>\n<path fill=\"none\" stroke=\"#707070\" d=\"M273.97,-597.26C331.09,-566.21 515.99,-465.72 573.06,-434.7\"/>\n</g>\n<!-- 30&#45;&gt;38 -->\n<g id=\"edge280\" class=\"edge\">\n<title>30&#45;&gt;38</title>\n<path fill=\"none\" stroke=\"#707070\" d=\"M271.91,-594.33C312.35,-561.36 423.79,-470.51 464.15,-437.6\"/>\n</g>\n<!-- 30&#45;&gt;39 -->\n<g id=\"edge290\" class=\"edge\">\n<title>30&#45;&gt;39</title>\n<path fill=\"none\" stroke=\"#707070\" d=\"M266.85,-590.43C287.91,-556.08 337.13,-475.83 358.17,-441.52\"/>\n</g>\n<!-- 30&#45;&gt;40 -->\n<g id=\"edge300\" class=\"edge\">\n<title>30&#45;&gt;40</title>\n<path fill=\"none\" stroke=\"#707070\" d=\"M257,-587.8C257,-553.03 257,-478.77 257,-444.08\"/>\n</g>\n<!-- 41 -->\n<g id=\"node41\" class=\"node\">\n<title>41</title>\n<ellipse fill=\"#3498db\" stroke=\"#3498db\" cx=\"146\" cy=\"-241.49\" rx=\"19.5\" ry=\"19.5\"/>\n<text text-anchor=\"middle\" x=\"146\" y=\"-237.79\" font-family=\"Times,serif\" font-size=\"14.00\" fill=\"#3498db\">41</text>\n</g>\n<!-- 31&#45;&gt;41 -->\n<g id=\"edge301\" class=\"edge\">\n<title>31&#45;&gt;41</title>\n<path fill=\"none\" stroke=\"#707070\" d=\"M146,-404.8C146,-370.03 146,-295.78 146,-261.08\"/>\n</g>\n<!-- 42 -->\n<g id=\"node42\" class=\"node\">\n<title>42</title>\n<ellipse fill=\"#3498db\" stroke=\"#3498db\" cx=\"35\" cy=\"-241.49\" rx=\"19.5\" ry=\"19.5\"/>\n<text text-anchor=\"middle\" x=\"35\" y=\"-237.79\" font-family=\"Times,serif\" font-size=\"14.00\" fill=\"#3498db\">42</text>\n</g>\n<!-- 31&#45;&gt;42 -->\n<g id=\"edge311\" class=\"edge\">\n<title>31&#45;&gt;42</title>\n<path fill=\"none\" stroke=\"#707070\" d=\"M136.15,-407.43C115.09,-373.08 65.87,-292.84 44.83,-258.52\"/>\n</g>\n<!-- 43 -->\n<g id=\"node43\" class=\"node\">\n<title>43</title>\n<ellipse fill=\"#3498db\" stroke=\"#3498db\" cx=\"1034\" cy=\"-241.49\" rx=\"19.5\" ry=\"19.5\"/>\n<text text-anchor=\"middle\" x=\"1034\" y=\"-237.79\" font-family=\"Times,serif\" font-size=\"14.00\" fill=\"#3498db\">43</text>\n</g>\n<!-- 31&#45;&gt;43 -->\n<g id=\"edge321\" class=\"edge\">\n<title>31&#45;&gt;43</title>\n<path fill=\"none\" stroke=\"#707070\" d=\"M164.96,-419.63C281.34,-395.91 897.89,-270.24 1014.84,-246.4\"/>\n</g>\n<!-- 44 -->\n<g id=\"node44\" class=\"node\">\n<title>44</title>\n<ellipse fill=\"#3498db\" stroke=\"#3498db\" cx=\"923\" cy=\"-241.49\" rx=\"19.5\" ry=\"19.5\"/>\n<text text-anchor=\"middle\" x=\"923\" y=\"-237.79\" font-family=\"Times,serif\" font-size=\"14.00\" fill=\"#3498db\">44</text>\n</g>\n<!-- 31&#45;&gt;44 -->\n<g id=\"edge331\" class=\"edge\">\n<title>31&#45;&gt;44</title>\n<path fill=\"none\" stroke=\"#707070\" d=\"M164.82,-419.11C271.32,-394.3 797.33,-271.77 904.08,-246.9\"/>\n</g>\n<!-- 45 -->\n<g id=\"node45\" class=\"node\">\n<title>45</title>\n<ellipse fill=\"#3498db\" stroke=\"#3498db\" cx=\"812\" cy=\"-241.49\" rx=\"19.5\" ry=\"19.5\"/>\n<text text-anchor=\"middle\" x=\"812\" y=\"-237.79\" font-family=\"Times,serif\" font-size=\"14.00\" fill=\"#3498db\">45</text>\n</g>\n<!-- 31&#45;&gt;45 -->\n<g id=\"edge341\" class=\"edge\">\n<title>31&#45;&gt;45</title>\n<path fill=\"none\" stroke=\"#707070\" d=\"M164.86,-418.37C261.18,-392.19 697.38,-273.65 793.31,-247.58\"/>\n</g>\n<!-- 46 -->\n<g id=\"node46\" class=\"node\">\n<title>46</title>\n<ellipse fill=\"#3498db\" stroke=\"#3498db\" cx=\"701\" cy=\"-241.49\" rx=\"19.5\" ry=\"19.5\"/>\n<text text-anchor=\"middle\" x=\"701\" y=\"-237.79\" font-family=\"Times,serif\" font-size=\"14.00\" fill=\"#3498db\">46</text>\n</g>\n<!-- 31&#45;&gt;46 -->\n<g id=\"edge351\" class=\"edge\">\n<title>31&#45;&gt;46</title>\n<path fill=\"none\" stroke=\"#707070\" d=\"M164.47,-417.47C249.01,-389.9 598.65,-275.87 682.75,-248.45\"/>\n</g>\n<!-- 47 -->\n<g id=\"node47\" class=\"node\">\n<title>47</title>\n<ellipse fill=\"#3498db\" stroke=\"#3498db\" cx=\"590\" cy=\"-241.49\" rx=\"19.5\" ry=\"19.5\"/>\n<text text-anchor=\"middle\" x=\"590\" y=\"-237.79\" font-family=\"Times,serif\" font-size=\"14.00\" fill=\"#3498db\">47</text>\n</g>\n<!-- 31&#45;&gt;47 -->\n<g id=\"edge361\" class=\"edge\">\n<title>31&#45;&gt;47</title>\n<path fill=\"none\" stroke=\"#707070\" d=\"M163.96,-416.17C235.66,-386.94 501.07,-278.75 572.31,-249.71\"/>\n</g>\n<!-- 48 -->\n<g id=\"node48\" class=\"node\">\n<title>48</title>\n<ellipse fill=\"#3498db\" stroke=\"#3498db\" cx=\"479\" cy=\"-241.49\" rx=\"19.5\" ry=\"19.5\"/>\n<text text-anchor=\"middle\" x=\"479\" y=\"-237.79\" font-family=\"Times,serif\" font-size=\"14.00\" fill=\"#3498db\">48</text>\n</g>\n<!-- 31&#45;&gt;48 -->\n<g id=\"edge371\" class=\"edge\">\n<title>31&#45;&gt;48</title>\n<path fill=\"none\" stroke=\"#707070\" d=\"M162.97,-414.27C220.09,-383.22 404.99,-282.72 462.06,-251.7\"/>\n</g>\n<!-- 49 -->\n<g id=\"node49\" class=\"node\">\n<title>49</title>\n<ellipse fill=\"#3498db\" stroke=\"#3498db\" cx=\"368\" cy=\"-241.49\" rx=\"19.5\" ry=\"19.5\"/>\n<text text-anchor=\"middle\" x=\"368\" y=\"-237.79\" font-family=\"Times,serif\" font-size=\"14.00\" fill=\"#3498db\">49</text>\n</g>\n<!-- 31&#45;&gt;49 -->\n<g id=\"edge381\" class=\"edge\">\n<title>31&#45;&gt;49</title>\n<path fill=\"none\" stroke=\"#707070\" d=\"M160.91,-411.33C201.35,-378.36 312.79,-287.51 353.15,-254.6\"/>\n</g>\n<!-- 50 -->\n<g id=\"node50\" class=\"node\">\n<title>50</title>\n<ellipse fill=\"#3498db\" stroke=\"#3498db\" cx=\"257\" cy=\"-241.49\" rx=\"19.5\" ry=\"19.5\"/>\n<text text-anchor=\"middle\" x=\"257\" y=\"-237.79\" font-family=\"Times,serif\" font-size=\"14.00\" fill=\"#3498db\">50</text>\n</g>\n<!-- 31&#45;&gt;50 -->\n<g id=\"edge391\" class=\"edge\">\n<title>31&#45;&gt;50</title>\n<path fill=\"none\" stroke=\"#707070\" d=\"M155.85,-407.43C176.91,-373.08 226.13,-292.84 247.17,-258.52\"/>\n</g>\n<!-- 32&#45;&gt;41 -->\n<g id=\"edge302\" class=\"edge\">\n<title>32&#45;&gt;41</title>\n<path fill=\"none\" stroke=\"#707070\" d=\"M44.85,-407.43C65.91,-373.08 115.13,-292.84 136.17,-258.52\"/>\n</g>\n<!-- 32&#45;&gt;42 -->\n<g id=\"edge312\" class=\"edge\">\n<title>32&#45;&gt;42</title>\n<path fill=\"none\" stroke=\"#707070\" d=\"M35,-404.8C35,-370.03 35,-295.78 35,-261.08\"/>\n</g>\n<!-- 32&#45;&gt;43 -->\n<g id=\"edge322\" class=\"edge\">\n<title>32&#45;&gt;43</title>\n<path fill=\"none\" stroke=\"#707070\" d=\"M54.06,-420.04C179.77,-397.26 888.42,-268.87 1014.74,-245.99\"/>\n</g>\n<!-- 32&#45;&gt;44 -->\n<g id=\"edge332\" class=\"edge\">\n<title>32&#45;&gt;44</title>\n<path fill=\"none\" stroke=\"#707070\" d=\"M53.96,-419.63C170.34,-395.91 786.89,-270.24 903.84,-246.4\"/>\n</g>\n<!-- 32&#45;&gt;45 -->\n<g id=\"edge342\" class=\"edge\">\n<title>32&#45;&gt;45</title>\n<path fill=\"none\" stroke=\"#707070\" d=\"M53.82,-419.11C160.32,-394.3 686.33,-271.77 793.08,-246.9\"/>\n</g>\n<!-- 32&#45;&gt;46 -->\n<g id=\"edge352\" class=\"edge\">\n<title>32&#45;&gt;46</title>\n<path fill=\"none\" stroke=\"#707070\" d=\"M53.86,-418.37C150.18,-392.19 586.38,-273.65 682.31,-247.58\"/>\n</g>\n<!-- 32&#45;&gt;47 -->\n<g id=\"edge362\" class=\"edge\">\n<title>32&#45;&gt;47</title>\n<path fill=\"none\" stroke=\"#707070\" d=\"M53.47,-417.47C138.01,-389.9 487.65,-275.87 571.75,-248.45\"/>\n</g>\n<!-- 32&#45;&gt;48 -->\n<g id=\"edge372\" class=\"edge\">\n<title>32&#45;&gt;48</title>\n<path fill=\"none\" stroke=\"#707070\" d=\"M52.96,-416.17C124.66,-386.94 390.07,-278.75 461.31,-249.71\"/>\n</g>\n<!-- 32&#45;&gt;49 -->\n<g id=\"edge382\" class=\"edge\">\n<title>32&#45;&gt;49</title>\n<path fill=\"none\" stroke=\"#707070\" d=\"M51.97,-414.27C109.09,-383.22 293.99,-282.72 351.06,-251.7\"/>\n</g>\n<!-- 32&#45;&gt;50 -->\n<g id=\"edge392\" class=\"edge\">\n<title>32&#45;&gt;50</title>\n<path fill=\"none\" stroke=\"#707070\" d=\"M49.91,-411.33C90.35,-378.36 201.79,-287.51 242.15,-254.6\"/>\n</g>\n<!-- 33&#45;&gt;41 -->\n<g id=\"edge303\" class=\"edge\">\n<title>33&#45;&gt;41</title>\n<path fill=\"none\" stroke=\"#707070\" d=\"M1015.04,-419.63C898.66,-395.91 282.11,-270.24 165.16,-246.4\"/>\n</g>\n<!-- 33&#45;&gt;42 -->\n<g id=\"edge313\" class=\"edge\">\n<title>33&#45;&gt;42</title>\n<path fill=\"none\" stroke=\"#707070\" d=\"M1014.94,-420.04C889.23,-397.26 180.58,-268.87 54.26,-245.99\"/>\n</g>\n<!-- 33&#45;&gt;43 -->\n<g id=\"edge323\" class=\"edge\">\n<title>33&#45;&gt;43</title>\n<path fill=\"none\" stroke=\"#707070\" d=\"M1034,-404.8C1034,-370.03 1034,-295.78 1034,-261.08\"/>\n</g>\n<!-- 33&#45;&gt;44 -->\n<g id=\"edge333\" class=\"edge\">\n<title>33&#45;&gt;44</title>\n<path fill=\"none\" stroke=\"#707070\" d=\"M1024.15,-407.43C1003.09,-373.08 953.87,-292.84 932.83,-258.52\"/>\n</g>\n<!-- 33&#45;&gt;45 -->\n<g id=\"edge343\" class=\"edge\">\n<title>33&#45;&gt;45</title>\n<path fill=\"none\" stroke=\"#707070\" d=\"M1019.09,-411.33C978.65,-378.36 867.21,-287.51 826.85,-254.6\"/>\n</g>\n<!-- 33&#45;&gt;46 -->\n<g id=\"edge353\" class=\"edge\">\n<title>33&#45;&gt;46</title>\n<path fill=\"none\" stroke=\"#707070\" d=\"M1017.03,-414.27C959.91,-383.22 775.01,-282.72 717.94,-251.7\"/>\n</g>\n<!-- 33&#45;&gt;47 -->\n<g id=\"edge363\" class=\"edge\">\n<title>33&#45;&gt;47</title>\n<path fill=\"none\" stroke=\"#707070\" d=\"M1016.04,-416.17C944.34,-386.94 678.93,-278.75 607.69,-249.71\"/>\n</g>\n<!-- 33&#45;&gt;48 -->\n<g id=\"edge373\" class=\"edge\">\n<title>33&#45;&gt;48</title>\n<path fill=\"none\" stroke=\"#707070\" d=\"M1015.53,-417.47C930.99,-389.9 581.35,-275.87 497.25,-248.45\"/>\n</g>\n<!-- 33&#45;&gt;49 -->\n<g id=\"edge383\" class=\"edge\">\n<title>33&#45;&gt;49</title>\n<path fill=\"none\" stroke=\"#707070\" d=\"M1015.14,-418.37C918.82,-392.19 482.62,-273.65 386.69,-247.58\"/>\n</g>\n<!-- 33&#45;&gt;50 -->\n<g id=\"edge393\" class=\"edge\">\n<title>33&#45;&gt;50</title>\n<path fill=\"none\" stroke=\"#707070\" d=\"M1015.18,-419.11C908.68,-394.3 382.67,-271.77 275.92,-246.9\"/>\n</g>\n<!-- 34&#45;&gt;41 -->\n<g id=\"edge304\" class=\"edge\">\n<title>34&#45;&gt;41</title>\n<path fill=\"none\" stroke=\"#707070\" d=\"M904.18,-419.11C797.68,-394.3 271.67,-271.77 164.92,-246.9\"/>\n</g>\n<!-- 34&#45;&gt;42 -->\n<g id=\"edge314\" class=\"edge\">\n<title>34&#45;&gt;42</title>\n<path fill=\"none\" stroke=\"#707070\" d=\"M904.04,-419.63C787.66,-395.91 171.11,-270.24 54.16,-246.4\"/>\n</g>\n<!-- 34&#45;&gt;43 -->\n<g id=\"edge324\" class=\"edge\">\n<title>34&#45;&gt;43</title>\n<path fill=\"none\" stroke=\"#707070\" d=\"M932.85,-407.43C953.91,-373.08 1003.13,-292.84 1024.17,-258.52\"/>\n</g>\n<!-- 34&#45;&gt;44 -->\n<g id=\"edge334\" class=\"edge\">\n<title>34&#45;&gt;44</title>\n<path fill=\"none\" stroke=\"#707070\" d=\"M923,-404.8C923,-370.03 923,-295.78 923,-261.08\"/>\n</g>\n<!-- 34&#45;&gt;45 -->\n<g id=\"edge344\" class=\"edge\">\n<title>34&#45;&gt;45</title>\n<path fill=\"none\" stroke=\"#707070\" d=\"M913.15,-407.43C892.09,-373.08 842.87,-292.84 821.83,-258.52\"/>\n</g>\n<!-- 34&#45;&gt;46 -->\n<g id=\"edge354\" class=\"edge\">\n<title>34&#45;&gt;46</title>\n<path fill=\"none\" stroke=\"#707070\" d=\"M908.09,-411.33C867.65,-378.36 756.21,-287.51 715.85,-254.6\"/>\n</g>\n<!-- 34&#45;&gt;47 -->\n<g id=\"edge364\" class=\"edge\">\n<title>34&#45;&gt;47</title>\n<path fill=\"none\" stroke=\"#707070\" d=\"M906.03,-414.27C848.91,-383.22 664.01,-282.72 606.94,-251.7\"/>\n</g>\n<!-- 34&#45;&gt;48 -->\n<g id=\"edge374\" class=\"edge\">\n<title>34&#45;&gt;48</title>\n<path fill=\"none\" stroke=\"#707070\" d=\"M905.04,-416.17C833.34,-386.94 567.93,-278.75 496.69,-249.71\"/>\n</g>\n<!-- 34&#45;&gt;49 -->\n<g id=\"edge384\" class=\"edge\">\n<title>34&#45;&gt;49</title>\n<path fill=\"none\" stroke=\"#707070\" d=\"M904.53,-417.47C819.99,-389.9 470.35,-275.87 386.25,-248.45\"/>\n</g>\n<!-- 34&#45;&gt;50 -->\n<g id=\"edge394\" class=\"edge\">\n<title>34&#45;&gt;50</title>\n<path fill=\"none\" stroke=\"#707070\" d=\"M904.14,-418.37C807.82,-392.19 371.62,-273.65 275.69,-247.58\"/>\n</g>\n<!-- 35&#45;&gt;41 -->\n<g id=\"edge305\" class=\"edge\">\n<title>35&#45;&gt;41</title>\n<path fill=\"none\" stroke=\"#707070\" d=\"M793.14,-418.37C696.82,-392.19 260.62,-273.65 164.69,-247.58\"/>\n</g>\n<!-- 35&#45;&gt;42 -->\n<g id=\"edge315\" class=\"edge\">\n<title>35&#45;&gt;42</title>\n<path fill=\"none\" stroke=\"#707070\" d=\"M793.18,-419.11C686.68,-394.3 160.67,-271.77 53.92,-246.9\"/>\n</g>\n<!-- 35&#45;&gt;43 -->\n<g id=\"edge325\" class=\"edge\">\n<title>35&#45;&gt;43</title>\n<path fill=\"none\" stroke=\"#707070\" d=\"M826.91,-411.33C867.35,-378.36 978.79,-287.51 1019.15,-254.6\"/>\n</g>\n<!-- 35&#45;&gt;44 -->\n<g id=\"edge335\" class=\"edge\">\n<title>35&#45;&gt;44</title>\n<path fill=\"none\" stroke=\"#707070\" d=\"M821.85,-407.43C842.91,-373.08 892.13,-292.84 913.17,-258.52\"/>\n</g>\n<!-- 35&#45;&gt;45 -->\n<g id=\"edge345\" class=\"edge\">\n<title>35&#45;&gt;45</title>\n<path fill=\"none\" stroke=\"#707070\" d=\"M812,-404.8C812,-370.03 812,-295.78 812,-261.08\"/>\n</g>\n<!-- 35&#45;&gt;46 -->\n<g id=\"edge355\" class=\"edge\">\n<title>35&#45;&gt;46</title>\n<path fill=\"none\" stroke=\"#707070\" d=\"M802.15,-407.43C781.09,-373.08 731.87,-292.84 710.83,-258.52\"/>\n</g>\n<!-- 35&#45;&gt;47 -->\n<g id=\"edge365\" class=\"edge\">\n<title>35&#45;&gt;47</title>\n<path fill=\"none\" stroke=\"#707070\" d=\"M797.09,-411.33C756.65,-378.36 645.21,-287.51 604.85,-254.6\"/>\n</g>\n<!-- 35&#45;&gt;48 -->\n<g id=\"edge375\" class=\"edge\">\n<title>35&#45;&gt;48</title>\n<path fill=\"none\" stroke=\"#707070\" d=\"M795.03,-414.27C737.91,-383.22 553.01,-282.72 495.94,-251.7\"/>\n</g>\n<!-- 35&#45;&gt;49 -->\n<g id=\"edge385\" class=\"edge\">\n<title>35&#45;&gt;49</title>\n<path fill=\"none\" stroke=\"#707070\" d=\"M794.04,-416.17C722.34,-386.94 456.93,-278.75 385.69,-249.71\"/>\n</g>\n<!-- 35&#45;&gt;50 -->\n<g id=\"edge395\" class=\"edge\">\n<title>35&#45;&gt;50</title>\n<path fill=\"none\" stroke=\"#707070\" d=\"M793.53,-417.47C708.99,-389.9 359.35,-275.87 275.25,-248.45\"/>\n</g>\n<!-- 36&#45;&gt;41 -->\n<g id=\"edge306\" class=\"edge\">\n<title>36&#45;&gt;41</title>\n<path fill=\"none\" stroke=\"#707070\" d=\"M682.53,-417.47C597.99,-389.9 248.35,-275.87 164.25,-248.45\"/>\n</g>\n<!-- 36&#45;&gt;42 -->\n<g id=\"edge316\" class=\"edge\">\n<title>36&#45;&gt;42</title>\n<path fill=\"none\" stroke=\"#707070\" d=\"M682.14,-418.37C585.82,-392.19 149.62,-273.65 53.69,-247.58\"/>\n</g>\n<!-- 36&#45;&gt;43 -->\n<g id=\"edge326\" class=\"edge\">\n<title>36&#45;&gt;43</title>\n<path fill=\"none\" stroke=\"#707070\" d=\"M717.97,-414.27C775.09,-383.22 959.99,-282.72 1017.06,-251.7\"/>\n</g>\n<!-- 36&#45;&gt;44 -->\n<g id=\"edge336\" class=\"edge\">\n<title>36&#45;&gt;44</title>\n<path fill=\"none\" stroke=\"#707070\" d=\"M715.91,-411.33C756.35,-378.36 867.79,-287.51 908.15,-254.6\"/>\n</g>\n<!-- 36&#45;&gt;45 -->\n<g id=\"edge346\" class=\"edge\">\n<title>36&#45;&gt;45</title>\n<path fill=\"none\" stroke=\"#707070\" d=\"M710.85,-407.43C731.91,-373.08 781.13,-292.84 802.17,-258.52\"/>\n</g>\n<!-- 36&#45;&gt;46 -->\n<g id=\"edge356\" class=\"edge\">\n<title>36&#45;&gt;46</title>\n<path fill=\"none\" stroke=\"#707070\" d=\"M701,-404.8C701,-370.03 701,-295.78 701,-261.08\"/>\n</g>\n<!-- 36&#45;&gt;47 -->\n<g id=\"edge366\" class=\"edge\">\n<title>36&#45;&gt;47</title>\n<path fill=\"none\" stroke=\"#707070\" d=\"M691.15,-407.43C670.09,-373.08 620.87,-292.84 599.83,-258.52\"/>\n</g>\n<!-- 36&#45;&gt;48 -->\n<g id=\"edge376\" class=\"edge\">\n<title>36&#45;&gt;48</title>\n<path fill=\"none\" stroke=\"#707070\" d=\"M686.09,-411.33C645.65,-378.36 534.21,-287.51 493.85,-254.6\"/>\n</g>\n<!-- 36&#45;&gt;49 -->\n<g id=\"edge386\" class=\"edge\">\n<title>36&#45;&gt;49</title>\n<path fill=\"none\" stroke=\"#707070\" d=\"M684.03,-414.27C626.91,-383.22 442.01,-282.72 384.94,-251.7\"/>\n</g>\n<!-- 36&#45;&gt;50 -->\n<g id=\"edge396\" class=\"edge\">\n<title>36&#45;&gt;50</title>\n<path fill=\"none\" stroke=\"#707070\" d=\"M683.04,-416.17C611.34,-386.94 345.93,-278.75 274.69,-249.71\"/>\n</g>\n<!-- 37&#45;&gt;41 -->\n<g id=\"edge307\" class=\"edge\">\n<title>37&#45;&gt;41</title>\n<path fill=\"none\" stroke=\"#707070\" d=\"M572.04,-416.17C500.34,-386.94 234.93,-278.75 163.69,-249.71\"/>\n</g>\n<!-- 37&#45;&gt;42 -->\n<g id=\"edge317\" class=\"edge\">\n<title>37&#45;&gt;42</title>\n<path fill=\"none\" stroke=\"#707070\" d=\"M571.53,-417.47C486.99,-389.9 137.35,-275.87 53.25,-248.45\"/>\n</g>\n<!-- 37&#45;&gt;43 -->\n<g id=\"edge327\" class=\"edge\">\n<title>37&#45;&gt;43</title>\n<path fill=\"none\" stroke=\"#707070\" d=\"M607.96,-416.17C679.66,-386.94 945.07,-278.75 1016.31,-249.71\"/>\n</g>\n<!-- 37&#45;&gt;44 -->\n<g id=\"edge337\" class=\"edge\">\n<title>37&#45;&gt;44</title>\n<path fill=\"none\" stroke=\"#707070\" d=\"M606.97,-414.27C664.09,-383.22 848.99,-282.72 906.06,-251.7\"/>\n</g>\n<!-- 37&#45;&gt;45 -->\n<g id=\"edge347\" class=\"edge\">\n<title>37&#45;&gt;45</title>\n<path fill=\"none\" stroke=\"#707070\" d=\"M604.91,-411.33C645.35,-378.36 756.79,-287.51 797.15,-254.6\"/>\n</g>\n<!-- 37&#45;&gt;46 -->\n<g id=\"edge357\" class=\"edge\">\n<title>37&#45;&gt;46</title>\n<path fill=\"none\" stroke=\"#707070\" d=\"M599.85,-407.43C620.91,-373.08 670.13,-292.84 691.17,-258.52\"/>\n</g>\n<!-- 37&#45;&gt;47 -->\n<g id=\"edge367\" class=\"edge\">\n<title>37&#45;&gt;47</title>\n<path fill=\"none\" stroke=\"#707070\" d=\"M590,-404.8C590,-370.03 590,-295.78 590,-261.08\"/>\n</g>\n<!-- 37&#45;&gt;48 -->\n<g id=\"edge377\" class=\"edge\">\n<title>37&#45;&gt;48</title>\n<path fill=\"none\" stroke=\"#707070\" d=\"M580.15,-407.43C559.09,-373.08 509.87,-292.84 488.83,-258.52\"/>\n</g>\n<!-- 37&#45;&gt;49 -->\n<g id=\"edge387\" class=\"edge\">\n<title>37&#45;&gt;49</title>\n<path fill=\"none\" stroke=\"#707070\" d=\"M575.09,-411.33C534.65,-378.36 423.21,-287.51 382.85,-254.6\"/>\n</g>\n<!-- 37&#45;&gt;50 -->\n<g id=\"edge397\" class=\"edge\">\n<title>37&#45;&gt;50</title>\n<path fill=\"none\" stroke=\"#707070\" d=\"M573.03,-414.27C515.91,-383.22 331.01,-282.72 273.94,-251.7\"/>\n</g>\n<!-- 38&#45;&gt;41 -->\n<g id=\"edge308\" class=\"edge\">\n<title>38&#45;&gt;41</title>\n<path fill=\"none\" stroke=\"#707070\" d=\"M462.03,-414.27C404.91,-383.22 220.01,-282.72 162.94,-251.7\"/>\n</g>\n<!-- 38&#45;&gt;42 -->\n<g id=\"edge318\" class=\"edge\">\n<title>38&#45;&gt;42</title>\n<path fill=\"none\" stroke=\"#707070\" d=\"M461.04,-416.17C389.34,-386.94 123.93,-278.75 52.69,-249.71\"/>\n</g>\n<!-- 38&#45;&gt;43 -->\n<g id=\"edge328\" class=\"edge\">\n<title>38&#45;&gt;43</title>\n<path fill=\"none\" stroke=\"#707070\" d=\"M497.47,-417.47C582.01,-389.9 931.65,-275.87 1015.75,-248.45\"/>\n</g>\n<!-- 38&#45;&gt;44 -->\n<g id=\"edge338\" class=\"edge\">\n<title>38&#45;&gt;44</title>\n<path fill=\"none\" stroke=\"#707070\" d=\"M496.96,-416.17C568.66,-386.94 834.07,-278.75 905.31,-249.71\"/>\n</g>\n<!-- 38&#45;&gt;45 -->\n<g id=\"edge348\" class=\"edge\">\n<title>38&#45;&gt;45</title>\n<path fill=\"none\" stroke=\"#707070\" d=\"M495.97,-414.27C553.09,-383.22 737.99,-282.72 795.06,-251.7\"/>\n</g>\n<!-- 38&#45;&gt;46 -->\n<g id=\"edge358\" class=\"edge\">\n<title>38&#45;&gt;46</title>\n<path fill=\"none\" stroke=\"#707070\" d=\"M493.91,-411.33C534.35,-378.36 645.79,-287.51 686.15,-254.6\"/>\n</g>\n<!-- 38&#45;&gt;47 -->\n<g id=\"edge368\" class=\"edge\">\n<title>38&#45;&gt;47</title>\n<path fill=\"none\" stroke=\"#707070\" d=\"M488.85,-407.43C509.91,-373.08 559.13,-292.84 580.17,-258.52\"/>\n</g>\n<!-- 38&#45;&gt;48 -->\n<g id=\"edge378\" class=\"edge\">\n<title>38&#45;&gt;48</title>\n<path fill=\"none\" stroke=\"#707070\" d=\"M479,-404.8C479,-370.03 479,-295.78 479,-261.08\"/>\n</g>\n<!-- 38&#45;&gt;49 -->\n<g id=\"edge388\" class=\"edge\">\n<title>38&#45;&gt;49</title>\n<path fill=\"none\" stroke=\"#707070\" d=\"M469.15,-407.43C448.09,-373.08 398.87,-292.84 377.83,-258.52\"/>\n</g>\n<!-- 38&#45;&gt;50 -->\n<g id=\"edge398\" class=\"edge\">\n<title>38&#45;&gt;50</title>\n<path fill=\"none\" stroke=\"#707070\" d=\"M464.09,-411.33C423.65,-378.36 312.21,-287.51 271.85,-254.6\"/>\n</g>\n<!-- 39&#45;&gt;41 -->\n<g id=\"edge309\" class=\"edge\">\n<title>39&#45;&gt;41</title>\n<path fill=\"none\" stroke=\"#707070\" d=\"M353.09,-411.33C312.65,-378.36 201.21,-287.51 160.85,-254.6\"/>\n</g>\n<!-- 39&#45;&gt;42 -->\n<g id=\"edge319\" class=\"edge\">\n<title>39&#45;&gt;42</title>\n<path fill=\"none\" stroke=\"#707070\" d=\"M351.03,-414.27C293.91,-383.22 109.01,-282.72 51.94,-251.7\"/>\n</g>\n<!-- 39&#45;&gt;43 -->\n<g id=\"edge329\" class=\"edge\">\n<title>39&#45;&gt;43</title>\n<path fill=\"none\" stroke=\"#707070\" d=\"M386.86,-418.37C483.18,-392.19 919.38,-273.65 1015.31,-247.58\"/>\n</g>\n<!-- 39&#45;&gt;44 -->\n<g id=\"edge339\" class=\"edge\">\n<title>39&#45;&gt;44</title>\n<path fill=\"none\" stroke=\"#707070\" d=\"M386.47,-417.47C471.01,-389.9 820.65,-275.87 904.75,-248.45\"/>\n</g>\n<!-- 39&#45;&gt;45 -->\n<g id=\"edge349\" class=\"edge\">\n<title>39&#45;&gt;45</title>\n<path fill=\"none\" stroke=\"#707070\" d=\"M385.96,-416.17C457.66,-386.94 723.07,-278.75 794.31,-249.71\"/>\n</g>\n<!-- 39&#45;&gt;46 -->\n<g id=\"edge359\" class=\"edge\">\n<title>39&#45;&gt;46</title>\n<path fill=\"none\" stroke=\"#707070\" d=\"M384.97,-414.27C442.09,-383.22 626.99,-282.72 684.06,-251.7\"/>\n</g>\n<!-- 39&#45;&gt;47 -->\n<g id=\"edge369\" class=\"edge\">\n<title>39&#45;&gt;47</title>\n<path fill=\"none\" stroke=\"#707070\" d=\"M382.91,-411.33C423.35,-378.36 534.79,-287.51 575.15,-254.6\"/>\n</g>\n<!-- 39&#45;&gt;48 -->\n<g id=\"edge379\" class=\"edge\">\n<title>39&#45;&gt;48</title>\n<path fill=\"none\" stroke=\"#707070\" d=\"M377.85,-407.43C398.91,-373.08 448.13,-292.84 469.17,-258.52\"/>\n</g>\n<!-- 39&#45;&gt;49 -->\n<g id=\"edge389\" class=\"edge\">\n<title>39&#45;&gt;49</title>\n<path fill=\"none\" stroke=\"#707070\" d=\"M368,-404.8C368,-370.03 368,-295.78 368,-261.08\"/>\n</g>\n<!-- 39&#45;&gt;50 -->\n<g id=\"edge399\" class=\"edge\">\n<title>39&#45;&gt;50</title>\n<path fill=\"none\" stroke=\"#707070\" d=\"M358.15,-407.43C337.09,-373.08 287.87,-292.84 266.83,-258.52\"/>\n</g>\n<!-- 40&#45;&gt;41 -->\n<g id=\"edge310\" class=\"edge\">\n<title>40&#45;&gt;41</title>\n<path fill=\"none\" stroke=\"#707070\" d=\"M247.15,-407.43C226.09,-373.08 176.87,-292.84 155.83,-258.52\"/>\n</g>\n<!-- 40&#45;&gt;42 -->\n<g id=\"edge320\" class=\"edge\">\n<title>40&#45;&gt;42</title>\n<path fill=\"none\" stroke=\"#707070\" d=\"M242.09,-411.33C201.65,-378.36 90.21,-287.51 49.85,-254.6\"/>\n</g>\n<!-- 40&#45;&gt;43 -->\n<g id=\"edge330\" class=\"edge\">\n<title>40&#45;&gt;43</title>\n<path fill=\"none\" stroke=\"#707070\" d=\"M275.82,-419.11C382.32,-394.3 908.33,-271.77 1015.08,-246.9\"/>\n</g>\n<!-- 40&#45;&gt;44 -->\n<g id=\"edge340\" class=\"edge\">\n<title>40&#45;&gt;44</title>\n<path fill=\"none\" stroke=\"#707070\" d=\"M275.86,-418.37C372.18,-392.19 808.38,-273.65 904.31,-247.58\"/>\n</g>\n<!-- 40&#45;&gt;45 -->\n<g id=\"edge350\" class=\"edge\">\n<title>40&#45;&gt;45</title>\n<path fill=\"none\" stroke=\"#707070\" d=\"M275.47,-417.47C360.01,-389.9 709.65,-275.87 793.75,-248.45\"/>\n</g>\n<!-- 40&#45;&gt;46 -->\n<g id=\"edge360\" class=\"edge\">\n<title>40&#45;&gt;46</title>\n<path fill=\"none\" stroke=\"#707070\" d=\"M274.96,-416.17C346.66,-386.94 612.07,-278.75 683.31,-249.71\"/>\n</g>\n<!-- 40&#45;&gt;47 -->\n<g id=\"edge370\" class=\"edge\">\n<title>40&#45;&gt;47</title>\n<path fill=\"none\" stroke=\"#707070\" d=\"M273.97,-414.27C331.09,-383.22 515.99,-282.72 573.06,-251.7\"/>\n</g>\n<!-- 40&#45;&gt;48 -->\n<g id=\"edge380\" class=\"edge\">\n<title>40&#45;&gt;48</title>\n<path fill=\"none\" stroke=\"#707070\" d=\"M271.91,-411.33C312.35,-378.36 423.79,-287.51 464.15,-254.6\"/>\n</g>\n<!-- 40&#45;&gt;49 -->\n<g id=\"edge390\" class=\"edge\">\n<title>40&#45;&gt;49</title>\n<path fill=\"none\" stroke=\"#707070\" d=\"M266.85,-407.43C287.91,-373.08 337.13,-292.84 358.17,-258.52\"/>\n</g>\n<!-- 40&#45;&gt;50 -->\n<g id=\"edge400\" class=\"edge\">\n<title>40&#45;&gt;50</title>\n<path fill=\"none\" stroke=\"#707070\" d=\"M257,-404.8C257,-370.03 257,-295.78 257,-261.08\"/>\n</g>\n<!-- 51 -->\n<g id=\"node51\" class=\"node\">\n<title>51</title>\n<ellipse fill=\"#e74c3c\" stroke=\"#e74c3c\" cx=\"534\" cy=\"-58.5\" rx=\"19.5\" ry=\"19.5\"/>\n<text text-anchor=\"middle\" x=\"534\" y=\"-54.8\" font-family=\"Times,serif\" font-size=\"14.00\" fill=\"#e74c3c\">51</text>\n</g>\n<!-- 41&#45;&gt;51 -->\n<g id=\"edge401\" class=\"edge\">\n<title>41&#45;&gt;51</title>\n<path fill=\"none\" stroke=\"#707070\" d=\"M163.43,-232.37C227.86,-202.31 452.26,-97.63 516.62,-67.6\"/>\n</g>\n<!-- 42&#45;&gt;51 -->\n<g id=\"edge402\" class=\"edge\">\n<title>42&#45;&gt;51</title>\n<path fill=\"none\" stroke=\"#707070\" d=\"M53.05,-233.95C130.98,-205.68 438.09,-94.29 515.97,-66.04\"/>\n</g>\n<!-- 43&#45;&gt;51 -->\n<g id=\"edge403\" class=\"edge\">\n<title>43&#45;&gt;51</title>\n<path fill=\"none\" stroke=\"#707070\" d=\"M1015.91,-233.95C937.82,-205.68 630.1,-94.29 552.07,-66.04\"/>\n</g>\n<!-- 44&#45;&gt;51 -->\n<g id=\"edge404\" class=\"edge\">\n<title>44&#45;&gt;51</title>\n<path fill=\"none\" stroke=\"#707070\" d=\"M905.53,-232.37C840.92,-202.31 615.95,-97.63 551.42,-67.6\"/>\n</g>\n<!-- 45&#45;&gt;51 -->\n<g id=\"edge405\" class=\"edge\">\n<title>45&#45;&gt;51</title>\n<path fill=\"none\" stroke=\"#707070\" d=\"M795.85,-229.98C746.72,-197.99 599.39,-102.07 550.19,-70.04\"/>\n</g>\n<!-- 46&#45;&gt;51 -->\n<g id=\"edge406\" class=\"edge\">\n<title>46&#45;&gt;51</title>\n<path fill=\"none\" stroke=\"#707070\" d=\"M688.17,-226.59C657.09,-192.9 578,-107.19 546.87,-73.45\"/>\n</g>\n<!-- 47&#45;&gt;51 -->\n<g id=\"edge407\" class=\"edge\">\n<title>47&#45;&gt;51</title>\n<path fill=\"none\" stroke=\"#707070\" d=\"M584.43,-222.48C573.69,-187.79 550.27,-112.08 539.55,-77.44\"/>\n</g>\n<!-- 48&#45;&gt;51 -->\n<g id=\"edge408\" class=\"edge\">\n<title>48&#45;&gt;51</title>\n<path fill=\"none\" stroke=\"#707070\" d=\"M484.47,-222.48C495.02,-187.79 518.02,-112.08 528.55,-77.44\"/>\n</g>\n<!-- 49&#45;&gt;51 -->\n<g id=\"edge409\" class=\"edge\">\n<title>49&#45;&gt;51</title>\n<path fill=\"none\" stroke=\"#707070\" d=\"M380.75,-226.59C411.65,-192.9 490.26,-107.19 521.21,-73.45\"/>\n</g>\n<!-- 50&#45;&gt;51 -->\n<g id=\"edge410\" class=\"edge\">\n<title>50&#45;&gt;51</title>\n<path fill=\"none\" stroke=\"#707070\" d=\"M273.09,-229.98C322.05,-197.99 468.85,-102.07 517.87,-70.04\"/>\n</g>\n</g>\n</svg>\n",
            "text/plain": [
              "<graphviz.sources.Source at 0x7b7e8be2ff10>"
            ]
          },
          "metadata": {},
          "execution_count": 21
        }
      ]
    },
    {
      "cell_type": "code",
      "source": [
        "test_results = model.evaluate(test_set_x, test_set_y)\n"
      ],
      "metadata": {
        "colab": {
          "base_uri": "https://localhost:8080/"
        },
        "id": "KcDXoB9hAKBC",
        "outputId": "09dffb89-15cc-4cfc-9016-aa1247aee511"
      },
      "execution_count": 22,
      "outputs": [
        {
          "output_type": "stream",
          "name": "stdout",
          "text": [
            "4/4 [==============================] - 0s 4ms/step - loss: 42.6408 - mae: 5.2315\n"
          ]
        }
      ]
    },
    {
      "cell_type": "code",
      "source": [
        "predicted_results = model.predict(test_set_x)\n"
      ],
      "metadata": {
        "colab": {
          "base_uri": "https://localhost:8080/"
        },
        "id": "CUmX8Q49ANnv",
        "outputId": "8225f88e-75cd-4eeb-dba4-3f58b076d2c6"
      },
      "execution_count": 23,
      "outputs": [
        {
          "output_type": "stream",
          "name": "stdout",
          "text": [
            "4/4 [==============================] - 0s 4ms/step\n"
          ]
        }
      ]
    },
    {
      "cell_type": "code",
      "source": [
        "\n",
        "for i in range(len(predicted_results)):\n",
        "  print(f\"Predicted: {predicted_results[i]}, Actual: {test_set_y[i]}\")"
      ],
      "metadata": {
        "colab": {
          "base_uri": "https://localhost:8080/"
        },
        "id": "rqefG_nEAQYp",
        "outputId": "19d30a3f-5953-446e-bc4c-bc01ff52e39d"
      },
      "execution_count": 24,
      "outputs": [
        {
          "output_type": "stream",
          "name": "stdout",
          "text": [
            "Predicted: [8.627212], Actual: 7.2\n",
            "Predicted: [14.172655], Actual: 18.8\n",
            "Predicted: [17.114515], Actual: 19.0\n",
            "Predicted: [26.41555], Actual: 27.0\n",
            "Predicted: [18.7302], Actual: 22.2\n",
            "Predicted: [15.555361], Actual: 24.5\n",
            "Predicted: [24.855875], Actual: 31.2\n",
            "Predicted: [17.658638], Actual: 22.9\n",
            "Predicted: [15.376965], Actual: 20.5\n",
            "Predicted: [16.354225], Actual: 23.2\n",
            "Predicted: [11.792181], Actual: 18.6\n",
            "Predicted: [13.599621], Actual: 14.5\n",
            "Predicted: [14.117223], Actual: 17.8\n",
            "Predicted: [37.208584], Actual: 50.0\n",
            "Predicted: [11.700024], Actual: 20.8\n",
            "Predicted: [16.170408], Actual: 24.3\n",
            "Predicted: [21.034548], Actual: 24.2\n",
            "Predicted: [17.350042], Actual: 19.8\n",
            "Predicted: [13.417343], Actual: 19.1\n",
            "Predicted: [27.016264], Actual: 22.7\n",
            "Predicted: [8.850859], Actual: 12.0\n",
            "Predicted: [9.885173], Actual: 10.2\n",
            "Predicted: [15.315212], Actual: 20.0\n",
            "Predicted: [11.595598], Actual: 18.5\n",
            "Predicted: [17.551222], Actual: 20.9\n",
            "Predicted: [18.647049], Actual: 23.0\n",
            "Predicted: [26.01666], Actual: 27.5\n",
            "Predicted: [21.961472], Actual: 30.1\n",
            "Predicted: [9.821458], Actual: 9.5\n",
            "Predicted: [16.988464], Actual: 22.0\n",
            "Predicted: [15.92253], Actual: 21.2\n",
            "Predicted: [10.636122], Actual: 14.1\n",
            "Predicted: [30.76182], Actual: 33.1\n",
            "Predicted: [19.695107], Actual: 23.4\n",
            "Predicted: [9.365826], Actual: 20.1\n",
            "Predicted: [6.313938], Actual: 7.4\n",
            "Predicted: [10.98904], Actual: 15.4\n",
            "Predicted: [11.31427], Actual: 23.8\n",
            "Predicted: [15.423532], Actual: 20.1\n",
            "Predicted: [22.155329], Actual: 24.5\n",
            "Predicted: [22.852924], Actual: 33.0\n",
            "Predicted: [21.774288], Actual: 28.4\n",
            "Predicted: [9.290689], Actual: 14.1\n",
            "Predicted: [38.529205], Actual: 46.7\n",
            "Predicted: [23.987522], Actual: 32.5\n",
            "Predicted: [18.50451], Actual: 29.6\n",
            "Predicted: [21.30782], Actual: 28.4\n",
            "Predicted: [13.752651], Actual: 19.8\n",
            "Predicted: [17.82965], Actual: 20.2\n",
            "Predicted: [17.937204], Actual: 25.0\n",
            "Predicted: [28.983425], Actual: 35.4\n",
            "Predicted: [15.152643], Actual: 20.3\n",
            "Predicted: [8.923409], Actual: 9.7\n",
            "Predicted: [12.862968], Actual: 14.5\n",
            "Predicted: [33.13593], Actual: 34.9\n",
            "Predicted: [22.07364], Actual: 26.6\n",
            "Predicted: [7.3243256], Actual: 7.2\n",
            "Predicted: [45.090767], Actual: 50.0\n",
            "Predicted: [31.861032], Actual: 32.4\n",
            "Predicted: [18.676172], Actual: 21.6\n",
            "Predicted: [18.652468], Actual: 29.8\n",
            "Predicted: [10.49024], Actual: 13.1\n",
            "Predicted: [9.619458], Actual: 27.5\n",
            "Predicted: [14.978247], Actual: 21.2\n",
            "Predicted: [18.912027], Actual: 23.1\n",
            "Predicted: [18.960608], Actual: 21.9\n",
            "Predicted: [9.433478], Actual: 13.0\n",
            "Predicted: [19.06998], Actual: 23.2\n",
            "Predicted: [11.554905], Actual: 8.1\n",
            "Predicted: [5.4637527], Actual: 5.6\n",
            "Predicted: [26.247154], Actual: 21.7\n",
            "Predicted: [23.940058], Actual: 29.6\n",
            "Predicted: [19.032951], Actual: 19.6\n",
            "Predicted: [12.045508], Actual: 7.0\n",
            "Predicted: [21.368896], Actual: 26.4\n",
            "Predicted: [14.660837], Actual: 18.9\n",
            "Predicted: [16.374126], Actual: 20.9\n",
            "Predicted: [19.384314], Actual: 28.1\n",
            "Predicted: [31.067884], Actual: 35.4\n",
            "Predicted: [8.783014], Actual: 10.2\n",
            "Predicted: [15.513206], Actual: 24.3\n",
            "Predicted: [33.873707], Actual: 43.1\n",
            "Predicted: [12.2447815], Actual: 17.6\n",
            "Predicted: [8.814931], Actual: 15.4\n",
            "Predicted: [13.929086], Actual: 16.2\n",
            "Predicted: [14.299133], Actual: 27.1\n",
            "Predicted: [10.724342], Actual: 21.4\n",
            "Predicted: [17.149797], Actual: 21.5\n",
            "Predicted: [18.090069], Actual: 22.4\n",
            "Predicted: [26.38693], Actual: 25.0\n",
            "Predicted: [15.055492], Actual: 16.6\n",
            "Predicted: [16.263014], Actual: 18.6\n",
            "Predicted: [20.547113], Actual: 22.0\n",
            "Predicted: [34.323277], Actual: 42.8\n",
            "Predicted: [31.784695], Actual: 35.1\n",
            "Predicted: [15.084097], Actual: 21.5\n",
            "Predicted: [31.107555], Actual: 36.0\n",
            "Predicted: [47.337788], Actual: 21.9\n",
            "Predicted: [21.262814], Actual: 24.1\n",
            "Predicted: [41.874233], Actual: 50.0\n",
            "Predicted: [27.418283], Actual: 26.7\n",
            "Predicted: [13.494843], Actual: 25.0\n"
          ]
        }
      ]
    },
    {
      "cell_type": "code",
      "source": [],
      "metadata": {
        "id": "4dQtksmfASaS"
      },
      "execution_count": null,
      "outputs": []
    }
  ]
}