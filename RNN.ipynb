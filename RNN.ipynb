{
  "nbformat": 4,
  "nbformat_minor": 0,
  "metadata": {
    "colab": {
      "provenance": [],
      "authorship_tag": "ABX9TyM/TBLxPAot+DbAlsLZ24eE",
      "include_colab_link": true
    },
    "kernelspec": {
      "name": "python3",
      "display_name": "Python 3"
    },
    "language_info": {
      "name": "python"
    }
  },
  "cells": [
    {
      "cell_type": "markdown",
      "metadata": {
        "id": "view-in-github",
        "colab_type": "text"
      },
      "source": [
        "<a href=\"https://colab.research.google.com/github/Siddharth131020/Machine-learning/blob/main/RNN.ipynb\" target=\"_parent\"><img src=\"https://colab.research.google.com/assets/colab-badge.svg\" alt=\"Open In Colab\"/></a>"
      ]
    },
    {
      "cell_type": "code",
      "execution_count": 1,
      "metadata": {
        "id": "5xolw9bx8urI"
      },
      "outputs": [],
      "source": [
        "import tensorflow as tf\n",
        "import numpy as np\n",
        "from keras.datasets import imdb\n",
        "from keras.models import Sequential\n",
        "from keras.layers import Dense\n",
        "from keras.layers import SimpleRNN\n",
        "from keras.layers import Embedding\n",
        "from keras.preprocessing import sequence\n",
        ""
      ]
    },
    {
      "cell_type": "code",
      "source": [
        "(X_train, Y_train), (X_test, Y_test) = imdb.load_data(num_words=5000)\n"
      ],
      "metadata": {
        "colab": {
          "base_uri": "https://localhost:8080/"
        },
        "id": "by9H9OqZ8yUL",
        "outputId": "b3b597ce-c812-41df-af04-dcbf4a573371"
      },
      "execution_count": 2,
      "outputs": [
        {
          "output_type": "stream",
          "name": "stdout",
          "text": [
            "Downloading data from https://storage.googleapis.com/tensorflow/tf-keras-datasets/imdb.npz\n",
            "17464789/17464789 [==============================] - 1s 0us/step\n"
          ]
        }
      ]
    },
    {
      "cell_type": "code",
      "source": [
        "print(X_train.shape, X_test.shape, Y_train.shape, Y_test.shape)\n"
      ],
      "metadata": {
        "colab": {
          "base_uri": "https://localhost:8080/"
        },
        "id": "UC431-Jc80Tl",
        "outputId": "edcd361e-988e-4e9d-8165-0905ea480ff8"
      },
      "execution_count": 3,
      "outputs": [
        {
          "output_type": "stream",
          "name": "stdout",
          "text": [
            "(25000,) (25000,) (25000,) (25000,)\n"
          ]
        }
      ]
    },
    {
      "cell_type": "code",
      "source": [
        "len(X_train[100])\n"
      ],
      "metadata": {
        "colab": {
          "base_uri": "https://localhost:8080/"
        },
        "id": "A9_iRlag81tG",
        "outputId": "cddcadc6-af9f-44b6-a3af-ef4a74e2961e"
      },
      "execution_count": 4,
      "outputs": [
        {
          "output_type": "execute_result",
          "data": {
            "text/plain": [
              "158"
            ]
          },
          "metadata": {},
          "execution_count": 4
        }
      ]
    },
    {
      "cell_type": "code",
      "source": [
        "\n",
        "X_train = sequence.pad_sequences(X_train, maxlen=500)\n",
        "X_test = sequence.pad_sequences(X_test, maxlen=500)"
      ],
      "metadata": {
        "id": "ADxZqC7f83Dx"
      },
      "execution_count": 5,
      "outputs": []
    },
    {
      "cell_type": "code",
      "source": [
        "print(X_train.shape, X_test.shape)\n"
      ],
      "metadata": {
        "colab": {
          "base_uri": "https://localhost:8080/"
        },
        "id": "yyq8lGzU84mc",
        "outputId": "79f48d22-e77e-488d-eb61-6324f13c5bfd"
      },
      "execution_count": 6,
      "outputs": [
        {
          "output_type": "stream",
          "name": "stdout",
          "text": [
            "(25000, 500) (25000, 500)\n"
          ]
        }
      ]
    },
    {
      "cell_type": "code",
      "source": [
        "embedding_vector_length = 32\n",
        "model = Sequential()"
      ],
      "metadata": {
        "id": "AnqNv8I086kE"
      },
      "execution_count": 7,
      "outputs": []
    },
    {
      "cell_type": "code",
      "source": [
        "model.add(Embedding(5000, embedding_vector_length, input_length=500))\n",
        "model.add(SimpleRNN(100, dropout=0.2, recurrent_dropout=0.2))\n",
        "model.add(Dense(1, activation='sigmoid'))\n",
        "model.compile(loss = 'binary_crossentropy', optimizer = 'adam', metrics = ['accuracy'])\n",
        ""
      ],
      "metadata": {
        "id": "SmRBE1ee879T"
      },
      "execution_count": 8,
      "outputs": []
    },
    {
      "cell_type": "code",
      "source": [
        "model.summary()\n"
      ],
      "metadata": {
        "colab": {
          "base_uri": "https://localhost:8080/"
        },
        "id": "RUqFIv5489is",
        "outputId": "ec484369-d69a-469e-d932-7d83ba616b66"
      },
      "execution_count": 9,
      "outputs": [
        {
          "output_type": "stream",
          "name": "stdout",
          "text": [
            "Model: \"sequential\"\n",
            "_________________________________________________________________\n",
            " Layer (type)                Output Shape              Param #   \n",
            "=================================================================\n",
            " embedding (Embedding)       (None, 500, 32)           160000    \n",
            "                                                                 \n",
            " simple_rnn (SimpleRNN)      (None, 100)               13300     \n",
            "                                                                 \n",
            " dense (Dense)               (None, 1)                 101       \n",
            "                                                                 \n",
            "=================================================================\n",
            "Total params: 173401 (677.35 KB)\n",
            "Trainable params: 173401 (677.35 KB)\n",
            "Non-trainable params: 0 (0.00 Byte)\n",
            "_________________________________________________________________\n"
          ]
        }
      ]
    },
    {
      "cell_type": "code",
      "source": [
        "model.fit(X_train, Y_train, epochs=60, batch_size=64)\n"
      ],
      "metadata": {
        "colab": {
          "base_uri": "https://localhost:8080/"
        },
        "id": "nT0EqIVs8-2Z",
        "outputId": "436e8c2d-a1e6-4884-ec26-db9322600a53"
      },
      "execution_count": 10,
      "outputs": [
        {
          "output_type": "stream",
          "name": "stdout",
          "text": [
            "Epoch 1/60\n",
            "391/391 [==============================] - 112s 281ms/step - loss: 0.7036 - accuracy: 0.5106\n",
            "Epoch 2/60\n",
            "391/391 [==============================] - 109s 279ms/step - loss: 0.6768 - accuracy: 0.5626\n",
            "Epoch 3/60\n",
            "391/391 [==============================] - 109s 278ms/step - loss: 0.6878 - accuracy: 0.5381\n",
            "Epoch 4/60\n",
            "391/391 [==============================] - 109s 279ms/step - loss: 0.6848 - accuracy: 0.5485\n",
            "Epoch 5/60\n",
            "391/391 [==============================] - 110s 280ms/step - loss: 0.6755 - accuracy: 0.5694\n",
            "Epoch 6/60\n",
            "391/391 [==============================] - 108s 277ms/step - loss: 0.6648 - accuracy: 0.5869\n",
            "Epoch 7/60\n",
            "391/391 [==============================] - 110s 281ms/step - loss: 0.6320 - accuracy: 0.6300\n",
            "Epoch 8/60\n",
            "391/391 [==============================] - 110s 280ms/step - loss: 0.6005 - accuracy: 0.6636\n",
            "Epoch 9/60\n",
            "391/391 [==============================] - 108s 277ms/step - loss: 0.5641 - accuracy: 0.6987\n",
            "Epoch 10/60\n",
            "391/391 [==============================] - 109s 279ms/step - loss: 0.5613 - accuracy: 0.7050\n",
            "Epoch 11/60\n",
            "391/391 [==============================] - 108s 277ms/step - loss: 0.5372 - accuracy: 0.7263\n",
            "Epoch 12/60\n",
            "391/391 [==============================] - 109s 279ms/step - loss: 0.5357 - accuracy: 0.7272\n",
            "Epoch 13/60\n",
            "391/391 [==============================] - 108s 277ms/step - loss: 0.4822 - accuracy: 0.7720\n",
            "Epoch 14/60\n",
            "391/391 [==============================] - 109s 278ms/step - loss: 0.5638 - accuracy: 0.7001\n",
            "Epoch 15/60\n",
            "391/391 [==============================] - 109s 278ms/step - loss: 0.5981 - accuracy: 0.6614\n",
            "Epoch 16/60\n",
            "391/391 [==============================] - 108s 276ms/step - loss: 0.5906 - accuracy: 0.6685\n",
            "Epoch 17/60\n",
            "391/391 [==============================] - 109s 279ms/step - loss: 0.5855 - accuracy: 0.6752\n",
            "Epoch 18/60\n",
            "391/391 [==============================] - 108s 276ms/step - loss: 0.5788 - accuracy: 0.6781\n",
            "Epoch 19/60\n",
            "391/391 [==============================] - 109s 278ms/step - loss: 0.5766 - accuracy: 0.6804\n",
            "Epoch 20/60\n",
            "391/391 [==============================] - 106s 272ms/step - loss: 0.5770 - accuracy: 0.6823\n",
            "Epoch 21/60\n",
            "391/391 [==============================] - 106s 272ms/step - loss: 0.5791 - accuracy: 0.6782\n",
            "Epoch 22/60\n",
            "391/391 [==============================] - 106s 271ms/step - loss: 0.5777 - accuracy: 0.6784\n",
            "Epoch 23/60\n",
            "391/391 [==============================] - 106s 271ms/step - loss: 0.5769 - accuracy: 0.6784\n",
            "Epoch 24/60\n",
            "391/391 [==============================] - 107s 273ms/step - loss: 0.5767 - accuracy: 0.6786\n",
            "Epoch 25/60\n",
            "391/391 [==============================] - 106s 272ms/step - loss: 0.5767 - accuracy: 0.6790\n",
            "Epoch 26/60\n",
            "391/391 [==============================] - 106s 272ms/step - loss: 0.5807 - accuracy: 0.6745\n",
            "Epoch 27/60\n",
            "391/391 [==============================] - 106s 271ms/step - loss: 0.5780 - accuracy: 0.6745\n",
            "Epoch 28/60\n",
            "391/391 [==============================] - 106s 271ms/step - loss: 0.5765 - accuracy: 0.6728\n",
            "Epoch 29/60\n",
            "391/391 [==============================] - 106s 272ms/step - loss: 0.5763 - accuracy: 0.6786\n",
            "Epoch 30/60\n",
            "391/391 [==============================] - 106s 272ms/step - loss: 0.5721 - accuracy: 0.6808\n",
            "Epoch 31/60\n",
            "391/391 [==============================] - 106s 271ms/step - loss: 0.5674 - accuracy: 0.6818\n",
            "Epoch 32/60\n",
            "391/391 [==============================] - 106s 271ms/step - loss: 0.5651 - accuracy: 0.6838\n",
            "Epoch 33/60\n",
            "391/391 [==============================] - 106s 271ms/step - loss: 0.5603 - accuracy: 0.6858\n",
            "Epoch 34/60\n",
            "391/391 [==============================] - 106s 271ms/step - loss: 0.5560 - accuracy: 0.6913\n",
            "Epoch 35/60\n",
            "391/391 [==============================] - 106s 271ms/step - loss: 0.5520 - accuracy: 0.6956\n",
            "Epoch 36/60\n",
            "391/391 [==============================] - 106s 271ms/step - loss: 0.5485 - accuracy: 0.6994\n",
            "Epoch 37/60\n",
            "391/391 [==============================] - 106s 272ms/step - loss: 0.5488 - accuracy: 0.7006\n",
            "Epoch 38/60\n",
            "391/391 [==============================] - 106s 272ms/step - loss: 0.5492 - accuracy: 0.7020\n",
            "Epoch 39/60\n",
            "391/391 [==============================] - 106s 272ms/step - loss: 0.5400 - accuracy: 0.7073\n",
            "Epoch 40/60\n",
            "391/391 [==============================] - 106s 271ms/step - loss: 0.5347 - accuracy: 0.7126\n",
            "Epoch 41/60\n",
            "391/391 [==============================] - 106s 272ms/step - loss: 0.5265 - accuracy: 0.7203\n",
            "Epoch 42/60\n",
            "391/391 [==============================] - 106s 271ms/step - loss: 0.5340 - accuracy: 0.7171\n",
            "Epoch 43/60\n",
            "391/391 [==============================] - 106s 271ms/step - loss: 0.5224 - accuracy: 0.7284\n",
            "Epoch 44/60\n",
            "391/391 [==============================] - 106s 271ms/step - loss: 0.5146 - accuracy: 0.7332\n",
            "Epoch 45/60\n",
            "391/391 [==============================] - 106s 271ms/step - loss: 0.5083 - accuracy: 0.7390\n",
            "Epoch 46/60\n",
            "391/391 [==============================] - 106s 271ms/step - loss: 0.4994 - accuracy: 0.7484\n",
            "Epoch 47/60\n",
            "391/391 [==============================] - 106s 272ms/step - loss: 0.4904 - accuracy: 0.7549\n",
            "Epoch 48/60\n",
            "391/391 [==============================] - 107s 273ms/step - loss: 0.4818 - accuracy: 0.7648\n",
            "Epoch 49/60\n",
            "391/391 [==============================] - 107s 273ms/step - loss: 0.4728 - accuracy: 0.7714\n",
            "Epoch 50/60\n",
            "391/391 [==============================] - 107s 273ms/step - loss: 0.4616 - accuracy: 0.7798\n",
            "Epoch 51/60\n",
            "391/391 [==============================] - 106s 272ms/step - loss: 0.4483 - accuracy: 0.7886\n",
            "Epoch 52/60\n",
            "391/391 [==============================] - 106s 272ms/step - loss: 0.4408 - accuracy: 0.7953\n",
            "Epoch 53/60\n",
            "391/391 [==============================] - 106s 272ms/step - loss: 0.4347 - accuracy: 0.7954\n",
            "Epoch 54/60\n",
            "391/391 [==============================] - 107s 273ms/step - loss: 0.4219 - accuracy: 0.8077\n",
            "Epoch 55/60\n",
            "391/391 [==============================] - 107s 272ms/step - loss: 0.4068 - accuracy: 0.8146\n",
            "Epoch 56/60\n",
            "391/391 [==============================] - 106s 272ms/step - loss: 0.4029 - accuracy: 0.8179\n",
            "Epoch 57/60\n",
            "391/391 [==============================] - 106s 272ms/step - loss: 0.3934 - accuracy: 0.8269\n",
            "Epoch 58/60\n",
            "391/391 [==============================] - 106s 271ms/step - loss: 0.3837 - accuracy: 0.8283\n",
            "Epoch 59/60\n",
            "391/391 [==============================] - 106s 271ms/step - loss: 0.4305 - accuracy: 0.7988\n",
            "Epoch 60/60\n",
            "391/391 [==============================] - 107s 272ms/step - loss: 0.3957 - accuracy: 0.8244\n"
          ]
        },
        {
          "output_type": "execute_result",
          "data": {
            "text/plain": [
              "<keras.src.callbacks.History at 0x7adc8a738d30>"
            ]
          },
          "metadata": {},
          "execution_count": 10
        }
      ]
    },
    {
      "cell_type": "code",
      "source": [
        "test_results = model.evaluate(X_test, Y_test)\n"
      ],
      "metadata": {
        "colab": {
          "base_uri": "https://localhost:8080/"
        },
        "id": "60KPF6r69C9o",
        "outputId": "34671a59-10cb-4a7a-945a-719ab3ea7f82"
      },
      "execution_count": 11,
      "outputs": [
        {
          "output_type": "stream",
          "name": "stdout",
          "text": [
            "782/782 [==============================] - 29s 37ms/step - loss: 0.5735 - accuracy: 0.7470\n"
          ]
        }
      ]
    },
    {
      "cell_type": "code",
      "source": [
        "print(\"Accuracy: \", (test_results[1]*100))\n"
      ],
      "metadata": {
        "colab": {
          "base_uri": "https://localhost:8080/"
        },
        "id": "PwDmVZenayBT",
        "outputId": "985aa804-9cd9-4220-f5f5-df34bd15e7d0"
      },
      "execution_count": 12,
      "outputs": [
        {
          "output_type": "stream",
          "name": "stdout",
          "text": [
            "Accuracy:  74.69599843025208\n"
          ]
        }
      ]
    },
    {
      "cell_type": "code",
      "source": [],
      "metadata": {
        "id": "7UaXE2D6a88n"
      },
      "execution_count": null,
      "outputs": []
    }
  ]
}